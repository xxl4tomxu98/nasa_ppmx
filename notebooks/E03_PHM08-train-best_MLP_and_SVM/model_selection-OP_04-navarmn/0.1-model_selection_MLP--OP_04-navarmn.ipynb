{
 "cells": [
  {
   "cell_type": "code",
   "execution_count": 1,
   "metadata": {},
   "outputs": [],
   "source": [
    "import pandas as pd\n",
    "import numpy as np\n",
    "import matplotlib.pyplot as plt\n",
    "from sklearn import preprocessing\n",
    "from sklearn import metrics\n",
    "\n",
    "import os, sys\n",
    "from time import time\n",
    "\n",
    "from phm08ds.models import experiment"
   ]
  },
  {
   "cell_type": "markdown",
   "metadata": {},
   "source": [
    "## Load Dataset"
   ]
  },
  {
   "cell_type": "code",
   "execution_count": 2,
   "metadata": {},
   "outputs": [
    {
     "data": {
      "text/html": [
       "<div>\n",
       "<style scoped>\n",
       "    .dataframe tbody tr th:only-of-type {\n",
       "        vertical-align: middle;\n",
       "    }\n",
       "\n",
       "    .dataframe tbody tr th {\n",
       "        vertical-align: top;\n",
       "    }\n",
       "\n",
       "    .dataframe thead th {\n",
       "        text-align: right;\n",
       "    }\n",
       "</style>\n",
       "<table border=\"1\" class=\"dataframe\">\n",
       "  <thead>\n",
       "    <tr style=\"text-align: right;\">\n",
       "      <th></th>\n",
       "      <th>unit</th>\n",
       "      <th>time_step</th>\n",
       "      <th>operational_setting_1</th>\n",
       "      <th>operational_setting_2</th>\n",
       "      <th>operational_setting_3</th>\n",
       "      <th>Sensor_2</th>\n",
       "      <th>Sensor_3</th>\n",
       "      <th>Sensor_4</th>\n",
       "      <th>Sensor_7</th>\n",
       "      <th>Sensor_11</th>\n",
       "      <th>Sensor_12</th>\n",
       "      <th>Sensor_15</th>\n",
       "      <th>Operational_condition</th>\n",
       "      <th>Health_state</th>\n",
       "    </tr>\n",
       "  </thead>\n",
       "  <tbody>\n",
       "    <tr>\n",
       "      <th>4</th>\n",
       "      <td>1</td>\n",
       "      <td>5</td>\n",
       "      <td>42.0041</td>\n",
       "      <td>0.8405</td>\n",
       "      <td>40.0</td>\n",
       "      <td>1354.48</td>\n",
       "      <td>1124.32</td>\n",
       "      <td>3.91</td>\n",
       "      <td>2211.80</td>\n",
       "      <td>130.44</td>\n",
       "      <td>2387.89</td>\n",
       "      <td>0.02</td>\n",
       "      <td>4</td>\n",
       "      <td>1</td>\n",
       "    </tr>\n",
       "    <tr>\n",
       "      <th>6</th>\n",
       "      <td>1</td>\n",
       "      <td>7</td>\n",
       "      <td>41.9998</td>\n",
       "      <td>0.8400</td>\n",
       "      <td>40.0</td>\n",
       "      <td>1354.43</td>\n",
       "      <td>1131.44</td>\n",
       "      <td>3.91</td>\n",
       "      <td>2211.82</td>\n",
       "      <td>130.16</td>\n",
       "      <td>2387.88</td>\n",
       "      <td>0.02</td>\n",
       "      <td>4</td>\n",
       "      <td>1</td>\n",
       "    </tr>\n",
       "    <tr>\n",
       "      <th>9</th>\n",
       "      <td>1</td>\n",
       "      <td>10</td>\n",
       "      <td>42.0066</td>\n",
       "      <td>0.8400</td>\n",
       "      <td>40.0</td>\n",
       "      <td>1353.19</td>\n",
       "      <td>1125.09</td>\n",
       "      <td>3.91</td>\n",
       "      <td>2211.84</td>\n",
       "      <td>130.32</td>\n",
       "      <td>2387.91</td>\n",
       "      <td>0.02</td>\n",
       "      <td>4</td>\n",
       "      <td>1</td>\n",
       "    </tr>\n",
       "    <tr>\n",
       "      <th>12</th>\n",
       "      <td>1</td>\n",
       "      <td>13</td>\n",
       "      <td>42.0029</td>\n",
       "      <td>0.8409</td>\n",
       "      <td>40.0</td>\n",
       "      <td>1350.90</td>\n",
       "      <td>1123.53</td>\n",
       "      <td>3.91</td>\n",
       "      <td>2211.78</td>\n",
       "      <td>130.60</td>\n",
       "      <td>2387.88</td>\n",
       "      <td>0.02</td>\n",
       "      <td>4</td>\n",
       "      <td>1</td>\n",
       "    </tr>\n",
       "    <tr>\n",
       "      <th>20</th>\n",
       "      <td>1</td>\n",
       "      <td>21</td>\n",
       "      <td>42.0030</td>\n",
       "      <td>0.8404</td>\n",
       "      <td>40.0</td>\n",
       "      <td>1349.16</td>\n",
       "      <td>1117.33</td>\n",
       "      <td>3.91</td>\n",
       "      <td>2211.82</td>\n",
       "      <td>130.48</td>\n",
       "      <td>2387.90</td>\n",
       "      <td>0.02</td>\n",
       "      <td>4</td>\n",
       "      <td>1</td>\n",
       "    </tr>\n",
       "  </tbody>\n",
       "</table>\n",
       "</div>"
      ],
      "text/plain": [
       "    unit  time_step  operational_setting_1  operational_setting_2  \\\n",
       "4      1          5                42.0041                 0.8405   \n",
       "6      1          7                41.9998                 0.8400   \n",
       "9      1         10                42.0066                 0.8400   \n",
       "12     1         13                42.0029                 0.8409   \n",
       "20     1         21                42.0030                 0.8404   \n",
       "\n",
       "    operational_setting_3  Sensor_2  Sensor_3  Sensor_4  Sensor_7  Sensor_11  \\\n",
       "4                    40.0   1354.48   1124.32      3.91   2211.80     130.44   \n",
       "6                    40.0   1354.43   1131.44      3.91   2211.82     130.16   \n",
       "9                    40.0   1353.19   1125.09      3.91   2211.84     130.32   \n",
       "12                   40.0   1350.90   1123.53      3.91   2211.78     130.60   \n",
       "20                   40.0   1349.16   1117.33      3.91   2211.82     130.48   \n",
       "\n",
       "    Sensor_12  Sensor_15  Operational_condition  Health_state  \n",
       "4     2387.89       0.02                      4             1  \n",
       "6     2387.88       0.02                      4             1  \n",
       "9     2387.91       0.02                      4             1  \n",
       "12    2387.88       0.02                      4             1  \n",
       "20    2387.90       0.02                      4             1  "
      ]
     },
     "execution_count": 2,
     "metadata": {},
     "output_type": "execute_result"
    }
   ],
   "source": [
    "folderpath = '../../../data/interim/'\n",
    "data_op_04 = pd.read_csv(folderpath + 'data_op_04.csv')\n",
    "data_op_04.head()"
   ]
  },
  {
   "cell_type": "markdown",
   "metadata": {},
   "source": [
    "## Data preprocessing"
   ]
  },
  {
   "cell_type": "markdown",
   "metadata": {},
   "source": [
    "### Get rid of informations there are not sensor readings"
   ]
  },
  {
   "cell_type": "markdown",
   "metadata": {},
   "source": [
    "Wang (2008) reports Sensor 15 has importat information. However, there are no relevant informations of this sensor. The data seems to be corrupted like this:"
   ]
  },
  {
   "cell_type": "markdown",
   "metadata": {},
   "source": [
    "Let's remove it from our database creating an object transformer."
   ]
  },
  {
   "cell_type": "code",
   "execution_count": 3,
   "metadata": {},
   "outputs": [
    {
     "data": {
      "text/html": [
       "<div>\n",
       "<style scoped>\n",
       "    .dataframe tbody tr th:only-of-type {\n",
       "        vertical-align: middle;\n",
       "    }\n",
       "\n",
       "    .dataframe tbody tr th {\n",
       "        vertical-align: top;\n",
       "    }\n",
       "\n",
       "    .dataframe thead th {\n",
       "        text-align: right;\n",
       "    }\n",
       "</style>\n",
       "<table border=\"1\" class=\"dataframe\">\n",
       "  <thead>\n",
       "    <tr style=\"text-align: right;\">\n",
       "      <th></th>\n",
       "      <th>unit</th>\n",
       "      <th>time_step</th>\n",
       "      <th>operational_setting_1</th>\n",
       "      <th>operational_setting_2</th>\n",
       "      <th>operational_setting_3</th>\n",
       "      <th>Sensor_2</th>\n",
       "      <th>Sensor_3</th>\n",
       "      <th>Sensor_4</th>\n",
       "      <th>Sensor_7</th>\n",
       "      <th>Sensor_11</th>\n",
       "      <th>Sensor_12</th>\n",
       "      <th>Operational_condition</th>\n",
       "      <th>Health_state</th>\n",
       "    </tr>\n",
       "  </thead>\n",
       "  <tbody>\n",
       "    <tr>\n",
       "      <th>4</th>\n",
       "      <td>1</td>\n",
       "      <td>5</td>\n",
       "      <td>42.0041</td>\n",
       "      <td>0.8405</td>\n",
       "      <td>40.0</td>\n",
       "      <td>1354.48</td>\n",
       "      <td>1124.32</td>\n",
       "      <td>3.91</td>\n",
       "      <td>2211.80</td>\n",
       "      <td>130.44</td>\n",
       "      <td>2387.89</td>\n",
       "      <td>4</td>\n",
       "      <td>1</td>\n",
       "    </tr>\n",
       "    <tr>\n",
       "      <th>6</th>\n",
       "      <td>1</td>\n",
       "      <td>7</td>\n",
       "      <td>41.9998</td>\n",
       "      <td>0.8400</td>\n",
       "      <td>40.0</td>\n",
       "      <td>1354.43</td>\n",
       "      <td>1131.44</td>\n",
       "      <td>3.91</td>\n",
       "      <td>2211.82</td>\n",
       "      <td>130.16</td>\n",
       "      <td>2387.88</td>\n",
       "      <td>4</td>\n",
       "      <td>1</td>\n",
       "    </tr>\n",
       "    <tr>\n",
       "      <th>9</th>\n",
       "      <td>1</td>\n",
       "      <td>10</td>\n",
       "      <td>42.0066</td>\n",
       "      <td>0.8400</td>\n",
       "      <td>40.0</td>\n",
       "      <td>1353.19</td>\n",
       "      <td>1125.09</td>\n",
       "      <td>3.91</td>\n",
       "      <td>2211.84</td>\n",
       "      <td>130.32</td>\n",
       "      <td>2387.91</td>\n",
       "      <td>4</td>\n",
       "      <td>1</td>\n",
       "    </tr>\n",
       "    <tr>\n",
       "      <th>12</th>\n",
       "      <td>1</td>\n",
       "      <td>13</td>\n",
       "      <td>42.0029</td>\n",
       "      <td>0.8409</td>\n",
       "      <td>40.0</td>\n",
       "      <td>1350.90</td>\n",
       "      <td>1123.53</td>\n",
       "      <td>3.91</td>\n",
       "      <td>2211.78</td>\n",
       "      <td>130.60</td>\n",
       "      <td>2387.88</td>\n",
       "      <td>4</td>\n",
       "      <td>1</td>\n",
       "    </tr>\n",
       "    <tr>\n",
       "      <th>20</th>\n",
       "      <td>1</td>\n",
       "      <td>21</td>\n",
       "      <td>42.0030</td>\n",
       "      <td>0.8404</td>\n",
       "      <td>40.0</td>\n",
       "      <td>1349.16</td>\n",
       "      <td>1117.33</td>\n",
       "      <td>3.91</td>\n",
       "      <td>2211.82</td>\n",
       "      <td>130.48</td>\n",
       "      <td>2387.90</td>\n",
       "      <td>4</td>\n",
       "      <td>1</td>\n",
       "    </tr>\n",
       "  </tbody>\n",
       "</table>\n",
       "</div>"
      ],
      "text/plain": [
       "    unit  time_step  operational_setting_1  operational_setting_2  \\\n",
       "4      1          5                42.0041                 0.8405   \n",
       "6      1          7                41.9998                 0.8400   \n",
       "9      1         10                42.0066                 0.8400   \n",
       "12     1         13                42.0029                 0.8409   \n",
       "20     1         21                42.0030                 0.8404   \n",
       "\n",
       "    operational_setting_3  Sensor_2  Sensor_3  Sensor_4  Sensor_7  Sensor_11  \\\n",
       "4                    40.0   1354.48   1124.32      3.91   2211.80     130.44   \n",
       "6                    40.0   1354.43   1131.44      3.91   2211.82     130.16   \n",
       "9                    40.0   1353.19   1125.09      3.91   2211.84     130.32   \n",
       "12                   40.0   1350.90   1123.53      3.91   2211.78     130.60   \n",
       "20                   40.0   1349.16   1117.33      3.91   2211.82     130.48   \n",
       "\n",
       "    Sensor_12  Operational_condition  Health_state  \n",
       "4     2387.89                      4             1  \n",
       "6     2387.88                      4             1  \n",
       "9     2387.91                      4             1  \n",
       "12    2387.88                      4             1  \n",
       "20    2387.90                      4             1  "
      ]
     },
     "execution_count": 3,
     "metadata": {},
     "output_type": "execute_result"
    }
   ],
   "source": [
    "from phm08ds.features.feature_selection import RemoveSensor\n",
    "\n",
    "tf_remove_sensor_15 = RemoveSensor(sensors=[15])\n",
    "data_op_04 = tf_remove_sensor_15.fit_transform(data_op_04)\n",
    "data_op_04.head()"
   ]
  },
  {
   "cell_type": "markdown",
   "metadata": {},
   "source": [
    "Before feeding to the classifier, let's remove unwanted information, such as unit, time_step and operational settings."
   ]
  },
  {
   "cell_type": "code",
   "execution_count": 4,
   "metadata": {},
   "outputs": [
    {
     "data": {
      "text/html": [
       "<div>\n",
       "<style scoped>\n",
       "    .dataframe tbody tr th:only-of-type {\n",
       "        vertical-align: middle;\n",
       "    }\n",
       "\n",
       "    .dataframe tbody tr th {\n",
       "        vertical-align: top;\n",
       "    }\n",
       "\n",
       "    .dataframe thead th {\n",
       "        text-align: right;\n",
       "    }\n",
       "</style>\n",
       "<table border=\"1\" class=\"dataframe\">\n",
       "  <thead>\n",
       "    <tr style=\"text-align: right;\">\n",
       "      <th></th>\n",
       "      <th>Sensor_2</th>\n",
       "      <th>Sensor_3</th>\n",
       "      <th>Sensor_4</th>\n",
       "      <th>Sensor_7</th>\n",
       "      <th>Sensor_11</th>\n",
       "      <th>Sensor_12</th>\n",
       "      <th>Health_state</th>\n",
       "    </tr>\n",
       "  </thead>\n",
       "  <tbody>\n",
       "    <tr>\n",
       "      <th>4</th>\n",
       "      <td>1354.48</td>\n",
       "      <td>1124.32</td>\n",
       "      <td>3.91</td>\n",
       "      <td>2211.80</td>\n",
       "      <td>130.44</td>\n",
       "      <td>2387.89</td>\n",
       "      <td>1</td>\n",
       "    </tr>\n",
       "    <tr>\n",
       "      <th>6</th>\n",
       "      <td>1354.43</td>\n",
       "      <td>1131.44</td>\n",
       "      <td>3.91</td>\n",
       "      <td>2211.82</td>\n",
       "      <td>130.16</td>\n",
       "      <td>2387.88</td>\n",
       "      <td>1</td>\n",
       "    </tr>\n",
       "    <tr>\n",
       "      <th>9</th>\n",
       "      <td>1353.19</td>\n",
       "      <td>1125.09</td>\n",
       "      <td>3.91</td>\n",
       "      <td>2211.84</td>\n",
       "      <td>130.32</td>\n",
       "      <td>2387.91</td>\n",
       "      <td>1</td>\n",
       "    </tr>\n",
       "    <tr>\n",
       "      <th>12</th>\n",
       "      <td>1350.90</td>\n",
       "      <td>1123.53</td>\n",
       "      <td>3.91</td>\n",
       "      <td>2211.78</td>\n",
       "      <td>130.60</td>\n",
       "      <td>2387.88</td>\n",
       "      <td>1</td>\n",
       "    </tr>\n",
       "    <tr>\n",
       "      <th>20</th>\n",
       "      <td>1349.16</td>\n",
       "      <td>1117.33</td>\n",
       "      <td>3.91</td>\n",
       "      <td>2211.82</td>\n",
       "      <td>130.48</td>\n",
       "      <td>2387.90</td>\n",
       "      <td>1</td>\n",
       "    </tr>\n",
       "  </tbody>\n",
       "</table>\n",
       "</div>"
      ],
      "text/plain": [
       "    Sensor_2  Sensor_3  Sensor_4  Sensor_7  Sensor_11  Sensor_12  Health_state\n",
       "4    1354.48   1124.32      3.91   2211.80     130.44    2387.89             1\n",
       "6    1354.43   1131.44      3.91   2211.82     130.16    2387.88             1\n",
       "9    1353.19   1125.09      3.91   2211.84     130.32    2387.91             1\n",
       "12   1350.90   1123.53      3.91   2211.78     130.60    2387.88             1\n",
       "20   1349.16   1117.33      3.91   2211.82     130.48    2387.90             1"
      ]
     },
     "execution_count": 4,
     "metadata": {},
     "output_type": "execute_result"
    }
   ],
   "source": [
    "from phm08ds.features.feature_selection import RemoveInfo\n",
    "\n",
    "tf_remove_info = RemoveInfo()\n",
    "\n",
    "data_with_features = tf_remove_info.fit_transform(data_op_04)\n",
    "data_with_features.head()"
   ]
  },
  {
   "cell_type": "markdown",
   "metadata": {},
   "source": [
    "We need to normalize our data. Let's use Z-score standardization."
   ]
  },
  {
   "cell_type": "code",
   "execution_count": 5,
   "metadata": {},
   "outputs": [
    {
     "data": {
      "text/plain": [
       "array([[-0.03471011, -0.51398323,  1.        , -0.50007728, -0.27185   ,\n",
       "        -0.42928696],\n",
       "       [-0.04353727,  0.4286228 ,  1.        , -0.43380467, -1.08895102,\n",
       "        -0.45999999],\n",
       "       [-0.26245095, -0.41204409,  1.        , -0.36753205, -0.62203615,\n",
       "        -0.36786091],\n",
       "       ...,\n",
       "       [ 1.87019199,  2.54551472,  1.        , -2.05748362, -0.94304012,\n",
       "        -1.96493836],\n",
       "       [ 1.91962411,  1.85444681,  1.        , -2.19002884, -0.85549359,\n",
       "        -2.30278167],\n",
       "       [ 0.80033965,  2.9056114 ,  1.        , -2.35571037, -1.96441641,\n",
       "        -2.14921653]])"
      ]
     },
     "execution_count": 5,
     "metadata": {},
     "output_type": "execute_result"
    }
   ],
   "source": [
    "from sklearn.preprocessing import StandardScaler\n",
    "\n",
    "tf_std_scaller = preprocessing.StandardScaler()\n",
    "data_with_features_std = tf_std_scaller.fit_transform(data_with_features.drop(labels='Health_state', axis=1))\n",
    "data_with_features_std"
   ]
  },
  {
   "cell_type": "code",
   "execution_count": 6,
   "metadata": {},
   "outputs": [
    {
     "data": {
      "text/plain": [
       "array([1, 1, 1, ..., 4, 4, 4])"
      ]
     },
     "execution_count": 6,
     "metadata": {},
     "output_type": "execute_result"
    }
   ],
   "source": [
    "labels = np.array(data_with_features['Health_state'])\n",
    "labels"
   ]
  },
  {
   "cell_type": "markdown",
   "metadata": {},
   "source": [
    "# Classification steps"
   ]
  },
  {
   "cell_type": "code",
   "execution_count": 7,
   "metadata": {},
   "outputs": [],
   "source": [
    "from phm08ds.models import experiment"
   ]
  },
  {
   "cell_type": "markdown",
   "metadata": {},
   "source": [
    "## Load best mlp from random search"
   ]
  },
  {
   "cell_type": "code",
   "execution_count": 8,
   "metadata": {},
   "outputs": [],
   "source": [
    "from sklearn.externals import joblib\n",
    "\n",
    "random_search_mlp = joblib.load('Results/old_models/clf_mlp.pkl')\n",
    "# random_search_svm = joblib.load('Results/old_models/clf_svm.pkl')"
   ]
  },
  {
   "cell_type": "code",
   "execution_count": 9,
   "metadata": {},
   "outputs": [],
   "source": [
    "clf_mlp = random_search_mlp['MLP'].best_estimator_"
   ]
  },
  {
   "cell_type": "markdown",
   "metadata": {},
   "source": [
    "## Put all clf in a dictionary:"
   ]
  },
  {
   "cell_type": "code",
   "execution_count": 10,
   "metadata": {},
   "outputs": [],
   "source": [
    "classifiers = {'MLP': clf_mlp}"
   ]
  },
  {
   "cell_type": "markdown",
   "metadata": {},
   "source": [
    "Since we are using SVM and MLP we need to extract all power from those methods. Let's perform a Random Search to parameters optimizations."
   ]
  },
  {
   "cell_type": "code",
   "execution_count": 11,
   "metadata": {},
   "outputs": [],
   "source": [
    "kfolds = 10\n",
    "clf_outputs = experiment.run_classifiers(data_with_features_std, labels, classifiers, kfolds)"
   ]
  },
  {
   "cell_type": "markdown",
   "metadata": {},
   "source": [
    "## Performance assessment"
   ]
  },
  {
   "cell_type": "markdown",
   "metadata": {},
   "source": [
    "Saving variables in a dictionary:"
   ]
  },
  {
   "cell_type": "code",
   "execution_count": 12,
   "metadata": {},
   "outputs": [],
   "source": [
    "results = {}\n",
    "results['train'] = experiment.results_clf(4, clf_outputs['train']['true'], clf_outputs['train']['pred'])\n",
    "results['test'] = experiment.results_clf(4, clf_outputs['test']['true'], clf_outputs['test']['pred'])"
   ]
  },
  {
   "cell_type": "markdown",
   "metadata": {},
   "source": [
    "## Savel results, models and pipeline to a .pkl file "
   ]
  },
  {
   "cell_type": "code",
   "execution_count": 13,
   "metadata": {},
   "outputs": [],
   "source": [
    "from sklearn.pipeline import Pipeline\n",
    "\n",
    "data_preprocessing = Pipeline([('remove_sensor_15', tf_remove_sensor_15),\n",
    "                               ('remove_info', tf_remove_info),\n",
    "                               ('std_scaler', tf_std_scaller)\n",
    "                              ])"
   ]
  },
  {
   "cell_type": "code",
   "execution_count": 14,
   "metadata": {},
   "outputs": [],
   "source": [
    "experiment.save_models(classifiers)\n",
    "experiment.save_pipeline(data_preprocessing)"
   ]
  },
  {
   "cell_type": "markdown",
   "metadata": {},
   "source": [
    "## Save results to CSVs and figures"
   ]
  },
  {
   "cell_type": "code",
   "execution_count": 15,
   "metadata": {},
   "outputs": [
    {
     "name": "stdout",
     "output_type": "stream",
     "text": [
      "/mnt/Work/Mestrado/Mestrado/MP-Safety_ITA/Analyses_and_Experiments/PHM08_data_science/notebooks/E03_PHM08-train-best_MLP_and_SVM/model_selection-OP_04-navarmn\n",
      "MLP\n",
      "/mnt/Work/Mestrado/Mestrado/MP-Safety_ITA/Analyses_and_Experiments/PHM08_data_science/notebooks/E03_PHM08-train-best_MLP_and_SVM/model_selection-OP_04-navarmn\n",
      "MLP\n"
     ]
    }
   ],
   "source": [
    "experiment.export_results(results['test'], 'test')\n",
    "experiment.export_results(results['train'], 'train')"
   ]
  },
  {
   "cell_type": "markdown",
   "metadata": {},
   "source": [
    "## Savel results, models and pipeline to a .pkl file "
   ]
  },
  {
   "cell_type": "code",
   "execution_count": 16,
   "metadata": {},
   "outputs": [],
   "source": [
    "from sklearn.pipeline import Pipeline\n",
    "\n",
    "data_preprocessing = Pipeline([('remove_sensor_15', tf_remove_sensor_15),\n",
    "                               ('remove_info', tf_remove_info),\n",
    "                               ('std_scaler', tf_std_scaller)\n",
    "                              ])"
   ]
  },
  {
   "cell_type": "code",
   "execution_count": 17,
   "metadata": {},
   "outputs": [],
   "source": [
    "experiment.save_models(clf_mlp, name='clf_mlp')\n",
    "experiment.save_pipeline(data_preprocessing)"
   ]
  },
  {
   "cell_type": "code",
   "execution_count": null,
   "metadata": {},
   "outputs": [],
   "source": []
  }
 ],
 "metadata": {
  "kernelspec": {
   "display_name": "phm08ds",
   "language": "python",
   "name": "phm08ds"
  },
  "language_info": {
   "codemirror_mode": {
    "name": "ipython",
    "version": 3
   },
   "file_extension": ".py",
   "mimetype": "text/x-python",
   "name": "python",
   "nbconvert_exporter": "python",
   "pygments_lexer": "ipython3",
   "version": "3.6.6"
  }
 },
 "nbformat": 4,
 "nbformat_minor": 2
}
