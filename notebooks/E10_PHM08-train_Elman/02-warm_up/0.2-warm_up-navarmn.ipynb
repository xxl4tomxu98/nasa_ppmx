{
 "cells": [
  {
   "cell_type": "code",
   "execution_count": 1,
   "metadata": {},
   "outputs": [],
   "source": [
    "import pandas as pd\n",
    "import numpy as np\n",
    "import matplotlib.pyplot as plt\n",
    "from sklearn import preprocessing\n",
    "from sklearn import metrics\n",
    "import os, sys\n",
    "\n",
    "from phm08ds.models import experiment"
   ]
  },
  {
   "cell_type": "markdown",
   "metadata": {},
   "source": [
    "## Load Dataset"
   ]
  },
  {
   "cell_type": "code",
   "execution_count": 2,
   "metadata": {},
   "outputs": [
    {
     "data": {
      "text/html": [
       "<div>\n",
       "<style scoped>\n",
       "    .dataframe tbody tr th:only-of-type {\n",
       "        vertical-align: middle;\n",
       "    }\n",
       "\n",
       "    .dataframe tbody tr th {\n",
       "        vertical-align: top;\n",
       "    }\n",
       "\n",
       "    .dataframe thead th {\n",
       "        text-align: right;\n",
       "    }\n",
       "</style>\n",
       "<table border=\"1\" class=\"dataframe\">\n",
       "  <thead>\n",
       "    <tr style=\"text-align: right;\">\n",
       "      <th></th>\n",
       "      <th>unit</th>\n",
       "      <th>time_step</th>\n",
       "      <th>operational_setting_1</th>\n",
       "      <th>operational_setting_2</th>\n",
       "      <th>operational_setting_3</th>\n",
       "      <th>Sensor_0</th>\n",
       "      <th>Sensor_1</th>\n",
       "      <th>Sensor_2</th>\n",
       "      <th>Sensor_3</th>\n",
       "      <th>Sensor_4</th>\n",
       "      <th>...</th>\n",
       "      <th>Sensor_13</th>\n",
       "      <th>Sensor_14</th>\n",
       "      <th>Sensor_15</th>\n",
       "      <th>Sensor_16</th>\n",
       "      <th>Sensor_17</th>\n",
       "      <th>Sensor_18</th>\n",
       "      <th>Sensor_19</th>\n",
       "      <th>Sensor_20</th>\n",
       "      <th>Health_state</th>\n",
       "      <th>Operational_condition</th>\n",
       "    </tr>\n",
       "  </thead>\n",
       "  <tbody>\n",
       "    <tr>\n",
       "      <th>0</th>\n",
       "      <td>1</td>\n",
       "      <td>1</td>\n",
       "      <td>10.0047</td>\n",
       "      <td>0.2501</td>\n",
       "      <td>20.0</td>\n",
       "      <td>489.05</td>\n",
       "      <td>604.13</td>\n",
       "      <td>1499.45</td>\n",
       "      <td>1309.95</td>\n",
       "      <td>10.52</td>\n",
       "      <td>...</td>\n",
       "      <td>8120.83</td>\n",
       "      <td>8.6216</td>\n",
       "      <td>0.03</td>\n",
       "      <td>368</td>\n",
       "      <td>2319</td>\n",
       "      <td>100.0</td>\n",
       "      <td>28.58</td>\n",
       "      <td>17.1735</td>\n",
       "      <td>1</td>\n",
       "      <td>1</td>\n",
       "    </tr>\n",
       "    <tr>\n",
       "      <th>14</th>\n",
       "      <td>1</td>\n",
       "      <td>15</td>\n",
       "      <td>9.9988</td>\n",
       "      <td>0.2500</td>\n",
       "      <td>20.0</td>\n",
       "      <td>489.05</td>\n",
       "      <td>604.63</td>\n",
       "      <td>1497.87</td>\n",
       "      <td>1302.51</td>\n",
       "      <td>10.52</td>\n",
       "      <td>...</td>\n",
       "      <td>8124.37</td>\n",
       "      <td>8.6496</td>\n",
       "      <td>0.03</td>\n",
       "      <td>369</td>\n",
       "      <td>2319</td>\n",
       "      <td>100.0</td>\n",
       "      <td>28.84</td>\n",
       "      <td>17.0805</td>\n",
       "      <td>1</td>\n",
       "      <td>1</td>\n",
       "    </tr>\n",
       "    <tr>\n",
       "      <th>15</th>\n",
       "      <td>1</td>\n",
       "      <td>16</td>\n",
       "      <td>9.9987</td>\n",
       "      <td>0.2500</td>\n",
       "      <td>20.0</td>\n",
       "      <td>489.05</td>\n",
       "      <td>604.61</td>\n",
       "      <td>1500.47</td>\n",
       "      <td>1311.39</td>\n",
       "      <td>10.52</td>\n",
       "      <td>...</td>\n",
       "      <td>8127.07</td>\n",
       "      <td>8.6609</td>\n",
       "      <td>0.03</td>\n",
       "      <td>369</td>\n",
       "      <td>2319</td>\n",
       "      <td>100.0</td>\n",
       "      <td>28.71</td>\n",
       "      <td>17.1759</td>\n",
       "      <td>1</td>\n",
       "      <td>1</td>\n",
       "    </tr>\n",
       "    <tr>\n",
       "      <th>17</th>\n",
       "      <td>1</td>\n",
       "      <td>18</td>\n",
       "      <td>10.0066</td>\n",
       "      <td>0.2507</td>\n",
       "      <td>20.0</td>\n",
       "      <td>489.05</td>\n",
       "      <td>604.23</td>\n",
       "      <td>1502.57</td>\n",
       "      <td>1304.56</td>\n",
       "      <td>10.52</td>\n",
       "      <td>...</td>\n",
       "      <td>8119.39</td>\n",
       "      <td>8.6646</td>\n",
       "      <td>0.03</td>\n",
       "      <td>367</td>\n",
       "      <td>2319</td>\n",
       "      <td>100.0</td>\n",
       "      <td>28.60</td>\n",
       "      <td>17.1096</td>\n",
       "      <td>1</td>\n",
       "      <td>1</td>\n",
       "    </tr>\n",
       "    <tr>\n",
       "      <th>35</th>\n",
       "      <td>1</td>\n",
       "      <td>36</td>\n",
       "      <td>10.0024</td>\n",
       "      <td>0.2504</td>\n",
       "      <td>20.0</td>\n",
       "      <td>489.05</td>\n",
       "      <td>604.43</td>\n",
       "      <td>1499.85</td>\n",
       "      <td>1306.89</td>\n",
       "      <td>10.52</td>\n",
       "      <td>...</td>\n",
       "      <td>8121.73</td>\n",
       "      <td>8.6260</td>\n",
       "      <td>0.03</td>\n",
       "      <td>369</td>\n",
       "      <td>2319</td>\n",
       "      <td>100.0</td>\n",
       "      <td>28.52</td>\n",
       "      <td>17.1036</td>\n",
       "      <td>2</td>\n",
       "      <td>1</td>\n",
       "    </tr>\n",
       "  </tbody>\n",
       "</table>\n",
       "<p>5 rows × 28 columns</p>\n",
       "</div>"
      ],
      "text/plain": [
       "    unit  time_step  operational_setting_1  operational_setting_2  \\\n",
       "0      1          1                10.0047                 0.2501   \n",
       "14     1         15                 9.9988                 0.2500   \n",
       "15     1         16                 9.9987                 0.2500   \n",
       "17     1         18                10.0066                 0.2507   \n",
       "35     1         36                10.0024                 0.2504   \n",
       "\n",
       "    operational_setting_3  Sensor_0  Sensor_1  Sensor_2  Sensor_3  Sensor_4  \\\n",
       "0                    20.0    489.05    604.13   1499.45   1309.95     10.52   \n",
       "14                   20.0    489.05    604.63   1497.87   1302.51     10.52   \n",
       "15                   20.0    489.05    604.61   1500.47   1311.39     10.52   \n",
       "17                   20.0    489.05    604.23   1502.57   1304.56     10.52   \n",
       "35                   20.0    489.05    604.43   1499.85   1306.89     10.52   \n",
       "\n",
       "            ...            Sensor_13  Sensor_14  Sensor_15  Sensor_16  \\\n",
       "0           ...              8120.83     8.6216       0.03        368   \n",
       "14          ...              8124.37     8.6496       0.03        369   \n",
       "15          ...              8127.07     8.6609       0.03        369   \n",
       "17          ...              8119.39     8.6646       0.03        367   \n",
       "35          ...              8121.73     8.6260       0.03        369   \n",
       "\n",
       "    Sensor_17  Sensor_18  Sensor_19  Sensor_20  Health_state  \\\n",
       "0        2319      100.0      28.58    17.1735             1   \n",
       "14       2319      100.0      28.84    17.0805             1   \n",
       "15       2319      100.0      28.71    17.1759             1   \n",
       "17       2319      100.0      28.60    17.1096             1   \n",
       "35       2319      100.0      28.52    17.1036             2   \n",
       "\n",
       "    Operational_condition  \n",
       "0                       1  \n",
       "14                      1  \n",
       "15                      1  \n",
       "17                      1  \n",
       "35                      1  \n",
       "\n",
       "[5 rows x 28 columns]"
      ]
     },
     "execution_count": 2,
     "metadata": {},
     "output_type": "execute_result"
    }
   ],
   "source": [
    "folderpath = '../../../data/interim/'\n",
    "data_op_1 = pd.read_csv(folderpath + 'data_op_01.csv')\n",
    "data_op_1.head()"
   ]
  },
  {
   "cell_type": "markdown",
   "metadata": {},
   "source": [
    "## Data preprocessing"
   ]
  },
  {
   "cell_type": "markdown",
   "metadata": {},
   "source": [
    "Get sensors that a I like it better"
   ]
  },
  {
   "cell_type": "code",
   "execution_count": 3,
   "metadata": {},
   "outputs": [
    {
     "data": {
      "text/html": [
       "<div>\n",
       "<style scoped>\n",
       "    .dataframe tbody tr th:only-of-type {\n",
       "        vertical-align: middle;\n",
       "    }\n",
       "\n",
       "    .dataframe tbody tr th {\n",
       "        vertical-align: top;\n",
       "    }\n",
       "\n",
       "    .dataframe thead th {\n",
       "        text-align: right;\n",
       "    }\n",
       "</style>\n",
       "<table border=\"1\" class=\"dataframe\">\n",
       "  <thead>\n",
       "    <tr style=\"text-align: right;\">\n",
       "      <th></th>\n",
       "      <th>unit</th>\n",
       "      <th>time_step</th>\n",
       "      <th>operational_setting_1</th>\n",
       "      <th>operational_setting_2</th>\n",
       "      <th>operational_setting_3</th>\n",
       "      <th>Sensor_3</th>\n",
       "      <th>Sensor_6</th>\n",
       "      <th>Sensor_10</th>\n",
       "      <th>Sensor_14</th>\n",
       "      <th>Operational_condition</th>\n",
       "      <th>Health_state</th>\n",
       "    </tr>\n",
       "  </thead>\n",
       "  <tbody>\n",
       "    <tr>\n",
       "      <th>0</th>\n",
       "      <td>1</td>\n",
       "      <td>1</td>\n",
       "      <td>10.0047</td>\n",
       "      <td>0.2501</td>\n",
       "      <td>20.0</td>\n",
       "      <td>1309.95</td>\n",
       "      <td>394.88</td>\n",
       "      <td>45.40</td>\n",
       "      <td>8.6216</td>\n",
       "      <td>1</td>\n",
       "      <td>1</td>\n",
       "    </tr>\n",
       "    <tr>\n",
       "      <th>14</th>\n",
       "      <td>1</td>\n",
       "      <td>15</td>\n",
       "      <td>9.9988</td>\n",
       "      <td>0.2500</td>\n",
       "      <td>20.0</td>\n",
       "      <td>1302.51</td>\n",
       "      <td>394.93</td>\n",
       "      <td>45.39</td>\n",
       "      <td>8.6496</td>\n",
       "      <td>1</td>\n",
       "      <td>1</td>\n",
       "    </tr>\n",
       "    <tr>\n",
       "      <th>15</th>\n",
       "      <td>1</td>\n",
       "      <td>16</td>\n",
       "      <td>9.9987</td>\n",
       "      <td>0.2500</td>\n",
       "      <td>20.0</td>\n",
       "      <td>1311.39</td>\n",
       "      <td>394.44</td>\n",
       "      <td>45.52</td>\n",
       "      <td>8.6609</td>\n",
       "      <td>1</td>\n",
       "      <td>1</td>\n",
       "    </tr>\n",
       "    <tr>\n",
       "      <th>17</th>\n",
       "      <td>1</td>\n",
       "      <td>18</td>\n",
       "      <td>10.0066</td>\n",
       "      <td>0.2507</td>\n",
       "      <td>20.0</td>\n",
       "      <td>1304.56</td>\n",
       "      <td>394.31</td>\n",
       "      <td>45.10</td>\n",
       "      <td>8.6646</td>\n",
       "      <td>1</td>\n",
       "      <td>1</td>\n",
       "    </tr>\n",
       "    <tr>\n",
       "      <th>35</th>\n",
       "      <td>1</td>\n",
       "      <td>36</td>\n",
       "      <td>10.0024</td>\n",
       "      <td>0.2504</td>\n",
       "      <td>20.0</td>\n",
       "      <td>1306.89</td>\n",
       "      <td>394.36</td>\n",
       "      <td>45.36</td>\n",
       "      <td>8.6260</td>\n",
       "      <td>1</td>\n",
       "      <td>2</td>\n",
       "    </tr>\n",
       "  </tbody>\n",
       "</table>\n",
       "</div>"
      ],
      "text/plain": [
       "    unit  time_step  operational_setting_1  operational_setting_2  \\\n",
       "0      1          1                10.0047                 0.2501   \n",
       "14     1         15                 9.9988                 0.2500   \n",
       "15     1         16                 9.9987                 0.2500   \n",
       "17     1         18                10.0066                 0.2507   \n",
       "35     1         36                10.0024                 0.2504   \n",
       "\n",
       "    operational_setting_3  Sensor_3  Sensor_6  Sensor_10  Sensor_14  \\\n",
       "0                    20.0   1309.95    394.88      45.40     8.6216   \n",
       "14                   20.0   1302.51    394.93      45.39     8.6496   \n",
       "15                   20.0   1311.39    394.44      45.52     8.6609   \n",
       "17                   20.0   1304.56    394.31      45.10     8.6646   \n",
       "35                   20.0   1306.89    394.36      45.36     8.6260   \n",
       "\n",
       "    Operational_condition  Health_state  \n",
       "0                       1             1  \n",
       "14                      1             1  \n",
       "15                      1             1  \n",
       "17                      1             1  \n",
       "35                      1             2  "
      ]
     },
     "execution_count": 3,
     "metadata": {},
     "output_type": "execute_result"
    }
   ],
   "source": [
    "from phm08ds.features.feature_selection import SelectSensors\n",
    "\n",
    "tf_select_sensors = SelectSensors(kind='custom', sensors=[3,6,10,14])\n",
    "data_op_1 = tf_select_sensors.fit_transform(data_op_1)\n",
    "data_op_1.head()"
   ]
  },
  {
   "cell_type": "markdown",
   "metadata": {},
   "source": [
    "Before feeding to the classifier, let's remove unwanted information, such as unit, time_step and operational settings."
   ]
  },
  {
   "cell_type": "code",
   "execution_count": 4,
   "metadata": {},
   "outputs": [
    {
     "data": {
      "text/html": [
       "<div>\n",
       "<style scoped>\n",
       "    .dataframe tbody tr th:only-of-type {\n",
       "        vertical-align: middle;\n",
       "    }\n",
       "\n",
       "    .dataframe tbody tr th {\n",
       "        vertical-align: top;\n",
       "    }\n",
       "\n",
       "    .dataframe thead th {\n",
       "        text-align: right;\n",
       "    }\n",
       "</style>\n",
       "<table border=\"1\" class=\"dataframe\">\n",
       "  <thead>\n",
       "    <tr style=\"text-align: right;\">\n",
       "      <th></th>\n",
       "      <th>Sensor_3</th>\n",
       "      <th>Sensor_6</th>\n",
       "      <th>Sensor_10</th>\n",
       "      <th>Sensor_14</th>\n",
       "      <th>Health_state</th>\n",
       "    </tr>\n",
       "  </thead>\n",
       "  <tbody>\n",
       "    <tr>\n",
       "      <th>0</th>\n",
       "      <td>1309.95</td>\n",
       "      <td>394.88</td>\n",
       "      <td>45.40</td>\n",
       "      <td>8.6216</td>\n",
       "      <td>1</td>\n",
       "    </tr>\n",
       "    <tr>\n",
       "      <th>14</th>\n",
       "      <td>1302.51</td>\n",
       "      <td>394.93</td>\n",
       "      <td>45.39</td>\n",
       "      <td>8.6496</td>\n",
       "      <td>1</td>\n",
       "    </tr>\n",
       "    <tr>\n",
       "      <th>15</th>\n",
       "      <td>1311.39</td>\n",
       "      <td>394.44</td>\n",
       "      <td>45.52</td>\n",
       "      <td>8.6609</td>\n",
       "      <td>1</td>\n",
       "    </tr>\n",
       "    <tr>\n",
       "      <th>17</th>\n",
       "      <td>1304.56</td>\n",
       "      <td>394.31</td>\n",
       "      <td>45.10</td>\n",
       "      <td>8.6646</td>\n",
       "      <td>1</td>\n",
       "    </tr>\n",
       "    <tr>\n",
       "      <th>35</th>\n",
       "      <td>1306.89</td>\n",
       "      <td>394.36</td>\n",
       "      <td>45.36</td>\n",
       "      <td>8.6260</td>\n",
       "      <td>2</td>\n",
       "    </tr>\n",
       "  </tbody>\n",
       "</table>\n",
       "</div>"
      ],
      "text/plain": [
       "    Sensor_3  Sensor_6  Sensor_10  Sensor_14  Health_state\n",
       "0    1309.95    394.88      45.40     8.6216             1\n",
       "14   1302.51    394.93      45.39     8.6496             1\n",
       "15   1311.39    394.44      45.52     8.6609             1\n",
       "17   1304.56    394.31      45.10     8.6646             1\n",
       "35   1306.89    394.36      45.36     8.6260             2"
      ]
     },
     "execution_count": 4,
     "metadata": {},
     "output_type": "execute_result"
    }
   ],
   "source": [
    "from phm08ds.features.feature_selection import RemoveInfo\n",
    "\n",
    "tf_remove_info = RemoveInfo()\n",
    "\n",
    "data_with_features = tf_remove_info.fit_transform(data_op_1)\n",
    "data_with_features.head()"
   ]
  },
  {
   "cell_type": "markdown",
   "metadata": {},
   "source": [
    "We need to normalize our data. Let's use Z-score standardization."
   ]
  },
  {
   "cell_type": "code",
   "execution_count": 5,
   "metadata": {},
   "outputs": [
    {
     "data": {
      "text/plain": [
       "array([[-0.16893857,  0.85477079, -0.38167972, -1.17034624],\n",
       "       [-1.06544604,  0.93149834, -0.42173461, -0.42029381],\n",
       "       [ 0.00457901,  0.17956834,  0.09897901, -0.11759408],\n",
       "       ...,\n",
       "       [ 1.64094613, -2.29105881,  1.26057091,  2.10309687],\n",
       "       [ 1.8867627 , -1.58516534,  1.9415041 ,  0.5708469 ],\n",
       "       [ 1.865073  , -1.66189289,  2.26194325,  1.52448499]])"
      ]
     },
     "execution_count": 5,
     "metadata": {},
     "output_type": "execute_result"
    }
   ],
   "source": [
    "from sklearn.preprocessing import StandardScaler\n",
    "\n",
    "tf_std_scaller = preprocessing.StandardScaler()\n",
    "data_with_features_std = tf_std_scaller.fit_transform(data_with_features.drop(labels='Health_state', axis=1))\n",
    "data_with_features_std"
   ]
  },
  {
   "cell_type": "code",
   "execution_count": 6,
   "metadata": {},
   "outputs": [
    {
     "data": {
      "text/plain": [
       "array([1, 1, 1, ..., 4, 4, 4])"
      ]
     },
     "execution_count": 6,
     "metadata": {},
     "output_type": "execute_result"
    }
   ],
   "source": [
    "labels_op_1 = np.array(data_with_features['Health_state'])\n",
    "labels_op_1"
   ]
  },
  {
   "cell_type": "markdown",
   "metadata": {},
   "source": [
    "# Classification steps"
   ]
  },
  {
   "cell_type": "markdown",
   "metadata": {},
   "source": [
    "## How to use Elman network of neurolab"
   ]
  },
  {
   "cell_type": "markdown",
   "metadata": {},
   "source": [
    "Folllowing the example at https://pythonhosted.org/neurolab/ex_newelm.html"
   ]
  },
  {
   "cell_type": "code",
   "execution_count": 7,
   "metadata": {},
   "outputs": [],
   "source": [
    "import neurolab as nl"
   ]
  },
  {
   "cell_type": "code",
   "execution_count": 8,
   "metadata": {},
   "outputs": [
    {
     "data": {
      "text/plain": [
       "[[-2.6246942400416367, 3.671342749288904],\n",
       " [-3.4112810594247662, 2.8343416060539304],\n",
       " [-2.4645341718333627, 3.6238096247779246],\n",
       " [-3.1044100132096712, 3.5656991091889436]]"
      ]
     },
     "execution_count": 8,
     "metadata": {},
     "output_type": "execute_result"
    }
   ],
   "source": [
    "min_list = []\n",
    "max_list = []\n",
    "\n",
    "for feature in range(0,data_with_features_std.shape[1]):\n",
    "    min_list.append(data_with_features_std[:,feature].min())\n",
    "    max_list.append(data_with_features_std[:,feature].max())\n",
    "    \n",
    "min_max_list = list(map(list, list(zip(min_list, max_list))))\n",
    "min_max_list"
   ]
  },
  {
   "cell_type": "markdown",
   "metadata": {},
   "source": [
    "from sklearn.preprocessing import LabelBinarizer\n",
    "\n",
    "target_tf = LabelBinarizer()\n",
    "labels_encoded = target_tf.fit_transform(labels_op_1)"
   ]
  },
  {
   "cell_type": "code",
   "execution_count": 21,
   "metadata": {},
   "outputs": [],
   "source": [
    "labels = labels_op_1.reshape(labels_op_1.shape[0],1)"
   ]
  },
  {
   "cell_type": "code",
   "execution_count": 9,
   "metadata": {},
   "outputs": [],
   "source": [
    "elman_clf = nl.net.newelm(min_max_list, [50,1], [nl.trans.TanSig(), nl.trans.PureLin()])"
   ]
  },
  {
   "cell_type": "code",
   "execution_count": 10,
   "metadata": {},
   "outputs": [],
   "source": [
    "# Set initialized functions and init\n",
    "elman_clf.layers[0].initf = nl.init.InitRand([-0.1, 0.1], 'wb')\n",
    "elman_clf.layers[1].initf= nl.init.InitRand([-0.1, 0.1], 'wb')\n",
    "elman_clf.init()"
   ]
  },
  {
   "cell_type": "code",
   "execution_count": 22,
   "metadata": {},
   "outputs": [
    {
     "name": "stderr",
     "output_type": "stream",
     "text": [
      "/home/navar/anaconda3/lib/python3.6/site-packages/neurolab/tool.py:187: RuntimeWarning: overflow encountered in multiply\n",
      "  dS = np.sum(net.layers[next].np['w'] * delt[next], axis=0)\n",
      "/home/navar/anaconda3/lib/python3.6/site-packages/neurolab/tool.py:188: RuntimeWarning: invalid value encountered in multiply\n",
      "  delt[ln] = dS * layer.transf.deriv(layer.s, layer.out)\n"
     ]
    },
    {
     "name": "stdout",
     "output_type": "stream",
     "text": [
      "Epoch: 101; Error: nan;\n",
      "Epoch: 202; Error: nan;\n",
      "Epoch: 303; Error: nan;\n",
      "Epoch: 404; Error: nan;\n",
      "The maximum number of train epochs is reached\n"
     ]
    }
   ],
   "source": [
    "# Train network\n",
    "error = elman_clf.train(data_with_features_std, labels, epochs=500, goal=0.01, adapt=True, show=1)\n",
    "# Simulate network\n",
    "output = elman_clf.sim(data_with_features_std)"
   ]
  },
  {
   "cell_type": "code",
   "execution_count": 23,
   "metadata": {},
   "outputs": [
    {
     "data": {
      "text/plain": [
       "[<matplotlib.lines.Line2D at 0x7fefd81282b0>]"
      ]
     },
     "execution_count": 23,
     "metadata": {},
     "output_type": "execute_result"
    },
    {
     "data": {
      "image/png": "[encoded data removed]",
      "text/plain": [
       "<Figure size 432x288 with 1 Axes>"
      ]
     },
     "metadata": {},
     "output_type": "display_data"
    }
   ],
   "source": [
    "plt.plot(error)"
   ]
  },
  {
   "cell_type": "markdown",
   "metadata": {},
   "source": [
    "### Test the newtwork"
   ]
  },
  {
   "cell_type": "code",
   "execution_count": 24,
   "metadata": {},
   "outputs": [
    {
     "ename": "NameError",
     "evalue": "name 'target_tf' is not defined",
     "output_type": "error",
     "traceback": [
      "\u001b[0;31m---------------------------------------------------------------------------\u001b[0m",
      "\u001b[0;31mNameError\u001b[0m                                 Traceback (most recent call last)",
      "\u001b[0;32m<ipython-input-24-28a1f87f7507>\u001b[0m in \u001b[0;36m<module>\u001b[0;34m()\u001b[0m\n\u001b[0;32m----> 1\u001b[0;31m \u001b[0mreal_targets\u001b[0m \u001b[0;34m=\u001b[0m \u001b[0mtarget_tf\u001b[0m\u001b[0;34m.\u001b[0m\u001b[0minverse_transform\u001b[0m\u001b[0;34m(\u001b[0m\u001b[0mlabels_encoded\u001b[0m\u001b[0;34m)\u001b[0m\u001b[0;34m\u001b[0m\u001b[0m\n\u001b[0m",
      "\u001b[0;31mNameError\u001b[0m: name 'target_tf' is not defined"
     ]
    }
   ],
   "source": [
    "real_targets = target_tf.inverse_transform(labels_encoded)"
   ]
  },
  {
   "cell_type": "code",
   "execution_count": null,
   "metadata": {},
   "outputs": [],
   "source": [
    "predicted_targets = target_tf.inverse_transform(output)"
   ]
  },
  {
   "cell_type": "code",
   "execution_count": null,
   "metadata": {},
   "outputs": [],
   "source": [
    "from sklearn.metrics import confusion_matrix\n",
    "from sklearn.metrics import accuracy_score"
   ]
  },
  {
   "cell_type": "code",
   "execution_count": null,
   "metadata": {},
   "outputs": [],
   "source": [
    "accuracy_score(real_targets, predicted_targets)"
   ]
  },
  {
   "cell_type": "code",
   "execution_count": null,
   "metadata": {},
   "outputs": [],
   "source": [
    "confusion_matrix(real_targets, predicted_targets)"
   ]
  },
  {
   "cell_type": "code",
   "execution_count": null,
   "metadata": {},
   "outputs": [],
   "source": []
  },
  {
   "cell_type": "code",
   "execution_count": null,
   "metadata": {},
   "outputs": [],
   "source": []
  },
  {
   "cell_type": "code",
   "execution_count": null,
   "metadata": {},
   "outputs": [],
   "source": []
  },
  {
   "cell_type": "code",
   "execution_count": null,
   "metadata": {},
   "outputs": [],
   "source": []
  },
  {
   "cell_type": "code",
   "execution_count": null,
   "metadata": {},
   "outputs": [],
   "source": []
  },
  {
   "cell_type": "code",
   "execution_count": null,
   "metadata": {},
   "outputs": [],
   "source": []
  },
  {
   "cell_type": "code",
   "execution_count": null,
   "metadata": {},
   "outputs": [],
   "source": []
  },
  {
   "cell_type": "code",
   "execution_count": null,
   "metadata": {},
   "outputs": [],
   "source": []
  },
  {
   "cell_type": "markdown",
   "metadata": {},
   "source": [
    "## Load Experiment model"
   ]
  },
  {
   "cell_type": "code",
   "execution_count": null,
   "metadata": {},
   "outputs": [],
   "source": [
    "from phm08ds.models import experiment"
   ]
  },
  {
   "cell_type": "markdown",
   "metadata": {},
   "source": [
    "## Define classifiers and its specifications"
   ]
  },
  {
   "cell_type": "markdown",
   "metadata": {},
   "source": [
    "## Put all clf in a dictionary:"
   ]
  },
  {
   "cell_type": "code",
   "execution_count": null,
   "metadata": {},
   "outputs": [],
   "source": [
    "classifiers = {'MLP': best_mlp}"
   ]
  },
  {
   "cell_type": "markdown",
   "metadata": {},
   "source": [
    "## Train Classifiers and test them"
   ]
  },
  {
   "cell_type": "markdown",
   "metadata": {},
   "source": [
    "Stratified cross-validation for model selection are going to be used."
   ]
  },
  {
   "cell_type": "code",
   "execution_count": null,
   "metadata": {},
   "outputs": [],
   "source": [
    "kfolds = 10\n",
    "clf_outputs = experiment.run_classifiers(data_with_features_std, labels_op_1, classifiers, kfolds)"
   ]
  },
  {
   "cell_type": "markdown",
   "metadata": {},
   "source": [
    "## Performance assessment"
   ]
  },
  {
   "cell_type": "markdown",
   "metadata": {},
   "source": [
    "Saving variables in a dictionary:"
   ]
  },
  {
   "cell_type": "code",
   "execution_count": null,
   "metadata": {},
   "outputs": [],
   "source": [
    "results = {}\n",
    "results['train'] = experiment.results_clf(4, clf_outputs['train']['true'], clf_outputs['train']['pred'])\n",
    "results['test'] = experiment.results_clf(4, clf_outputs['test']['true'], clf_outputs['test']['pred'])"
   ]
  },
  {
   "cell_type": "markdown",
   "metadata": {},
   "source": [
    "## Savel results, models and pipeline to a .pkl file "
   ]
  },
  {
   "cell_type": "code",
   "execution_count": null,
   "metadata": {},
   "outputs": [],
   "source": [
    "from sklearn.pipeline import Pipeline\n",
    "\n",
    "data_preprocessing = Pipeline([('select_sensors', tf_select_sensors),\n",
    "                               ('remove_info', tf_remove_info),\n",
    "                               ('std_scaler', tf_std_scaller)\n",
    "                              ])"
   ]
  },
  {
   "cell_type": "code",
   "execution_count": null,
   "metadata": {},
   "outputs": [],
   "source": [
    "experiment.save_models(classifiers)\n",
    "experiment.save_pipeline(data_preprocessing)"
   ]
  },
  {
   "cell_type": "markdown",
   "metadata": {},
   "source": [
    "## Save results to CSVs and figures"
   ]
  },
  {
   "cell_type": "code",
   "execution_count": null,
   "metadata": {},
   "outputs": [],
   "source": [
    "experiment.export_results(results['test'], 'test')\n",
    "experiment.export_results(results['train'], 'train')"
   ]
  },
  {
   "cell_type": "code",
   "execution_count": null,
   "metadata": {},
   "outputs": [],
   "source": []
  },
  {
   "cell_type": "code",
   "execution_count": null,
   "metadata": {},
   "outputs": [],
   "source": []
  },
  {
   "cell_type": "code",
   "execution_count": null,
   "metadata": {},
   "outputs": [],
   "source": []
  },
  {
   "cell_type": "code",
   "execution_count": null,
   "metadata": {},
   "outputs": [],
   "source": []
  }
 ],
 "metadata": {
  "kernelspec": {
   "display_name": "Python 3",
   "language": "python",
   "name": "python3"
  },
  "language_info": {
   "codemirror_mode": {
    "name": "ipython",
    "version": 3
   },
   "file_extension": ".py",
   "mimetype": "text/x-python",
   "name": "python",
   "nbconvert_exporter": "python",
   "pygments_lexer": "ipython3",
   "version": "3.6.5"
  }
 },
 "nbformat": 4,
 "nbformat_minor": 2
}
