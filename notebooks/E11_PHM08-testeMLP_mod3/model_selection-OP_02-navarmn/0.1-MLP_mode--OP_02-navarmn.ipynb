{
 "cells": [
  {
   "cell_type": "code",
   "execution_count": 1,
   "metadata": {},
   "outputs": [],
   "source": [
    "import pandas as pd\n",
    "import numpy as np\n",
    "import matplotlib.pyplot as plt\n",
    "from sklearn import preprocessing\n",
    "from sklearn import metrics\n",
    "import os, sys"
   ]
  },
  {
   "cell_type": "code",
   "execution_count": 6,
   "metadata": {},
   "outputs": [],
   "source": [
    "# set random state\n",
    "\n",
    "seed = 69"
   ]
  },
  {
   "cell_type": "markdown",
   "metadata": {},
   "source": [
    "## Load Dataset"
   ]
  },
  {
   "cell_type": "code",
   "execution_count": 7,
   "metadata": {},
   "outputs": [
    {
     "data": {
      "text/html": [
       "<div>\n",
       "<style scoped>\n",
       "    .dataframe tbody tr th:only-of-type {\n",
       "        vertical-align: middle;\n",
       "    }\n",
       "\n",
       "    .dataframe tbody tr th {\n",
       "        vertical-align: top;\n",
       "    }\n",
       "\n",
       "    .dataframe thead th {\n",
       "        text-align: right;\n",
       "    }\n",
       "</style>\n",
       "<table border=\"1\" class=\"dataframe\">\n",
       "  <thead>\n",
       "    <tr style=\"text-align: right;\">\n",
       "      <th></th>\n",
       "      <th>unit</th>\n",
       "      <th>time_step</th>\n",
       "      <th>operational_setting_1</th>\n",
       "      <th>operational_setting_2</th>\n",
       "      <th>operational_setting_3</th>\n",
       "      <th>Sensor_0</th>\n",
       "      <th>Sensor_1</th>\n",
       "      <th>Sensor_2</th>\n",
       "      <th>Sensor_3</th>\n",
       "      <th>Sensor_4</th>\n",
       "      <th>...</th>\n",
       "      <th>Sensor_13</th>\n",
       "      <th>Sensor_14</th>\n",
       "      <th>Sensor_15</th>\n",
       "      <th>Sensor_16</th>\n",
       "      <th>Sensor_17</th>\n",
       "      <th>Sensor_18</th>\n",
       "      <th>Sensor_19</th>\n",
       "      <th>Sensor_20</th>\n",
       "      <th>Health_state</th>\n",
       "      <th>Operational_condition</th>\n",
       "    </tr>\n",
       "  </thead>\n",
       "  <tbody>\n",
       "    <tr>\n",
       "      <th>3</th>\n",
       "      <td>1</td>\n",
       "      <td>4</td>\n",
       "      <td>20.0031</td>\n",
       "      <td>0.7005</td>\n",
       "      <td>0.0</td>\n",
       "      <td>491.19</td>\n",
       "      <td>607.03</td>\n",
       "      <td>1488.44</td>\n",
       "      <td>1249.18</td>\n",
       "      <td>9.35</td>\n",
       "      <td>...</td>\n",
       "      <td>8052.30</td>\n",
       "      <td>9.2231</td>\n",
       "      <td>0.02</td>\n",
       "      <td>364</td>\n",
       "      <td>2324</td>\n",
       "      <td>100.0</td>\n",
       "      <td>24.42</td>\n",
       "      <td>14.7832</td>\n",
       "      <td>1</td>\n",
       "      <td>2</td>\n",
       "    </tr>\n",
       "    <tr>\n",
       "      <th>5</th>\n",
       "      <td>1</td>\n",
       "      <td>6</td>\n",
       "      <td>20.0032</td>\n",
       "      <td>0.7017</td>\n",
       "      <td>0.0</td>\n",
       "      <td>491.19</td>\n",
       "      <td>607.37</td>\n",
       "      <td>1480.46</td>\n",
       "      <td>1258.90</td>\n",
       "      <td>9.35</td>\n",
       "      <td>...</td>\n",
       "      <td>8053.17</td>\n",
       "      <td>9.2276</td>\n",
       "      <td>0.02</td>\n",
       "      <td>364</td>\n",
       "      <td>2324</td>\n",
       "      <td>100.0</td>\n",
       "      <td>24.44</td>\n",
       "      <td>14.7019</td>\n",
       "      <td>1</td>\n",
       "      <td>2</td>\n",
       "    </tr>\n",
       "    <tr>\n",
       "      <th>22</th>\n",
       "      <td>1</td>\n",
       "      <td>23</td>\n",
       "      <td>20.0025</td>\n",
       "      <td>0.7011</td>\n",
       "      <td>0.0</td>\n",
       "      <td>491.19</td>\n",
       "      <td>607.10</td>\n",
       "      <td>1482.68</td>\n",
       "      <td>1252.00</td>\n",
       "      <td>9.35</td>\n",
       "      <td>...</td>\n",
       "      <td>8050.94</td>\n",
       "      <td>9.2149</td>\n",
       "      <td>0.02</td>\n",
       "      <td>366</td>\n",
       "      <td>2324</td>\n",
       "      <td>100.0</td>\n",
       "      <td>24.58</td>\n",
       "      <td>14.6688</td>\n",
       "      <td>1</td>\n",
       "      <td>2</td>\n",
       "    </tr>\n",
       "    <tr>\n",
       "      <th>30</th>\n",
       "      <td>1</td>\n",
       "      <td>31</td>\n",
       "      <td>20.0045</td>\n",
       "      <td>0.7006</td>\n",
       "      <td>0.0</td>\n",
       "      <td>491.19</td>\n",
       "      <td>607.38</td>\n",
       "      <td>1483.93</td>\n",
       "      <td>1256.88</td>\n",
       "      <td>9.35</td>\n",
       "      <td>...</td>\n",
       "      <td>8059.58</td>\n",
       "      <td>9.2111</td>\n",
       "      <td>0.02</td>\n",
       "      <td>366</td>\n",
       "      <td>2324</td>\n",
       "      <td>100.0</td>\n",
       "      <td>24.48</td>\n",
       "      <td>14.7826</td>\n",
       "      <td>2</td>\n",
       "      <td>2</td>\n",
       "    </tr>\n",
       "    <tr>\n",
       "      <th>44</th>\n",
       "      <td>1</td>\n",
       "      <td>45</td>\n",
       "      <td>20.0062</td>\n",
       "      <td>0.7000</td>\n",
       "      <td>0.0</td>\n",
       "      <td>491.19</td>\n",
       "      <td>607.58</td>\n",
       "      <td>1477.33</td>\n",
       "      <td>1250.58</td>\n",
       "      <td>9.35</td>\n",
       "      <td>...</td>\n",
       "      <td>8054.67</td>\n",
       "      <td>9.2541</td>\n",
       "      <td>0.02</td>\n",
       "      <td>364</td>\n",
       "      <td>2324</td>\n",
       "      <td>100.0</td>\n",
       "      <td>24.60</td>\n",
       "      <td>14.7028</td>\n",
       "      <td>2</td>\n",
       "      <td>2</td>\n",
       "    </tr>\n",
       "  </tbody>\n",
       "</table>\n",
       "<p>5 rows × 28 columns</p>\n",
       "</div>"
      ],
      "text/plain": [
       "    unit  time_step  operational_setting_1  operational_setting_2  \\\n",
       "3      1          4                20.0031                 0.7005   \n",
       "5      1          6                20.0032                 0.7017   \n",
       "22     1         23                20.0025                 0.7011   \n",
       "30     1         31                20.0045                 0.7006   \n",
       "44     1         45                20.0062                 0.7000   \n",
       "\n",
       "    operational_setting_3  Sensor_0  Sensor_1  Sensor_2  Sensor_3  Sensor_4  \\\n",
       "3                     0.0    491.19    607.03   1488.44   1249.18      9.35   \n",
       "5                     0.0    491.19    607.37   1480.46   1258.90      9.35   \n",
       "22                    0.0    491.19    607.10   1482.68   1252.00      9.35   \n",
       "30                    0.0    491.19    607.38   1483.93   1256.88      9.35   \n",
       "44                    0.0    491.19    607.58   1477.33   1250.58      9.35   \n",
       "\n",
       "            ...            Sensor_13  Sensor_14  Sensor_15  Sensor_16  \\\n",
       "3           ...              8052.30     9.2231       0.02        364   \n",
       "5           ...              8053.17     9.2276       0.02        364   \n",
       "22          ...              8050.94     9.2149       0.02        366   \n",
       "30          ...              8059.58     9.2111       0.02        366   \n",
       "44          ...              8054.67     9.2541       0.02        364   \n",
       "\n",
       "    Sensor_17  Sensor_18  Sensor_19  Sensor_20  Health_state  \\\n",
       "3        2324      100.0      24.42    14.7832             1   \n",
       "5        2324      100.0      24.44    14.7019             1   \n",
       "22       2324      100.0      24.58    14.6688             1   \n",
       "30       2324      100.0      24.48    14.7826             2   \n",
       "44       2324      100.0      24.60    14.7028             2   \n",
       "\n",
       "    Operational_condition  \n",
       "3                       2  \n",
       "5                       2  \n",
       "22                      2  \n",
       "30                      2  \n",
       "44                      2  \n",
       "\n",
       "[5 rows x 28 columns]"
      ]
     },
     "execution_count": 7,
     "metadata": {},
     "output_type": "execute_result"
    }
   ],
   "source": [
    "filepath = '../../../data/interim/data_op_02.csv'\n",
    "data_op_2 = pd.read_csv(filepath)\n",
    "data_op_2.head()"
   ]
  },
  {
   "cell_type": "markdown",
   "metadata": {},
   "source": [
    "Then, drop the labels"
   ]
  },
  {
   "cell_type": "code",
   "execution_count": 8,
   "metadata": {},
   "outputs": [],
   "source": [
    "labels_op_02 =  np.array(data_op_2['Health_state'])"
   ]
  },
  {
   "cell_type": "markdown",
   "metadata": {},
   "source": [
    "# Pipeline"
   ]
  },
  {
   "cell_type": "code",
   "execution_count": 9,
   "metadata": {},
   "outputs": [
    {
     "data": {
      "text/html": [
       "<div>\n",
       "<style scoped>\n",
       "    .dataframe tbody tr th:only-of-type {\n",
       "        vertical-align: middle;\n",
       "    }\n",
       "\n",
       "    .dataframe tbody tr th {\n",
       "        vertical-align: top;\n",
       "    }\n",
       "\n",
       "    .dataframe thead th {\n",
       "        text-align: right;\n",
       "    }\n",
       "</style>\n",
       "<table border=\"1\" class=\"dataframe\">\n",
       "  <thead>\n",
       "    <tr style=\"text-align: right;\">\n",
       "      <th></th>\n",
       "      <th>unit</th>\n",
       "      <th>time_step</th>\n",
       "      <th>operational_setting_1</th>\n",
       "      <th>operational_setting_2</th>\n",
       "      <th>operational_setting_3</th>\n",
       "      <th>Sensor_1</th>\n",
       "      <th>Sensor_2</th>\n",
       "      <th>Sensor_3</th>\n",
       "      <th>Sensor_6</th>\n",
       "      <th>Sensor_8</th>\n",
       "      <th>Sensor_10</th>\n",
       "      <th>Sensor_11</th>\n",
       "      <th>Sensor_12</th>\n",
       "      <th>Sensor_13</th>\n",
       "      <th>Sensor_14</th>\n",
       "      <th>Sensor_19</th>\n",
       "      <th>Sensor_20</th>\n",
       "      <th>Operational_condition</th>\n",
       "    </tr>\n",
       "  </thead>\n",
       "  <tbody>\n",
       "    <tr>\n",
       "      <th>3</th>\n",
       "      <td>1</td>\n",
       "      <td>4</td>\n",
       "      <td>20.0031</td>\n",
       "      <td>0.7005</td>\n",
       "      <td>0.0</td>\n",
       "      <td>607.03</td>\n",
       "      <td>1488.44</td>\n",
       "      <td>1249.18</td>\n",
       "      <td>334.82</td>\n",
       "      <td>8721.53</td>\n",
       "      <td>44.26</td>\n",
       "      <td>314.84</td>\n",
       "      <td>2388.07</td>\n",
       "      <td>8052.30</td>\n",
       "      <td>9.2231</td>\n",
       "      <td>24.42</td>\n",
       "      <td>14.7832</td>\n",
       "      <td>2</td>\n",
       "    </tr>\n",
       "    <tr>\n",
       "      <th>5</th>\n",
       "      <td>1</td>\n",
       "      <td>6</td>\n",
       "      <td>20.0032</td>\n",
       "      <td>0.7017</td>\n",
       "      <td>0.0</td>\n",
       "      <td>607.37</td>\n",
       "      <td>1480.46</td>\n",
       "      <td>1258.90</td>\n",
       "      <td>334.51</td>\n",
       "      <td>8711.44</td>\n",
       "      <td>44.40</td>\n",
       "      <td>315.36</td>\n",
       "      <td>2388.05</td>\n",
       "      <td>8053.17</td>\n",
       "      <td>9.2276</td>\n",
       "      <td>24.44</td>\n",
       "      <td>14.7019</td>\n",
       "      <td>2</td>\n",
       "    </tr>\n",
       "    <tr>\n",
       "      <th>22</th>\n",
       "      <td>1</td>\n",
       "      <td>23</td>\n",
       "      <td>20.0025</td>\n",
       "      <td>0.7011</td>\n",
       "      <td>0.0</td>\n",
       "      <td>607.10</td>\n",
       "      <td>1482.68</td>\n",
       "      <td>1252.00</td>\n",
       "      <td>334.49</td>\n",
       "      <td>8716.75</td>\n",
       "      <td>44.44</td>\n",
       "      <td>314.87</td>\n",
       "      <td>2388.10</td>\n",
       "      <td>8050.94</td>\n",
       "      <td>9.2149</td>\n",
       "      <td>24.58</td>\n",
       "      <td>14.6688</td>\n",
       "      <td>2</td>\n",
       "    </tr>\n",
       "    <tr>\n",
       "      <th>30</th>\n",
       "      <td>1</td>\n",
       "      <td>31</td>\n",
       "      <td>20.0045</td>\n",
       "      <td>0.7006</td>\n",
       "      <td>0.0</td>\n",
       "      <td>607.38</td>\n",
       "      <td>1483.93</td>\n",
       "      <td>1256.88</td>\n",
       "      <td>334.30</td>\n",
       "      <td>8715.50</td>\n",
       "      <td>44.33</td>\n",
       "      <td>314.94</td>\n",
       "      <td>2388.12</td>\n",
       "      <td>8059.58</td>\n",
       "      <td>9.2111</td>\n",
       "      <td>24.48</td>\n",
       "      <td>14.7826</td>\n",
       "      <td>2</td>\n",
       "    </tr>\n",
       "    <tr>\n",
       "      <th>44</th>\n",
       "      <td>1</td>\n",
       "      <td>45</td>\n",
       "      <td>20.0062</td>\n",
       "      <td>0.7000</td>\n",
       "      <td>0.0</td>\n",
       "      <td>607.58</td>\n",
       "      <td>1477.33</td>\n",
       "      <td>1250.58</td>\n",
       "      <td>334.80</td>\n",
       "      <td>8715.69</td>\n",
       "      <td>44.49</td>\n",
       "      <td>315.06</td>\n",
       "      <td>2388.09</td>\n",
       "      <td>8054.67</td>\n",
       "      <td>9.2541</td>\n",
       "      <td>24.60</td>\n",
       "      <td>14.7028</td>\n",
       "      <td>2</td>\n",
       "    </tr>\n",
       "  </tbody>\n",
       "</table>\n",
       "</div>"
      ],
      "text/plain": [
       "    unit  time_step  operational_setting_1  operational_setting_2  \\\n",
       "3      1          4                20.0031                 0.7005   \n",
       "5      1          6                20.0032                 0.7017   \n",
       "22     1         23                20.0025                 0.7011   \n",
       "30     1         31                20.0045                 0.7006   \n",
       "44     1         45                20.0062                 0.7000   \n",
       "\n",
       "    operational_setting_3  Sensor_1  Sensor_2  Sensor_3  Sensor_6  Sensor_8  \\\n",
       "3                     0.0    607.03   1488.44   1249.18    334.82   8721.53   \n",
       "5                     0.0    607.37   1480.46   1258.90    334.51   8711.44   \n",
       "22                    0.0    607.10   1482.68   1252.00    334.49   8716.75   \n",
       "30                    0.0    607.38   1483.93   1256.88    334.30   8715.50   \n",
       "44                    0.0    607.58   1477.33   1250.58    334.80   8715.69   \n",
       "\n",
       "    Sensor_10  Sensor_11  Sensor_12  Sensor_13  Sensor_14  Sensor_19  \\\n",
       "3       44.26     314.84    2388.07    8052.30     9.2231      24.42   \n",
       "5       44.40     315.36    2388.05    8053.17     9.2276      24.44   \n",
       "22      44.44     314.87    2388.10    8050.94     9.2149      24.58   \n",
       "30      44.33     314.94    2388.12    8059.58     9.2111      24.48   \n",
       "44      44.49     315.06    2388.09    8054.67     9.2541      24.60   \n",
       "\n",
       "    Sensor_20  Operational_condition  \n",
       "3     14.7832                      2  \n",
       "5     14.7019                      2  \n",
       "22    14.6688                      2  \n",
       "30    14.7826                      2  \n",
       "44    14.7028                      2  "
      ]
     },
     "execution_count": 9,
     "metadata": {},
     "output_type": "execute_result"
    }
   ],
   "source": [
    "from phm08ds.features.feature_selection import SelectSensors\n",
    "\n",
    "tf_select_sensors = SelectSensors(kind='custom', sensors=[1,2,3,6,8,10,11,12,13,14,19,20])\n",
    "data_op_2 = tf_select_sensors.fit_transform(data_op_2)\n",
    "data_op_2.head()"
   ]
  },
  {
   "cell_type": "code",
   "execution_count": 10,
   "metadata": {},
   "outputs": [
    {
     "data": {
      "text/html": [
       "<div>\n",
       "<style scoped>\n",
       "    .dataframe tbody tr th:only-of-type {\n",
       "        vertical-align: middle;\n",
       "    }\n",
       "\n",
       "    .dataframe tbody tr th {\n",
       "        vertical-align: top;\n",
       "    }\n",
       "\n",
       "    .dataframe thead th {\n",
       "        text-align: right;\n",
       "    }\n",
       "</style>\n",
       "<table border=\"1\" class=\"dataframe\">\n",
       "  <thead>\n",
       "    <tr style=\"text-align: right;\">\n",
       "      <th></th>\n",
       "      <th>Sensor_1</th>\n",
       "      <th>Sensor_2</th>\n",
       "      <th>Sensor_3</th>\n",
       "      <th>Sensor_6</th>\n",
       "      <th>Sensor_8</th>\n",
       "      <th>Sensor_10</th>\n",
       "      <th>Sensor_11</th>\n",
       "      <th>Sensor_12</th>\n",
       "      <th>Sensor_13</th>\n",
       "      <th>Sensor_14</th>\n",
       "      <th>Sensor_19</th>\n",
       "      <th>Sensor_20</th>\n",
       "    </tr>\n",
       "  </thead>\n",
       "  <tbody>\n",
       "    <tr>\n",
       "      <th>3</th>\n",
       "      <td>607.03</td>\n",
       "      <td>1488.44</td>\n",
       "      <td>1249.18</td>\n",
       "      <td>334.82</td>\n",
       "      <td>8721.53</td>\n",
       "      <td>44.26</td>\n",
       "      <td>314.84</td>\n",
       "      <td>2388.07</td>\n",
       "      <td>8052.30</td>\n",
       "      <td>9.2231</td>\n",
       "      <td>24.42</td>\n",
       "      <td>14.7832</td>\n",
       "    </tr>\n",
       "    <tr>\n",
       "      <th>5</th>\n",
       "      <td>607.37</td>\n",
       "      <td>1480.46</td>\n",
       "      <td>1258.90</td>\n",
       "      <td>334.51</td>\n",
       "      <td>8711.44</td>\n",
       "      <td>44.40</td>\n",
       "      <td>315.36</td>\n",
       "      <td>2388.05</td>\n",
       "      <td>8053.17</td>\n",
       "      <td>9.2276</td>\n",
       "      <td>24.44</td>\n",
       "      <td>14.7019</td>\n",
       "    </tr>\n",
       "    <tr>\n",
       "      <th>22</th>\n",
       "      <td>607.10</td>\n",
       "      <td>1482.68</td>\n",
       "      <td>1252.00</td>\n",
       "      <td>334.49</td>\n",
       "      <td>8716.75</td>\n",
       "      <td>44.44</td>\n",
       "      <td>314.87</td>\n",
       "      <td>2388.10</td>\n",
       "      <td>8050.94</td>\n",
       "      <td>9.2149</td>\n",
       "      <td>24.58</td>\n",
       "      <td>14.6688</td>\n",
       "    </tr>\n",
       "    <tr>\n",
       "      <th>30</th>\n",
       "      <td>607.38</td>\n",
       "      <td>1483.93</td>\n",
       "      <td>1256.88</td>\n",
       "      <td>334.30</td>\n",
       "      <td>8715.50</td>\n",
       "      <td>44.33</td>\n",
       "      <td>314.94</td>\n",
       "      <td>2388.12</td>\n",
       "      <td>8059.58</td>\n",
       "      <td>9.2111</td>\n",
       "      <td>24.48</td>\n",
       "      <td>14.7826</td>\n",
       "    </tr>\n",
       "    <tr>\n",
       "      <th>44</th>\n",
       "      <td>607.58</td>\n",
       "      <td>1477.33</td>\n",
       "      <td>1250.58</td>\n",
       "      <td>334.80</td>\n",
       "      <td>8715.69</td>\n",
       "      <td>44.49</td>\n",
       "      <td>315.06</td>\n",
       "      <td>2388.09</td>\n",
       "      <td>8054.67</td>\n",
       "      <td>9.2541</td>\n",
       "      <td>24.60</td>\n",
       "      <td>14.7028</td>\n",
       "    </tr>\n",
       "  </tbody>\n",
       "</table>\n",
       "</div>"
      ],
      "text/plain": [
       "    Sensor_1  Sensor_2  Sensor_3  Sensor_6  Sensor_8  Sensor_10  Sensor_11  \\\n",
       "3     607.03   1488.44   1249.18    334.82   8721.53      44.26     314.84   \n",
       "5     607.37   1480.46   1258.90    334.51   8711.44      44.40     315.36   \n",
       "22    607.10   1482.68   1252.00    334.49   8716.75      44.44     314.87   \n",
       "30    607.38   1483.93   1256.88    334.30   8715.50      44.33     314.94   \n",
       "44    607.58   1477.33   1250.58    334.80   8715.69      44.49     315.06   \n",
       "\n",
       "    Sensor_12  Sensor_13  Sensor_14  Sensor_19  Sensor_20  \n",
       "3     2388.07    8052.30     9.2231      24.42    14.7832  \n",
       "5     2388.05    8053.17     9.2276      24.44    14.7019  \n",
       "22    2388.10    8050.94     9.2149      24.58    14.6688  \n",
       "30    2388.12    8059.58     9.2111      24.48    14.7826  \n",
       "44    2388.09    8054.67     9.2541      24.60    14.7028  "
      ]
     },
     "execution_count": 10,
     "metadata": {},
     "output_type": "execute_result"
    }
   ],
   "source": [
    "from phm08ds.features.feature_selection import RemoveInfo\n",
    "\n",
    "tf_remove_info = RemoveInfo()\n",
    "\n",
    "data_with_features = tf_remove_info.fit_transform(data_op_2)\n",
    "data_with_features.head()"
   ]
  },
  {
   "cell_type": "code",
   "execution_count": 11,
   "metadata": {},
   "outputs": [
    {
     "data": {
      "text/html": [
       "<div>\n",
       "<style scoped>\n",
       "    .dataframe tbody tr th:only-of-type {\n",
       "        vertical-align: middle;\n",
       "    }\n",
       "\n",
       "    .dataframe tbody tr th {\n",
       "        vertical-align: top;\n",
       "    }\n",
       "\n",
       "    .dataframe thead th {\n",
       "        text-align: right;\n",
       "    }\n",
       "</style>\n",
       "<table border=\"1\" class=\"dataframe\">\n",
       "  <thead>\n",
       "    <tr style=\"text-align: right;\">\n",
       "      <th></th>\n",
       "      <th>Sensor_1</th>\n",
       "      <th>Sensor_2</th>\n",
       "      <th>Sensor_3</th>\n",
       "      <th>Sensor_6</th>\n",
       "      <th>Sensor_8</th>\n",
       "      <th>Sensor_10</th>\n",
       "      <th>Sensor_11</th>\n",
       "      <th>Sensor_12</th>\n",
       "      <th>Sensor_13</th>\n",
       "      <th>Sensor_14</th>\n",
       "      <th>Sensor_19</th>\n",
       "      <th>Sensor_20</th>\n",
       "    </tr>\n",
       "  </thead>\n",
       "  <tbody>\n",
       "    <tr>\n",
       "      <th>3</th>\n",
       "      <td>607.03</td>\n",
       "      <td>1488.44</td>\n",
       "      <td>1249.18</td>\n",
       "      <td>334.82</td>\n",
       "      <td>8721.53</td>\n",
       "      <td>44.26</td>\n",
       "      <td>314.84</td>\n",
       "      <td>2388.07</td>\n",
       "      <td>8052.30</td>\n",
       "      <td>9.2231</td>\n",
       "      <td>24.42</td>\n",
       "      <td>14.7832</td>\n",
       "    </tr>\n",
       "    <tr>\n",
       "      <th>5</th>\n",
       "      <td>607.37</td>\n",
       "      <td>1480.46</td>\n",
       "      <td>1258.90</td>\n",
       "      <td>334.51</td>\n",
       "      <td>8711.44</td>\n",
       "      <td>44.40</td>\n",
       "      <td>315.36</td>\n",
       "      <td>2388.05</td>\n",
       "      <td>8053.17</td>\n",
       "      <td>9.2276</td>\n",
       "      <td>24.44</td>\n",
       "      <td>14.7019</td>\n",
       "    </tr>\n",
       "    <tr>\n",
       "      <th>22</th>\n",
       "      <td>607.10</td>\n",
       "      <td>1482.68</td>\n",
       "      <td>1252.00</td>\n",
       "      <td>334.49</td>\n",
       "      <td>8716.75</td>\n",
       "      <td>44.44</td>\n",
       "      <td>314.87</td>\n",
       "      <td>2388.10</td>\n",
       "      <td>8050.94</td>\n",
       "      <td>9.2149</td>\n",
       "      <td>24.58</td>\n",
       "      <td>14.6688</td>\n",
       "    </tr>\n",
       "    <tr>\n",
       "      <th>30</th>\n",
       "      <td>607.38</td>\n",
       "      <td>1483.93</td>\n",
       "      <td>1256.88</td>\n",
       "      <td>334.30</td>\n",
       "      <td>8715.50</td>\n",
       "      <td>44.33</td>\n",
       "      <td>314.94</td>\n",
       "      <td>2388.12</td>\n",
       "      <td>8059.58</td>\n",
       "      <td>9.2111</td>\n",
       "      <td>24.48</td>\n",
       "      <td>14.7826</td>\n",
       "    </tr>\n",
       "    <tr>\n",
       "      <th>44</th>\n",
       "      <td>607.58</td>\n",
       "      <td>1477.33</td>\n",
       "      <td>1250.58</td>\n",
       "      <td>334.80</td>\n",
       "      <td>8715.69</td>\n",
       "      <td>44.49</td>\n",
       "      <td>315.06</td>\n",
       "      <td>2388.09</td>\n",
       "      <td>8054.67</td>\n",
       "      <td>9.2541</td>\n",
       "      <td>24.60</td>\n",
       "      <td>14.7028</td>\n",
       "    </tr>\n",
       "  </tbody>\n",
       "</table>\n",
       "</div>"
      ],
      "text/plain": [
       "    Sensor_1  Sensor_2  Sensor_3  Sensor_6  Sensor_8  Sensor_10  Sensor_11  \\\n",
       "3     607.03   1488.44   1249.18    334.82   8721.53      44.26     314.84   \n",
       "5     607.37   1480.46   1258.90    334.51   8711.44      44.40     315.36   \n",
       "22    607.10   1482.68   1252.00    334.49   8716.75      44.44     314.87   \n",
       "30    607.38   1483.93   1256.88    334.30   8715.50      44.33     314.94   \n",
       "44    607.58   1477.33   1250.58    334.80   8715.69      44.49     315.06   \n",
       "\n",
       "    Sensor_12  Sensor_13  Sensor_14  Sensor_19  Sensor_20  \n",
       "3     2388.07    8052.30     9.2231      24.42    14.7832  \n",
       "5     2388.05    8053.17     9.2276      24.44    14.7019  \n",
       "22    2388.10    8050.94     9.2149      24.58    14.6688  \n",
       "30    2388.12    8059.58     9.2111      24.48    14.7826  \n",
       "44    2388.09    8054.67     9.2541      24.60    14.7028  "
      ]
     },
     "execution_count": 11,
     "metadata": {},
     "output_type": "execute_result"
    }
   ],
   "source": [
    "data_with_features.head()"
   ]
  },
  {
   "cell_type": "code",
   "execution_count": 12,
   "metadata": {},
   "outputs": [
    {
     "data": {
      "text/plain": [
       "array([[-1.21269466,  0.42240019, -0.57734709, ..., -0.31420781,\n",
       "        -0.20215967,  1.41169596],\n",
       "       [-0.48655592, -0.9665274 ,  0.66883265, ..., -0.19593168,\n",
       "        -0.05207764,  0.39575503],\n",
       "       [-1.0631955 , -0.58013401, -0.21580111, ..., -0.5297332 ,\n",
       "         0.99849653, -0.01786914],\n",
       "       ...,\n",
       "       [ 0.00465558,  0.90452168,  0.80857915, ...,  0.99734305,\n",
       "        -1.47785687, -0.28778702],\n",
       "       [ 1.11522072,  0.66781221, -0.15810761, ...,  1.30486099,\n",
       "        -0.95256979, -0.97632756],\n",
       "       [ 1.26471987,  1.2474023 ,  1.29064045, ...,  0.89483707,\n",
       "         0.92345551, -0.32027714]])"
      ]
     },
     "execution_count": 12,
     "metadata": {},
     "output_type": "execute_result"
    }
   ],
   "source": [
    "from sklearn.preprocessing import StandardScaler\n",
    "\n",
    "tf_std_scaller = preprocessing.StandardScaler()\n",
    "data_with_features_std = tf_std_scaller.fit_transform(data_with_features)\n",
    "data_with_features_std"
   ]
  },
  {
   "cell_type": "code",
   "execution_count": 14,
   "metadata": {},
   "outputs": [],
   "source": [
    "X = data_with_features_std\n",
    "y = labels_op_02"
   ]
  },
  {
   "cell_type": "code",
   "execution_count": 15,
   "metadata": {},
   "outputs": [],
   "source": [
    "from sklearn.pipeline import Pipeline\n",
    "\n",
    "data_preprocessing = Pipeline([('select_sensors', tf_select_sensors),\n",
    "                               ('remove_info', tf_remove_info),\n",
    "                               ('std_scaler', tf_std_scaller)\n",
    "                              ])"
   ]
  },
  {
   "cell_type": "code",
   "execution_count": 16,
   "metadata": {},
   "outputs": [
    {
     "data": {
      "text/plain": [
       "['../../../models/pipeline/select-sensorNavar_remove-info_std-scaller-OP2.pkl']"
      ]
     },
     "execution_count": 16,
     "metadata": {},
     "output_type": "execute_result"
    }
   ],
   "source": [
    "from sklearn.externals import joblib\n",
    "\n",
    "joblib.dump(data_preprocessing, '../../../models/pipeline/select-sensorNavar_remove-info_std-scaller-OP2.pkl')"
   ]
  },
  {
   "cell_type": "markdown",
   "metadata": {},
   "source": [
    "# Classification steps"
   ]
  },
  {
   "cell_type": "markdown",
   "metadata": {},
   "source": [
    "## Load classifiers"
   ]
  },
  {
   "cell_type": "code",
   "execution_count": 17,
   "metadata": {},
   "outputs": [],
   "source": [
    "classifiers = joblib.load('models/classifiers.pkl')"
   ]
  },
  {
   "cell_type": "code",
   "execution_count": 18,
   "metadata": {},
   "outputs": [],
   "source": [
    "mlp_clf = classifiers['MLP']"
   ]
  },
  {
   "cell_type": "code",
   "execution_count": 19,
   "metadata": {},
   "outputs": [
    {
     "data": {
      "text/plain": [
       "MLPClassifier(activation='relu', alpha=0.0001, batch_size='auto', beta_1=0.9,\n",
       "       beta_2=0.999, early_stopping=False, epsilon=1e-08,\n",
       "       hidden_layer_sizes=17, learning_rate='adaptive',\n",
       "       learning_rate_init=0.0005, max_iter=1300, momentum=0.9,\n",
       "       nesterovs_momentum=True, power_t=0.5, random_state=None,\n",
       "       shuffle=True, solver='adam', tol=0.0001, validation_fraction=0.1,\n",
       "       verbose=False, warm_start=False)"
      ]
     },
     "execution_count": 19,
     "metadata": {},
     "output_type": "execute_result"
    }
   ],
   "source": [
    "mlp_clf.set_params()"
   ]
  },
  {
   "cell_type": "markdown",
   "metadata": {},
   "source": [
    "## Load model selection object"
   ]
  },
  {
   "cell_type": "code",
   "execution_count": 20,
   "metadata": {},
   "outputs": [],
   "source": [
    "from sklearn.model_selection import StratifiedKFold\n",
    "\n",
    "kf = StratifiedKFold(n_splits = 2, random_state=69, shuffle=True)\n",
    "\n",
    "for train_index, test_index in kf.split(X, y):\n",
    "    X_train, X_test = X[train_index], X[test_index]\n",
    "    y_train, y_test = y[train_index], y[test_index]"
   ]
  },
  {
   "cell_type": "code",
   "execution_count": 21,
   "metadata": {},
   "outputs": [
    {
     "data": {
      "text/plain": [
       "MLPClassifier(activation='relu', alpha=0.0001, batch_size='auto', beta_1=0.9,\n",
       "       beta_2=0.999, early_stopping=False, epsilon=1e-08,\n",
       "       hidden_layer_sizes=17, learning_rate='adaptive',\n",
       "       learning_rate_init=0.0005, max_iter=1300, momentum=0.9,\n",
       "       nesterovs_momentum=True, power_t=0.5, random_state=None,\n",
       "       shuffle=True, solver='adam', tol=0.0001, validation_fraction=0.1,\n",
       "       verbose=False, warm_start=False)"
      ]
     },
     "execution_count": 21,
     "metadata": {},
     "output_type": "execute_result"
    }
   ],
   "source": [
    "mlp_clf.fit(X_train, y_train)"
   ]
  },
  {
   "cell_type": "code",
   "execution_count": 22,
   "metadata": {},
   "outputs": [],
   "source": [
    "y_hat = mlp_clf.predict(X_test)\n",
    "y_hat_proba = mlp_clf.predict_proba(X_test)"
   ]
  },
  {
   "cell_type": "markdown",
   "metadata": {},
   "source": [
    "### Performance acessment"
   ]
  },
  {
   "cell_type": "code",
   "execution_count": 23,
   "metadata": {},
   "outputs": [],
   "source": [
    "from sklearn import metrics"
   ]
  },
  {
   "cell_type": "code",
   "execution_count": 24,
   "metadata": {},
   "outputs": [
    {
     "data": {
      "text/plain": [
       "0.6567208271787297"
      ]
     },
     "execution_count": 24,
     "metadata": {},
     "output_type": "execute_result"
    }
   ],
   "source": [
    "conf_mat = metrics.classification.confusion_matrix(y_test, y_hat)\n",
    "acc = metrics.classification.accuracy_score(y_test, y_hat)\n",
    "acc"
   ]
  },
  {
   "cell_type": "code",
   "execution_count": 25,
   "metadata": {},
   "outputs": [],
   "source": [
    "from phm08ds.utils import metrics as met"
   ]
  },
  {
   "cell_type": "code",
   "execution_count": 26,
   "metadata": {},
   "outputs": [
    {
     "data": {
      "text/plain": [
       "array([[10, 28, 61,  0],\n",
       "       [ 4, 26, 68,  0],\n",
       "       [ 1,  9, 83,  6],\n",
       "       [ 0,  0, 16, 83]])"
      ]
     },
     "execution_count": 26,
     "metadata": {},
     "output_type": "execute_result"
    }
   ],
   "source": [
    "met.conf_mat_percentage(conf_mat)"
   ]
  },
  {
   "cell_type": "markdown",
   "metadata": {},
   "source": [
    "## Filter by the mode"
   ]
  },
  {
   "cell_type": "code",
   "execution_count": 27,
   "metadata": {},
   "outputs": [],
   "source": [
    "from scipy import stats\n",
    "\n",
    "# Create a function called \"chunks\" with two arguments, l and n:\n",
    "def chunks(l, n):\n",
    "    # For item i in a range that is a length of l,\n",
    "    for i in range(0, len(l), n):\n",
    "        # Create an index range for l of n items:\n",
    "        yield l[i:i+n]\n",
    "\n",
    "def predict_mode(y_hat, t):\n",
    "    y_hat_mode = []\n",
    "    for k in list(chunks(y_hat, t)):\n",
    "        result_mode = stats.mode(k)\n",
    "        y_hat_mode.append(result_mode.mode)\n",
    "    \n",
    "    return np.array(y_hat_mode)"
   ]
  },
  {
   "cell_type": "code",
   "execution_count": 28,
   "metadata": {},
   "outputs": [
    {
     "name": "stdout",
     "output_type": "stream",
     "text": [
      "acc: 0.6660761736049602\n"
     ]
    },
    {
     "data": {
      "text/plain": [
       "array([[10, 27, 61,  0],\n",
       "       [ 5, 23, 71,  0],\n",
       "       [ 1,  5, 87,  5],\n",
       "       [ 0,  0, 15, 83]])"
      ]
     },
     "execution_count": 28,
     "metadata": {},
     "output_type": "execute_result"
    }
   ],
   "source": [
    "t = 3\n",
    "\n",
    "y_test_mode = predict_mode(y_test, t)\n",
    "y_hat_mode = predict_mode(y_hat, t)\n",
    "\n",
    "print('acc: {}'.format(metrics.accuracy_score(y_test_mode, y_hat_mode)))\n",
    "\n",
    "met.conf_mat_percentage(metrics.confusion_matrix(y_test_mode, y_hat_mode))"
   ]
  },
  {
   "cell_type": "code",
   "execution_count": 29,
   "metadata": {},
   "outputs": [],
   "source": [
    "acc_with_mode = []\n",
    "\n",
    "for t in np.arange(1, 125):\n",
    "    y_test_mode = predict_mode(y_test, t)\n",
    "    y_hat_mode = predict_mode(y_hat, t)\n",
    "    \n",
    "    \n",
    "    acc_with_mode.append(metrics.accuracy_score(y_test_mode, y_hat_mode))\n",
    "    \n",
    "acc_with_mode = np.array(acc_with_mode)"
   ]
  },
  {
   "cell_type": "markdown",
   "metadata": {},
   "source": [
    "## Generate figure"
   ]
  },
  {
   "cell_type": "code",
   "execution_count": 31,
   "metadata": {},
   "outputs": [
    {
     "data": {
      "image/png": "[encoded data removed]",
      "text/plain": [
       "<Figure size 720x504 with 1 Axes>"
      ]
     },
     "metadata": {},
     "output_type": "display_data"
    }
   ],
   "source": [
    "import seaborn as sns\n",
    "\n",
    "sns.set_style('whitegrid')\n",
    "sns.set_context(\"poster\")\n",
    "\n",
    "plt.figure(figsize=(10,7))\n",
    "# ax = plt.subplots()\n",
    "plt.plot(acc_with_mode*100, 'k')\n",
    "plt.xlabel('Number of iterations')\n",
    "plt.ylabel('Accuracy (%)')\n",
    "\n",
    "# fig.savefig('myimage.svg', format='eps', dpi=1200, bbox_inches='tight')\n",
    "plt.savefig('./figures/predictions_by_mode-OC2.eps', format='eps', dpi=300, bbox_inches='tight')\n",
    "plt.savefig('./figures/predictions_by_mode-OC2.png', format='png', dpi=300, bbox_inches='tight')"
   ]
  },
  {
   "cell_type": "code",
   "execution_count": null,
   "metadata": {},
   "outputs": [],
   "source": []
  },
  {
   "cell_type": "code",
   "execution_count": null,
   "metadata": {},
   "outputs": [],
   "source": []
  }
 ],
 "metadata": {
  "kernelspec": {
   "display_name": "phm08ds",
   "language": "python",
   "name": "phm08ds"
  },
  "language_info": {
   "codemirror_mode": {
    "name": "ipython",
    "version": 3
   },
   "file_extension": ".py",
   "mimetype": "text/x-python",
   "name": "python",
   "nbconvert_exporter": "python",
   "pygments_lexer": "ipython3",
   "version": "3.6.6"
  }
 },
 "nbformat": 4,
 "nbformat_minor": 2
}
