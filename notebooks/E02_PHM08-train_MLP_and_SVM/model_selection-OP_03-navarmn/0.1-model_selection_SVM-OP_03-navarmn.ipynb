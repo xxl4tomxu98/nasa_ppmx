{
 "cells": [
  {
   "cell_type": "code",
   "execution_count": 1,
   "metadata": {},
   "outputs": [],
   "source": [
    "import pandas as pd\n",
    "import numpy as np\n",
    "import matplotlib.pyplot as plt\n",
    "from sklearn import preprocessing\n",
    "from sklearn import metrics\n",
    "\n",
    "import os, sys\n",
    "from time import time\n",
    "\n",
    "from phm08ds.models import experiment"
   ]
  },
  {
   "cell_type": "markdown",
   "metadata": {},
   "source": [
    "## Load Dataset"
   ]
  },
  {
   "cell_type": "code",
   "execution_count": 2,
   "metadata": {},
   "outputs": [
    {
     "data": {
      "text/html": [
       "<div>\n",
       "<style scoped>\n",
       "    .dataframe tbody tr th:only-of-type {\n",
       "        vertical-align: middle;\n",
       "    }\n",
       "\n",
       "    .dataframe tbody tr th {\n",
       "        vertical-align: top;\n",
       "    }\n",
       "\n",
       "    .dataframe thead th {\n",
       "        text-align: right;\n",
       "    }\n",
       "</style>\n",
       "<table border=\"1\" class=\"dataframe\">\n",
       "  <thead>\n",
       "    <tr style=\"text-align: right;\">\n",
       "      <th></th>\n",
       "      <th>unit</th>\n",
       "      <th>time_step</th>\n",
       "      <th>operational_setting_1</th>\n",
       "      <th>operational_setting_2</th>\n",
       "      <th>operational_setting_3</th>\n",
       "      <th>Sensor_2</th>\n",
       "      <th>Sensor_3</th>\n",
       "      <th>Sensor_4</th>\n",
       "      <th>Sensor_7</th>\n",
       "      <th>Sensor_11</th>\n",
       "      <th>Sensor_12</th>\n",
       "      <th>Sensor_15</th>\n",
       "      <th>Operational_condition</th>\n",
       "      <th>Health_state</th>\n",
       "    </tr>\n",
       "  </thead>\n",
       "  <tbody>\n",
       "    <tr>\n",
       "      <th>1</th>\n",
       "      <td>1</td>\n",
       "      <td>2</td>\n",
       "      <td>0.0015</td>\n",
       "      <td>0.0003</td>\n",
       "      <td>100.0</td>\n",
       "      <td>1584.55</td>\n",
       "      <td>1403.96</td>\n",
       "      <td>14.62</td>\n",
       "      <td>2388.01</td>\n",
       "      <td>521.81</td>\n",
       "      <td>2388.15</td>\n",
       "      <td>0.03</td>\n",
       "      <td>3</td>\n",
       "      <td>1</td>\n",
       "    </tr>\n",
       "    <tr>\n",
       "      <th>7</th>\n",
       "      <td>1</td>\n",
       "      <td>8</td>\n",
       "      <td>0.0011</td>\n",
       "      <td>0.0000</td>\n",
       "      <td>100.0</td>\n",
       "      <td>1589.55</td>\n",
       "      <td>1407.59</td>\n",
       "      <td>14.62</td>\n",
       "      <td>2388.10</td>\n",
       "      <td>521.74</td>\n",
       "      <td>2388.03</td>\n",
       "      <td>0.03</td>\n",
       "      <td>3</td>\n",
       "      <td>1</td>\n",
       "    </tr>\n",
       "    <tr>\n",
       "      <th>8</th>\n",
       "      <td>1</td>\n",
       "      <td>9</td>\n",
       "      <td>0.0011</td>\n",
       "      <td>0.0020</td>\n",
       "      <td>100.0</td>\n",
       "      <td>1586.18</td>\n",
       "      <td>1399.01</td>\n",
       "      <td>14.62</td>\n",
       "      <td>2388.10</td>\n",
       "      <td>521.72</td>\n",
       "      <td>2388.08</td>\n",
       "      <td>0.03</td>\n",
       "      <td>3</td>\n",
       "      <td>1</td>\n",
       "    </tr>\n",
       "    <tr>\n",
       "      <th>16</th>\n",
       "      <td>1</td>\n",
       "      <td>17</td>\n",
       "      <td>0.0003</td>\n",
       "      <td>0.0000</td>\n",
       "      <td>100.0</td>\n",
       "      <td>1584.57</td>\n",
       "      <td>1410.11</td>\n",
       "      <td>14.62</td>\n",
       "      <td>2388.06</td>\n",
       "      <td>522.17</td>\n",
       "      <td>2388.10</td>\n",
       "      <td>0.03</td>\n",
       "      <td>3</td>\n",
       "      <td>1</td>\n",
       "    </tr>\n",
       "    <tr>\n",
       "      <th>19</th>\n",
       "      <td>1</td>\n",
       "      <td>20</td>\n",
       "      <td>0.0004</td>\n",
       "      <td>0.0017</td>\n",
       "      <td>100.0</td>\n",
       "      <td>1581.33</td>\n",
       "      <td>1399.44</td>\n",
       "      <td>14.62</td>\n",
       "      <td>2388.09</td>\n",
       "      <td>521.62</td>\n",
       "      <td>2388.06</td>\n",
       "      <td>0.03</td>\n",
       "      <td>3</td>\n",
       "      <td>1</td>\n",
       "    </tr>\n",
       "  </tbody>\n",
       "</table>\n",
       "</div>"
      ],
      "text/plain": [
       "    unit  time_step  operational_setting_1  operational_setting_2  \\\n",
       "1      1          2                 0.0015                 0.0003   \n",
       "7      1          8                 0.0011                 0.0000   \n",
       "8      1          9                 0.0011                 0.0020   \n",
       "16     1         17                 0.0003                 0.0000   \n",
       "19     1         20                 0.0004                 0.0017   \n",
       "\n",
       "    operational_setting_3  Sensor_2  Sensor_3  Sensor_4  Sensor_7  Sensor_11  \\\n",
       "1                   100.0   1584.55   1403.96     14.62   2388.01     521.81   \n",
       "7                   100.0   1589.55   1407.59     14.62   2388.10     521.74   \n",
       "8                   100.0   1586.18   1399.01     14.62   2388.10     521.72   \n",
       "16                  100.0   1584.57   1410.11     14.62   2388.06     522.17   \n",
       "19                  100.0   1581.33   1399.44     14.62   2388.09     521.62   \n",
       "\n",
       "    Sensor_12  Sensor_15  Operational_condition  Health_state  \n",
       "1     2388.15       0.03                      3             1  \n",
       "7     2388.03       0.03                      3             1  \n",
       "8     2388.08       0.03                      3             1  \n",
       "16    2388.10       0.03                      3             1  \n",
       "19    2388.06       0.03                      3             1  "
      ]
     },
     "execution_count": 2,
     "metadata": {},
     "output_type": "execute_result"
    }
   ],
   "source": [
    "folderpath = '../../../data/interim/'\n",
    "data_op_03 = pd.read_csv(folderpath + 'data_op_03.csv')\n",
    "data_op_03.head()"
   ]
  },
  {
   "cell_type": "markdown",
   "metadata": {},
   "source": [
    "## Data preprocessing"
   ]
  },
  {
   "cell_type": "markdown",
   "metadata": {},
   "source": [
    "### Get rid of informations there are not sensor readings"
   ]
  },
  {
   "cell_type": "markdown",
   "metadata": {},
   "source": [
    "Wang (2008) reports Sensor 15 has importat information. However, there are no relevant informations of this sensor. The data seems to be corrupted like this:"
   ]
  },
  {
   "cell_type": "markdown",
   "metadata": {},
   "source": [
    "Let's remove it from our database creating an object transformer."
   ]
  },
  {
   "cell_type": "code",
   "execution_count": 3,
   "metadata": {},
   "outputs": [
    {
     "data": {
      "text/html": [
       "<div>\n",
       "<style scoped>\n",
       "    .dataframe tbody tr th:only-of-type {\n",
       "        vertical-align: middle;\n",
       "    }\n",
       "\n",
       "    .dataframe tbody tr th {\n",
       "        vertical-align: top;\n",
       "    }\n",
       "\n",
       "    .dataframe thead th {\n",
       "        text-align: right;\n",
       "    }\n",
       "</style>\n",
       "<table border=\"1\" class=\"dataframe\">\n",
       "  <thead>\n",
       "    <tr style=\"text-align: right;\">\n",
       "      <th></th>\n",
       "      <th>unit</th>\n",
       "      <th>time_step</th>\n",
       "      <th>operational_setting_1</th>\n",
       "      <th>operational_setting_2</th>\n",
       "      <th>operational_setting_3</th>\n",
       "      <th>Sensor_2</th>\n",
       "      <th>Sensor_3</th>\n",
       "      <th>Sensor_4</th>\n",
       "      <th>Sensor_7</th>\n",
       "      <th>Sensor_11</th>\n",
       "      <th>Sensor_12</th>\n",
       "      <th>Operational_condition</th>\n",
       "      <th>Health_state</th>\n",
       "    </tr>\n",
       "  </thead>\n",
       "  <tbody>\n",
       "    <tr>\n",
       "      <th>1</th>\n",
       "      <td>1</td>\n",
       "      <td>2</td>\n",
       "      <td>0.0015</td>\n",
       "      <td>0.0003</td>\n",
       "      <td>100.0</td>\n",
       "      <td>1584.55</td>\n",
       "      <td>1403.96</td>\n",
       "      <td>14.62</td>\n",
       "      <td>2388.01</td>\n",
       "      <td>521.81</td>\n",
       "      <td>2388.15</td>\n",
       "      <td>3</td>\n",
       "      <td>1</td>\n",
       "    </tr>\n",
       "    <tr>\n",
       "      <th>7</th>\n",
       "      <td>1</td>\n",
       "      <td>8</td>\n",
       "      <td>0.0011</td>\n",
       "      <td>0.0000</td>\n",
       "      <td>100.0</td>\n",
       "      <td>1589.55</td>\n",
       "      <td>1407.59</td>\n",
       "      <td>14.62</td>\n",
       "      <td>2388.10</td>\n",
       "      <td>521.74</td>\n",
       "      <td>2388.03</td>\n",
       "      <td>3</td>\n",
       "      <td>1</td>\n",
       "    </tr>\n",
       "    <tr>\n",
       "      <th>8</th>\n",
       "      <td>1</td>\n",
       "      <td>9</td>\n",
       "      <td>0.0011</td>\n",
       "      <td>0.0020</td>\n",
       "      <td>100.0</td>\n",
       "      <td>1586.18</td>\n",
       "      <td>1399.01</td>\n",
       "      <td>14.62</td>\n",
       "      <td>2388.10</td>\n",
       "      <td>521.72</td>\n",
       "      <td>2388.08</td>\n",
       "      <td>3</td>\n",
       "      <td>1</td>\n",
       "    </tr>\n",
       "    <tr>\n",
       "      <th>16</th>\n",
       "      <td>1</td>\n",
       "      <td>17</td>\n",
       "      <td>0.0003</td>\n",
       "      <td>0.0000</td>\n",
       "      <td>100.0</td>\n",
       "      <td>1584.57</td>\n",
       "      <td>1410.11</td>\n",
       "      <td>14.62</td>\n",
       "      <td>2388.06</td>\n",
       "      <td>522.17</td>\n",
       "      <td>2388.10</td>\n",
       "      <td>3</td>\n",
       "      <td>1</td>\n",
       "    </tr>\n",
       "    <tr>\n",
       "      <th>19</th>\n",
       "      <td>1</td>\n",
       "      <td>20</td>\n",
       "      <td>0.0004</td>\n",
       "      <td>0.0017</td>\n",
       "      <td>100.0</td>\n",
       "      <td>1581.33</td>\n",
       "      <td>1399.44</td>\n",
       "      <td>14.62</td>\n",
       "      <td>2388.09</td>\n",
       "      <td>521.62</td>\n",
       "      <td>2388.06</td>\n",
       "      <td>3</td>\n",
       "      <td>1</td>\n",
       "    </tr>\n",
       "  </tbody>\n",
       "</table>\n",
       "</div>"
      ],
      "text/plain": [
       "    unit  time_step  operational_setting_1  operational_setting_2  \\\n",
       "1      1          2                 0.0015                 0.0003   \n",
       "7      1          8                 0.0011                 0.0000   \n",
       "8      1          9                 0.0011                 0.0020   \n",
       "16     1         17                 0.0003                 0.0000   \n",
       "19     1         20                 0.0004                 0.0017   \n",
       "\n",
       "    operational_setting_3  Sensor_2  Sensor_3  Sensor_4  Sensor_7  Sensor_11  \\\n",
       "1                   100.0   1584.55   1403.96     14.62   2388.01     521.81   \n",
       "7                   100.0   1589.55   1407.59     14.62   2388.10     521.74   \n",
       "8                   100.0   1586.18   1399.01     14.62   2388.10     521.72   \n",
       "16                  100.0   1584.57   1410.11     14.62   2388.06     522.17   \n",
       "19                  100.0   1581.33   1399.44     14.62   2388.09     521.62   \n",
       "\n",
       "    Sensor_12  Operational_condition  Health_state  \n",
       "1     2388.15                      3             1  \n",
       "7     2388.03                      3             1  \n",
       "8     2388.08                      3             1  \n",
       "16    2388.10                      3             1  \n",
       "19    2388.06                      3             1  "
      ]
     },
     "execution_count": 3,
     "metadata": {},
     "output_type": "execute_result"
    }
   ],
   "source": [
    "from phm08ds.features.feature_selection import RemoveSensor\n",
    "\n",
    "tf_remove_sensor_15 = RemoveSensor(sensors=[15])\n",
    "data_op_03 = tf_remove_sensor_15.fit_transform(data_op_03)\n",
    "data_op_03.head()"
   ]
  },
  {
   "cell_type": "markdown",
   "metadata": {},
   "source": [
    "Before feeding to the classifier, let's remove unwanted information, such as unit, time_step and operational settings."
   ]
  },
  {
   "cell_type": "code",
   "execution_count": 4,
   "metadata": {},
   "outputs": [
    {
     "data": {
      "text/html": [
       "<div>\n",
       "<style scoped>\n",
       "    .dataframe tbody tr th:only-of-type {\n",
       "        vertical-align: middle;\n",
       "    }\n",
       "\n",
       "    .dataframe tbody tr th {\n",
       "        vertical-align: top;\n",
       "    }\n",
       "\n",
       "    .dataframe thead th {\n",
       "        text-align: right;\n",
       "    }\n",
       "</style>\n",
       "<table border=\"1\" class=\"dataframe\">\n",
       "  <thead>\n",
       "    <tr style=\"text-align: right;\">\n",
       "      <th></th>\n",
       "      <th>Sensor_2</th>\n",
       "      <th>Sensor_3</th>\n",
       "      <th>Sensor_4</th>\n",
       "      <th>Sensor_7</th>\n",
       "      <th>Sensor_11</th>\n",
       "      <th>Sensor_12</th>\n",
       "      <th>Health_state</th>\n",
       "    </tr>\n",
       "  </thead>\n",
       "  <tbody>\n",
       "    <tr>\n",
       "      <th>1</th>\n",
       "      <td>1584.55</td>\n",
       "      <td>1403.96</td>\n",
       "      <td>14.62</td>\n",
       "      <td>2388.01</td>\n",
       "      <td>521.81</td>\n",
       "      <td>2388.15</td>\n",
       "      <td>1</td>\n",
       "    </tr>\n",
       "    <tr>\n",
       "      <th>7</th>\n",
       "      <td>1589.55</td>\n",
       "      <td>1407.59</td>\n",
       "      <td>14.62</td>\n",
       "      <td>2388.10</td>\n",
       "      <td>521.74</td>\n",
       "      <td>2388.03</td>\n",
       "      <td>1</td>\n",
       "    </tr>\n",
       "    <tr>\n",
       "      <th>8</th>\n",
       "      <td>1586.18</td>\n",
       "      <td>1399.01</td>\n",
       "      <td>14.62</td>\n",
       "      <td>2388.10</td>\n",
       "      <td>521.72</td>\n",
       "      <td>2388.08</td>\n",
       "      <td>1</td>\n",
       "    </tr>\n",
       "    <tr>\n",
       "      <th>16</th>\n",
       "      <td>1584.57</td>\n",
       "      <td>1410.11</td>\n",
       "      <td>14.62</td>\n",
       "      <td>2388.06</td>\n",
       "      <td>522.17</td>\n",
       "      <td>2388.10</td>\n",
       "      <td>1</td>\n",
       "    </tr>\n",
       "    <tr>\n",
       "      <th>19</th>\n",
       "      <td>1581.33</td>\n",
       "      <td>1399.44</td>\n",
       "      <td>14.62</td>\n",
       "      <td>2388.09</td>\n",
       "      <td>521.62</td>\n",
       "      <td>2388.06</td>\n",
       "      <td>1</td>\n",
       "    </tr>\n",
       "  </tbody>\n",
       "</table>\n",
       "</div>"
      ],
      "text/plain": [
       "    Sensor_2  Sensor_3  Sensor_4  Sensor_7  Sensor_11  Sensor_12  Health_state\n",
       "1    1584.55   1403.96     14.62   2388.01     521.81    2388.15             1\n",
       "7    1589.55   1407.59     14.62   2388.10     521.74    2388.03             1\n",
       "8    1586.18   1399.01     14.62   2388.10     521.72    2388.08             1\n",
       "16   1584.57   1410.11     14.62   2388.06     522.17    2388.10             1\n",
       "19   1581.33   1399.44     14.62   2388.09     521.62    2388.06             1"
      ]
     },
     "execution_count": 4,
     "metadata": {},
     "output_type": "execute_result"
    }
   ],
   "source": [
    "from phm08ds.features.feature_selection import RemoveInfo\n",
    "\n",
    "tf_remove_info = RemoveInfo()\n",
    "\n",
    "data_with_features = tf_remove_info.fit_transform(data_op_03)\n",
    "data_with_features.head()"
   ]
  },
  {
   "cell_type": "markdown",
   "metadata": {},
   "source": [
    "We need to normalize our data. Let's use Z-score standardization."
   ]
  },
  {
   "cell_type": "code",
   "execution_count": 5,
   "metadata": {},
   "outputs": [
    {
     "data": {
      "text/plain": [
       "array([[-1.040896  , -0.62635123, -1.        , -1.37994051,  0.63774241,\n",
       "         0.65278365],\n",
       "       [-0.19248051, -0.21074616, -1.        , -0.05996073,  0.5391007 ,\n",
       "        -1.09204307],\n",
       "       [-0.76431255, -1.19308541, -1.        , -0.05996073,  0.51091736,\n",
       "        -0.36503194],\n",
       "       ...,\n",
       "       [ 0.79168145,  0.75556424, -1.        ,  1.55334789, -1.33509174,\n",
       "         2.39761038],\n",
       "       [ 1.7639656 ,  1.08530049, -1.        ,  2.4333344 , -2.16650042,\n",
       "         2.97921928],\n",
       "       [ 1.69609236,  1.87872835, -1.        ,  2.4333344 , -1.67329188,\n",
       "         1.81600147]])"
      ]
     },
     "execution_count": 5,
     "metadata": {},
     "output_type": "execute_result"
    }
   ],
   "source": [
    "from sklearn.preprocessing import StandardScaler\n",
    "\n",
    "tf_std_scaller = preprocessing.StandardScaler()\n",
    "data_with_features_std = tf_std_scaller.fit_transform(data_with_features.drop(labels='Health_state', axis=1))\n",
    "data_with_features_std"
   ]
  },
  {
   "cell_type": "code",
   "execution_count": 6,
   "metadata": {},
   "outputs": [
    {
     "data": {
      "text/plain": [
       "array([1, 1, 1, ..., 4, 4, 4])"
      ]
     },
     "execution_count": 6,
     "metadata": {},
     "output_type": "execute_result"
    }
   ],
   "source": [
    "labels = np.array(data_with_features['Health_state'])\n",
    "labels"
   ]
  },
  {
   "cell_type": "markdown",
   "metadata": {},
   "source": [
    "# Classification steps"
   ]
  },
  {
   "cell_type": "markdown",
   "metadata": {},
   "source": [
    "## Load Experiment model"
   ]
  },
  {
   "cell_type": "code",
   "execution_count": 7,
   "metadata": {},
   "outputs": [],
   "source": [
    "from phm08ds.models import experiment"
   ]
  },
  {
   "cell_type": "markdown",
   "metadata": {},
   "source": [
    "## Define classifiers and its specifications"
   ]
  },
  {
   "cell_type": "code",
   "execution_count": 8,
   "metadata": {},
   "outputs": [],
   "source": [
    "from sklearn.neural_network import MLPClassifier\n",
    "from sklearn.svm import SVC"
   ]
  },
  {
   "cell_type": "code",
   "execution_count": 9,
   "metadata": {},
   "outputs": [],
   "source": [
    "# SVM\n",
    "svm_linear_clf = SVC(kernel='linear')\n",
    "svm_rbf_clf = SVC(kernel='rbf')\n",
    "svm_poly_clf = SVC(kernel='poly')\n",
    "svm_sigmoid_clf = SVC(kernel='sigmoid')"
   ]
  },
  {
   "cell_type": "markdown",
   "metadata": {},
   "source": [
    "## Put all clf in a dictionary:"
   ]
  },
  {
   "cell_type": "code",
   "execution_count": 10,
   "metadata": {},
   "outputs": [],
   "source": [
    "classifiers = {'SVM-Linear': svm_linear_clf, 'SVM-RBF': svm_rbf_clf, 'SVM-Poly': svm_poly_clf, 'SVM-Sigmoid': svm_sigmoid_clf}"
   ]
  },
  {
   "cell_type": "markdown",
   "metadata": {},
   "source": [
    "Since we are using SVM and MLP we need to extract all power from those methods. Let's perform a Random Search to parameters optimizations."
   ]
  },
  {
   "cell_type": "markdown",
   "metadata": {},
   "source": [
    "### Hyperparameter tunning"
   ]
  },
  {
   "cell_type": "code",
   "execution_count": 11,
   "metadata": {},
   "outputs": [],
   "source": [
    "from sklearn.pipeline import Pipeline\n",
    "\n",
    "data_preprocessing = Pipeline([('remove_sensor_15', tf_remove_sensor_15),\n",
    "                               ('remove_info', tf_remove_info),\n",
    "                               ('std_scaler', tf_std_scaller)\n",
    "                              ])"
   ]
  },
  {
   "cell_type": "code",
   "execution_count": 12,
   "metadata": {},
   "outputs": [],
   "source": [
    "from sklearn.model_selection import RandomizedSearchCV\n",
    "\n",
    "random_search = dict((k,[]) for k in classifiers.keys())"
   ]
  },
  {
   "cell_type": "code",
   "execution_count": 13,
   "metadata": {},
   "outputs": [],
   "source": [
    "param_dist_dict = {\n",
    "                   'SVM-Linear': {'C': [2**i for i in range(-5,15)]},\n",
    "                   'SVM-RBF': {'gamma': [2**i for i in range(-15,3)], 'C': [2**i for i in range(-5,15)]},\n",
    "                   'SVM-Poly': {'gamma': [2**i for i in range(-15,3)], 'C': [2**i for i in range(-5,15)]},\n",
    "                   'SVM-Sigmoid': {'gamma': [2**i for i in range(-15,3)], 'C': [2**i for i in range(-5,15)]}\n",
    "                  }"
   ]
  },
  {
   "cell_type": "code",
   "execution_count": 14,
   "metadata": {},
   "outputs": [
    {
     "name": "stdout",
     "output_type": "stream",
     "text": [
      "Fitting 10 folds for each of 5 candidates, totalling 50 fits\n",
      "[CV] C=0.03125 .......................................................\n",
      "[CV] .............. C=0.03125, score=0.6097560975609756, total=   0.5s\n",
      "[CV] C=0.03125 .......................................................\n"
     ]
    },
    {
     "name": "stderr",
     "output_type": "stream",
     "text": [
      "[Parallel(n_jobs=1)]: Done   1 out of   1 | elapsed:    0.8s remaining:    0.0s\n"
     ]
    },
    {
     "name": "stdout",
     "output_type": "stream",
     "text": [
      "[CV] .............. C=0.03125, score=0.6226685796269728, total=   0.5s\n",
      "[CV] C=0.03125 .......................................................\n"
     ]
    },
    {
     "name": "stderr",
     "output_type": "stream",
     "text": [
      "[Parallel(n_jobs=1)]: Done   2 out of   2 | elapsed:    1.6s remaining:    0.0s\n"
     ]
    },
    {
     "name": "stdout",
     "output_type": "stream",
     "text": [
      "[CV] .............. C=0.03125, score=0.6183644189383071, total=   0.5s\n",
      "[CV] C=0.03125 .......................................................\n"
     ]
    },
    {
     "name": "stderr",
     "output_type": "stream",
     "text": [
      "[Parallel(n_jobs=1)]: Done   3 out of   3 | elapsed:    2.3s remaining:    0.0s\n"
     ]
    },
    {
     "name": "stdout",
     "output_type": "stream",
     "text": [
      "[CV] .............. C=0.03125, score=0.6149425287356322, total=   0.5s\n",
      "[CV] C=0.03125 .......................................................\n"
     ]
    },
    {
     "name": "stderr",
     "output_type": "stream",
     "text": [
      "[Parallel(n_jobs=1)]: Done   4 out of   4 | elapsed:    3.1s remaining:    0.0s\n"
     ]
    },
    {
     "name": "stdout",
     "output_type": "stream",
     "text": [
      "[CV] .............. C=0.03125, score=0.6086330935251798, total=   0.5s\n",
      "[CV] C=0.03125 .......................................................\n",
      "[CV] .............. C=0.03125, score=0.6172661870503597, total=   0.5s\n",
      "[CV] C=0.03125 .......................................................\n",
      "[CV] .............. C=0.03125, score=0.6100719424460431, total=   0.5s\n",
      "[CV] C=0.03125 .......................................................\n",
      "[CV] .............. C=0.03125, score=0.6167146974063401, total=   0.5s\n",
      "[CV] C=0.03125 .......................................................\n",
      "[CV] .............. C=0.03125, score=0.6167146974063401, total=   0.5s\n",
      "[CV] C=0.03125 .......................................................\n",
      "[CV] .............. C=0.03125, score=0.6268011527377522, total=   0.4s\n",
      "[CV] C=0.0625 ........................................................\n",
      "[CV] ............... C=0.0625, score=0.6083213773314203, total=   0.5s\n",
      "[CV] C=0.0625 ........................................................\n",
      "[CV] ............... C=0.0625, score=0.6226685796269728, total=   0.5s\n",
      "[CV] C=0.0625 ........................................................\n",
      "[CV] ............... C=0.0625, score=0.6197991391678622, total=   0.4s\n",
      "[CV] C=0.0625 ........................................................\n",
      "[CV] ............... C=0.0625, score=0.6135057471264368, total=   0.5s\n",
      "[CV] C=0.0625 ........................................................\n",
      "[CV] ............... C=0.0625, score=0.6086330935251798, total=   0.4s\n",
      "[CV] C=0.0625 ........................................................\n",
      "[CV] ............... C=0.0625, score=0.6158273381294964, total=   0.4s\n",
      "[CV] C=0.0625 ........................................................\n",
      "[CV] ............... C=0.0625, score=0.6100719424460431, total=   0.4s\n",
      "[CV] C=0.0625 ........................................................\n",
      "[CV] ............... C=0.0625, score=0.6167146974063401, total=   0.5s\n",
      "[CV] C=0.0625 ........................................................\n",
      "[CV] ............... C=0.0625, score=0.6195965417867435, total=   0.5s\n",
      "[CV] C=0.0625 ........................................................\n",
      "[CV] ............... C=0.0625, score=0.6268011527377522, total=   0.5s\n",
      "[CV] C=128 ...........................................................\n",
      "[CV] .................. C=128, score=0.6097560975609756, total=10.9min\n",
      "[CV] C=128 ...........................................................\n",
      "[CV] .................. C=128, score=0.6212338593974175, total= 9.0min\n",
      "[CV] C=128 ...........................................................\n",
      "[CV] .................. C=128, score=0.6169296987087518, total= 9.8min\n",
      "[CV] C=128 ...........................................................\n",
      "[CV] .................. C=128, score=0.6135057471264368, total= 8.1min\n",
      "[CV] C=128 ...........................................................\n",
      "[CV] ................................. C=128, score=0.6, total= 8.3min\n",
      "[CV] C=128 ...........................................................\n",
      "[CV] .................. C=128, score=0.6158273381294964, total=10.2min\n",
      "[CV] C=128 ...........................................................\n",
      "[CV] .................. C=128, score=0.6115107913669064, total=11.8min\n",
      "[CV] C=128 ...........................................................\n",
      "[CV] .................. C=128, score=0.6167146974063401, total= 8.4min\n",
      "[CV] C=128 ...........................................................\n",
      "[CV] .................. C=128, score=0.6210374639769453, total= 8.9min\n",
      "[CV] C=128 ...........................................................\n",
      "[CV] .................. C=128, score=0.6268011527377522, total= 9.0min\n",
      "[CV] C=0.25 ..........................................................\n",
      "[CV] ................. C=0.25, score=0.6097560975609756, total=   0.4s\n",
      "[CV] C=0.25 ..........................................................\n",
      "[CV] ................. C=0.25, score=0.6212338593974175, total=   0.4s\n",
      "[CV] C=0.25 ..........................................................\n",
      "[CV] ................. C=0.25, score=0.6183644189383071, total=   0.5s\n",
      "[CV] C=0.25 ..........................................................\n",
      "[CV] ................. C=0.25, score=0.6135057471264368, total=   0.4s\n",
      "[CV] C=0.25 ..........................................................\n",
      "[CV] ................... C=0.25, score=0.60431654676259, total=   0.4s\n",
      "[CV] C=0.25 ..........................................................\n",
      "[CV] ................. C=0.25, score=0.6158273381294964, total=   0.5s\n",
      "[CV] C=0.25 ..........................................................\n",
      "[CV] ................. C=0.25, score=0.6115107913669064, total=   0.4s\n",
      "[CV] C=0.25 ..........................................................\n",
      "[CV] ................. C=0.25, score=0.6167146974063401, total=   0.4s\n",
      "[CV] C=0.25 ..........................................................\n",
      "[CV] ................. C=0.25, score=0.6210374639769453, total=   0.4s\n",
      "[CV] C=0.25 ..........................................................\n",
      "[CV] ................. C=0.25, score=0.6268011527377522, total=   0.4s\n",
      "[CV] C=4 .............................................................\n",
      "[CV] .................... C=4, score=0.6097560975609756, total=   0.7s\n",
      "[CV] C=4 .............................................................\n",
      "[CV] .................... C=4, score=0.6212338593974175, total=   0.7s\n",
      "[CV] C=4 .............................................................\n",
      "[CV] .................... C=4, score=0.6169296987087518, total=   0.7s\n",
      "[CV] C=4 .............................................................\n",
      "[CV] .................... C=4, score=0.6135057471264368, total=   0.7s\n",
      "[CV] C=4 .............................................................\n",
      "[CV] .................... C=4, score=0.6014388489208633, total=   0.6s\n",
      "[CV] C=4 .............................................................\n",
      "[CV] .................... C=4, score=0.6158273381294964, total=   0.7s\n",
      "[CV] C=4 .............................................................\n",
      "[CV] .................... C=4, score=0.6115107913669064, total=   0.6s\n",
      "[CV] C=4 .............................................................\n",
      "[CV] .................... C=4, score=0.6167146974063401, total=   0.7s\n",
      "[CV] C=4 .............................................................\n",
      "[CV] .................... C=4, score=0.6210374639769453, total=   0.7s\n",
      "[CV] C=4 .............................................................\n",
      "[CV] .................... C=4, score=0.6268011527377522, total=   0.7s\n"
     ]
    },
    {
     "name": "stderr",
     "output_type": "stream",
     "text": [
      "[Parallel(n_jobs=1)]: Done  50 out of  50 | elapsed: 95.0min finished\n"
     ]
    },
    {
     "name": "stdout",
     "output_type": "stream",
     "text": [
      "Elapsed time:\n",
      "5699.460485696793\n",
      "Fitting 10 folds for each of 5 candidates, totalling 50 fits\n",
      "[CV] gamma=0.03125, C=256 ............................................\n",
      "[CV] ... gamma=0.03125, C=256, score=0.6212338593974175, total=   8.7s\n",
      "[CV] gamma=0.03125, C=256 ............................................\n"
     ]
    },
    {
     "name": "stderr",
     "output_type": "stream",
     "text": [
      "[Parallel(n_jobs=1)]: Done   1 out of   1 | elapsed:    9.5s remaining:    0.0s\n"
     ]
    },
    {
     "name": "stdout",
     "output_type": "stream",
     "text": [
      "[CV] ... gamma=0.03125, C=256, score=0.6169296987087518, total=   9.3s\n",
      "[CV] gamma=0.03125, C=256 ............................................\n"
     ]
    },
    {
     "name": "stderr",
     "output_type": "stream",
     "text": [
      "[Parallel(n_jobs=1)]: Done   2 out of   2 | elapsed:   19.5s remaining:    0.0s\n"
     ]
    },
    {
     "name": "stdout",
     "output_type": "stream",
     "text": [
      "[CV] ... gamma=0.03125, C=256, score=0.6226685796269728, total=  10.6s\n",
      "[CV] gamma=0.03125, C=256 ............................................\n"
     ]
    },
    {
     "name": "stderr",
     "output_type": "stream",
     "text": [
      "[Parallel(n_jobs=1)]: Done   3 out of   3 | elapsed:   30.9s remaining:    0.0s\n"
     ]
    },
    {
     "name": "stdout",
     "output_type": "stream",
     "text": [
      "[CV] .... gamma=0.03125, C=256, score=0.617816091954023, total=   9.9s\n",
      "[CV] gamma=0.03125, C=256 ............................................\n"
     ]
    },
    {
     "name": "stderr",
     "output_type": "stream",
     "text": [
      "[Parallel(n_jobs=1)]: Done   4 out of   4 | elapsed:   41.5s remaining:    0.0s\n"
     ]
    },
    {
     "name": "stdout",
     "output_type": "stream",
     "text": [
      "[CV] ... gamma=0.03125, C=256, score=0.6158273381294964, total=   9.7s\n",
      "[CV] gamma=0.03125, C=256 ............................................\n",
      "[CV] ... gamma=0.03125, C=256, score=0.6201438848920864, total=  10.5s\n",
      "[CV] gamma=0.03125, C=256 ............................................\n",
      "[CV] ... gamma=0.03125, C=256, score=0.6215827338129496, total=  13.1s\n",
      "[CV] gamma=0.03125, C=256 ............................................\n",
      "[CV] ... gamma=0.03125, C=256, score=0.6138328530259366, total=   8.9s\n",
      "[CV] gamma=0.03125, C=256 ............................................\n",
      "[CV] ... gamma=0.03125, C=256, score=0.6296829971181557, total=  11.4s\n",
      "[CV] gamma=0.03125, C=256 ............................................\n",
      "[CV] ... gamma=0.03125, C=256, score=0.6368876080691642, total=   8.5s\n",
      "[CV] gamma=3.0517578125e-05, C=128 ...................................\n",
      "[CV]  gamma=3.0517578125e-05, C=128, score=0.6140602582496413, total=   1.2s\n",
      "[CV] gamma=3.0517578125e-05, C=128 ...................................\n",
      "[CV]  gamma=3.0517578125e-05, C=128, score=0.624103299856528, total=   1.2s\n",
      "[CV] gamma=3.0517578125e-05, C=128 ...................................\n",
      "[CV]  gamma=3.0517578125e-05, C=128, score=0.6226685796269728, total=   1.2s\n",
      "[CV] gamma=3.0517578125e-05, C=128 ...................................\n",
      "[CV]  gamma=3.0517578125e-05, C=128, score=0.6063218390804598, total=   1.2s\n",
      "[CV] gamma=3.0517578125e-05, C=128 ...................................\n",
      "[CV]  gamma=3.0517578125e-05, C=128, score=0.6100719424460431, total=   1.2s\n",
      "[CV] gamma=3.0517578125e-05, C=128 ...................................\n",
      "[CV]  gamma=3.0517578125e-05, C=128, score=0.6158273381294964, total=   1.2s\n",
      "[CV] gamma=3.0517578125e-05, C=128 ...................................\n",
      "[CV]  gamma=3.0517578125e-05, C=128, score=0.6086330935251798, total=   1.2s\n",
      "[CV] gamma=3.0517578125e-05, C=128 ...................................\n",
      "[CV]  gamma=3.0517578125e-05, C=128, score=0.622478386167147, total=   1.2s\n",
      "[CV] gamma=3.0517578125e-05, C=128 ...................................\n",
      "[CV]  gamma=3.0517578125e-05, C=128, score=0.6181556195965417, total=   1.2s\n",
      "[CV] gamma=3.0517578125e-05, C=128 ...................................\n",
      "[CV]  gamma=3.0517578125e-05, C=128, score=0.6282420749279539, total=   1.2s\n",
      "[CV] gamma=3.0517578125e-05, C=8 .....................................\n",
      "[CV]  gamma=3.0517578125e-05, C=8, score=0.6140602582496413, total=   1.3s\n",
      "[CV] gamma=3.0517578125e-05, C=8 .....................................\n",
      "[CV]  gamma=3.0517578125e-05, C=8, score=0.6183644189383071, total=   1.3s\n",
      "[CV] gamma=3.0517578125e-05, C=8 .....................................\n",
      "[CV]  gamma=3.0517578125e-05, C=8, score=0.6111908177905309, total=   1.3s\n",
      "[CV] gamma=3.0517578125e-05, C=8 .....................................\n",
      "[CV]  gamma=3.0517578125e-05, C=8, score=0.5962643678160919, total=   1.3s\n",
      "[CV] gamma=3.0517578125e-05, C=8 .....................................\n",
      "[CV]  gamma=3.0517578125e-05, C=8, score=0.6086330935251798, total=   1.3s\n",
      "[CV] gamma=3.0517578125e-05, C=8 .....................................\n",
      "[CV]  gamma=3.0517578125e-05, C=8, score=0.6129496402877698, total=   1.3s\n",
      "[CV] gamma=3.0517578125e-05, C=8 .....................................\n",
      "[CV]  gamma=3.0517578125e-05, C=8, score=0.5928057553956835, total=   1.3s\n",
      "[CV] gamma=3.0517578125e-05, C=8 .....................................\n",
      "[CV]  gamma=3.0517578125e-05, C=8, score=0.6138328530259366, total=   1.3s\n",
      "[CV] gamma=3.0517578125e-05, C=8 .....................................\n",
      "[CV]  gamma=3.0517578125e-05, C=8, score=0.6109510086455331, total=   1.3s\n",
      "[CV] gamma=3.0517578125e-05, C=8 .....................................\n",
      "[CV]  gamma=3.0517578125e-05, C=8, score=0.6239193083573487, total=   1.3s\n",
      "[CV] gamma=0.0009765625, C=16384 .....................................\n",
      "[CV]  gamma=0.0009765625, C=16384, score=0.6197991391678622, total=  17.0s\n",
      "[CV] gamma=0.0009765625, C=16384 .....................................\n",
      "[CV]  gamma=0.0009765625, C=16384, score=0.6212338593974175, total=  18.3s\n",
      "[CV] gamma=0.0009765625, C=16384 .....................................\n",
      "[CV]  gamma=0.0009765625, C=16384, score=0.6226685796269728, total=  16.4s\n",
      "[CV] gamma=0.0009765625, C=16384 .....................................\n",
      "[CV]  gamma=0.0009765625, C=16384, score=0.6163793103448276, total=  17.1s\n",
      "[CV] gamma=0.0009765625, C=16384 .....................................\n",
      "[CV]  gamma=0.0009765625, C=16384, score=0.6071942446043166, total=  17.5s\n",
      "[CV] gamma=0.0009765625, C=16384 .....................................\n",
      "[CV]  gamma=0.0009765625, C=16384, score=0.6244604316546762, total=  17.7s\n",
      "[CV] gamma=0.0009765625, C=16384 .....................................\n",
      "[CV]  gamma=0.0009765625, C=16384, score=0.6129496402877698, total=  17.1s\n",
      "[CV] gamma=0.0009765625, C=16384 .....................................\n",
      "[CV]  gamma=0.0009765625, C=16384, score=0.6210374639769453, total=  18.7s\n",
      "[CV] gamma=0.0009765625, C=16384 .....................................\n",
      "[CV]  gamma=0.0009765625, C=16384, score=0.622478386167147, total=  18.6s\n",
      "[CV] gamma=0.0009765625, C=16384 .....................................\n",
      "[CV]  gamma=0.0009765625, C=16384, score=0.6340057636887608, total=  17.3s\n",
      "[CV] gamma=6.103515625e-05, C=1024 ...................................\n",
      "[CV]  gamma=6.103515625e-05, C=1024, score=0.6097560975609756, total=   2.5s\n",
      "[CV] gamma=6.103515625e-05, C=1024 ...................................\n",
      "[CV]  gamma=6.103515625e-05, C=1024, score=0.6212338593974175, total=   2.3s\n",
      "[CV] gamma=6.103515625e-05, C=1024 ...................................\n",
      "[CV]  gamma=6.103515625e-05, C=1024, score=0.6169296987087518, total=   2.7s\n",
      "[CV] gamma=6.103515625e-05, C=1024 ...................................\n",
      "[CV]  gamma=6.103515625e-05, C=1024, score=0.610632183908046, total=   2.6s\n",
      "[CV] gamma=6.103515625e-05, C=1024 ...................................\n",
      "[CV]  gamma=6.103515625e-05, C=1024, score=0.6057553956834533, total=   2.5s\n",
      "[CV] gamma=6.103515625e-05, C=1024 ...................................\n",
      "[CV]  gamma=6.103515625e-05, C=1024, score=0.6158273381294964, total=   2.5s\n",
      "[CV] gamma=6.103515625e-05, C=1024 ...................................\n",
      "[CV]  gamma=6.103515625e-05, C=1024, score=0.6100719424460431, total=   2.6s\n",
      "[CV] gamma=6.103515625e-05, C=1024 ...................................\n",
      "[CV]  gamma=6.103515625e-05, C=1024, score=0.6181556195965417, total=   2.5s\n",
      "[CV] gamma=6.103515625e-05, C=1024 ...................................\n",
      "[CV]  gamma=6.103515625e-05, C=1024, score=0.6210374639769453, total=   2.5s\n",
      "[CV] gamma=6.103515625e-05, C=1024 ...................................\n",
      "[CV]  gamma=6.103515625e-05, C=1024, score=0.6253602305475504, total=   2.6s\n"
     ]
    },
    {
     "name": "stderr",
     "output_type": "stream",
     "text": [
      "[Parallel(n_jobs=1)]: Done  50 out of  50 | elapsed:  6.1min finished\n"
     ]
    },
    {
     "name": "stdout",
     "output_type": "stream",
     "text": [
      "Elapsed time:\n",
      "379.179975271225\n",
      "Fitting 10 folds for each of 5 candidates, totalling 50 fits\n",
      "[CV] gamma=0.000244140625, C=8192 ....................................\n",
      "[CV]  gamma=0.000244140625, C=8192, score=0.4648493543758967, total=   0.8s\n",
      "[CV] gamma=0.000244140625, C=8192 ....................................\n"
     ]
    },
    {
     "name": "stderr",
     "output_type": "stream",
     "text": [
      "[Parallel(n_jobs=1)]: Done   1 out of   1 | elapsed:    1.2s remaining:    0.0s\n"
     ]
    },
    {
     "name": "stdout",
     "output_type": "stream",
     "text": [
      "[CV]  gamma=0.000244140625, C=8192, score=0.46915351506456243, total=   0.8s\n",
      "[CV] gamma=0.000244140625, C=8192 ....................................\n"
     ]
    },
    {
     "name": "stderr",
     "output_type": "stream",
     "text": [
      "[Parallel(n_jobs=1)]: Done   2 out of   2 | elapsed:    2.5s remaining:    0.0s\n"
     ]
    },
    {
     "name": "stdout",
     "output_type": "stream",
     "text": [
      "[CV]  gamma=0.000244140625, C=8192, score=0.46628407460545196, total=   0.8s\n",
      "[CV] gamma=0.000244140625, C=8192 ....................................\n"
     ]
    },
    {
     "name": "stderr",
     "output_type": "stream",
     "text": [
      "[Parallel(n_jobs=1)]: Done   3 out of   3 | elapsed:    3.8s remaining:    0.0s\n"
     ]
    },
    {
     "name": "stdout",
     "output_type": "stream",
     "text": [
      "[CV]  gamma=0.000244140625, C=8192, score=0.46551724137931033, total=   0.8s\n",
      "[CV] gamma=0.000244140625, C=8192 ....................................\n"
     ]
    },
    {
     "name": "stderr",
     "output_type": "stream",
     "text": [
      "[Parallel(n_jobs=1)]: Done   4 out of   4 | elapsed:    5.0s remaining:    0.0s\n"
     ]
    },
    {
     "name": "stdout",
     "output_type": "stream",
     "text": [
      "[CV]  gamma=0.000244140625, C=8192, score=0.46618705035971225, total=   0.7s\n",
      "[CV] gamma=0.000244140625, C=8192 ....................................\n",
      "[CV]  gamma=0.000244140625, C=8192, score=0.46474820143884893, total=   0.8s\n",
      "[CV] gamma=0.000244140625, C=8192 ....................................\n",
      "[CV]  gamma=0.000244140625, C=8192, score=0.4618705035971223, total=   0.8s\n",
      "[CV] gamma=0.000244140625, C=8192 ....................................\n",
      "[CV]  gamma=0.000244140625, C=8192, score=0.4654178674351585, total=   0.8s\n",
      "[CV] gamma=0.000244140625, C=8192 ....................................\n",
      "[CV]  gamma=0.000244140625, C=8192, score=0.46397694524495675, total=   0.8s\n",
      "[CV] gamma=0.000244140625, C=8192 ....................................\n",
      "[CV]  gamma=0.000244140625, C=8192, score=0.4654178674351585, total=   0.8s\n",
      "[CV] gamma=0.125, C=128 ..............................................\n",
      "[CV] ..... gamma=0.125, C=128, score=0.6212338593974175, total=   4.4s\n",
      "[CV] gamma=0.125, C=128 ..............................................\n",
      "[CV] ..... gamma=0.125, C=128, score=0.6183644189383071, total=   4.6s\n",
      "[CV] gamma=0.125, C=128 ..............................................\n",
      "[CV] ..... gamma=0.125, C=128, score=0.6226685796269728, total=   4.8s\n",
      "[CV] gamma=0.125, C=128 ..............................................\n",
      "[CV] ..... gamma=0.125, C=128, score=0.6221264367816092, total=   4.7s\n",
      "[CV] gamma=0.125, C=128 ..............................................\n",
      "[CV] ..... gamma=0.125, C=128, score=0.6187050359712231, total=   4.9s\n",
      "[CV] gamma=0.125, C=128 ..............................................\n",
      "[CV] ..... gamma=0.125, C=128, score=0.6201438848920864, total=   4.7s\n",
      "[CV] gamma=0.125, C=128 ..............................................\n",
      "[CV] ..... gamma=0.125, C=128, score=0.6258992805755396, total=   4.8s\n",
      "[CV] gamma=0.125, C=128 ..............................................\n",
      "[CV] ..... gamma=0.125, C=128, score=0.6181556195965417, total=   4.2s\n",
      "[CV] gamma=0.125, C=128 ..............................................\n",
      "[CV] ..... gamma=0.125, C=128, score=0.6311239193083573, total=   4.6s\n",
      "[CV] gamma=0.125, C=128 ..............................................\n",
      "[CV] ...... gamma=0.125, C=128, score=0.638328530259366, total=   4.7s\n",
      "[CV] gamma=0.5, C=2 ..................................................\n",
      "[CV] ......... gamma=0.5, C=2, score=0.6212338593974175, total=   4.4s\n",
      "[CV] gamma=0.5, C=2 ..................................................\n",
      "[CV] ......... gamma=0.5, C=2, score=0.6183644189383071, total=   4.6s\n",
      "[CV] gamma=0.5, C=2 ..................................................\n",
      "[CV] ......... gamma=0.5, C=2, score=0.6226685796269728, total=   4.8s\n",
      "[CV] gamma=0.5, C=2 ..................................................\n",
      "[CV] ......... gamma=0.5, C=2, score=0.6221264367816092, total=   4.7s\n",
      "[CV] gamma=0.5, C=2 ..................................................\n",
      "[CV] ......... gamma=0.5, C=2, score=0.6187050359712231, total=   4.9s\n",
      "[CV] gamma=0.5, C=2 ..................................................\n",
      "[CV] ......... gamma=0.5, C=2, score=0.6201438848920864, total=   4.7s\n",
      "[CV] gamma=0.5, C=2 ..................................................\n",
      "[CV] ......... gamma=0.5, C=2, score=0.6258992805755396, total=   4.8s\n",
      "[CV] gamma=0.5, C=2 ..................................................\n",
      "[CV] ......... gamma=0.5, C=2, score=0.6181556195965417, total=   4.2s\n",
      "[CV] gamma=0.5, C=2 ..................................................\n",
      "[CV] ......... gamma=0.5, C=2, score=0.6311239193083573, total=   4.6s\n",
      "[CV] gamma=0.5, C=2 ..................................................\n",
      "[CV] .......... gamma=0.5, C=2, score=0.638328530259366, total=   4.7s\n",
      "[CV] gamma=0.0078125, C=8 ............................................\n",
      "[CV] ... gamma=0.0078125, C=8, score=0.5839311334289814, total=   0.7s\n",
      "[CV] gamma=0.0078125, C=8 ............................................\n",
      "[CV] ... gamma=0.0078125, C=8, score=0.5767575322812052, total=   0.7s\n",
      "[CV] gamma=0.0078125, C=8 ............................................\n",
      "[CV] .... gamma=0.0078125, C=8, score=0.569583931133429, total=   0.7s\n",
      "[CV] gamma=0.0078125, C=8 ............................................\n",
      "[CV] ... gamma=0.0078125, C=8, score=0.5646551724137931, total=   0.7s\n",
      "[CV] gamma=0.0078125, C=8 ............................................\n",
      "[CV] ... gamma=0.0078125, C=8, score=0.5640287769784172, total=   0.7s\n",
      "[CV] gamma=0.0078125, C=8 ............................................\n",
      "[CV] ... gamma=0.0078125, C=8, score=0.5712230215827339, total=   0.7s\n",
      "[CV] gamma=0.0078125, C=8 ............................................\n",
      "[CV] ... gamma=0.0078125, C=8, score=0.5539568345323741, total=   0.7s\n",
      "[CV] gamma=0.0078125, C=8 ............................................\n",
      "[CV] .... gamma=0.0078125, C=8, score=0.569164265129683, total=   0.7s\n",
      "[CV] gamma=0.0078125, C=8 ............................................\n",
      "[CV] ... gamma=0.0078125, C=8, score=0.5835734870317003, total=   0.7s\n",
      "[CV] gamma=0.0078125, C=8 ............................................\n",
      "[CV] ... gamma=0.0078125, C=8, score=0.5835734870317003, total=   0.7s\n",
      "[CV] gamma=6.103515625e-05, C=256 ....................................\n",
      "[CV]  gamma=6.103515625e-05, C=256, score=0.4619799139167862, total=   0.7s\n",
      "[CV] gamma=6.103515625e-05, C=256 ....................................\n",
      "[CV]  gamma=6.103515625e-05, C=256, score=0.4619799139167862, total=   0.7s\n",
      "[CV] gamma=6.103515625e-05, C=256 ....................................\n",
      "[CV]  gamma=6.103515625e-05, C=256, score=0.4619799139167862, total=   0.8s\n",
      "[CV] gamma=6.103515625e-05, C=256 ....................................\n",
      "[CV]  gamma=6.103515625e-05, C=256, score=0.46264367816091956, total=   0.8s\n",
      "[CV] gamma=6.103515625e-05, C=256 ....................................\n",
      "[CV]  gamma=6.103515625e-05, C=256, score=0.4618705035971223, total=   0.7s\n",
      "[CV] gamma=6.103515625e-05, C=256 ....................................\n",
      "[CV]  gamma=6.103515625e-05, C=256, score=0.4618705035971223, total=   0.7s\n",
      "[CV] gamma=6.103515625e-05, C=256 ....................................\n",
      "[CV]  gamma=6.103515625e-05, C=256, score=0.4618705035971223, total=   0.8s\n",
      "[CV] gamma=6.103515625e-05, C=256 ....................................\n",
      "[CV]  gamma=6.103515625e-05, C=256, score=0.46253602305475505, total=   0.7s\n",
      "[CV] gamma=6.103515625e-05, C=256 ....................................\n",
      "[CV]  gamma=6.103515625e-05, C=256, score=0.46253602305475505, total=   0.8s\n",
      "[CV] gamma=6.103515625e-05, C=256 ....................................\n",
      "[CV]  gamma=6.103515625e-05, C=256, score=0.46253602305475505, total=   0.8s\n"
     ]
    },
    {
     "name": "stderr",
     "output_type": "stream",
     "text": [
      "[Parallel(n_jobs=1)]: Done  50 out of  50 | elapsed:  2.3min finished\n"
     ]
    },
    {
     "name": "stdout",
     "output_type": "stream",
     "text": [
      "Elapsed time:\n",
      "141.25710535049438\n",
      "Fitting 10 folds for each of 5 candidates, totalling 50 fits\n",
      "[CV] gamma=0.0078125, C=1024 .........................................\n",
      "[CV]  gamma=0.0078125, C=1024, score=0.47058823529411764, total=   1.3s\n",
      "[CV] gamma=0.0078125, C=1024 .........................................\n"
     ]
    },
    {
     "name": "stderr",
     "output_type": "stream",
     "text": [
      "[Parallel(n_jobs=1)]: Done   1 out of   1 | elapsed:    1.9s remaining:    0.0s\n"
     ]
    },
    {
     "name": "stdout",
     "output_type": "stream",
     "text": [
      "[CV]  gamma=0.0078125, C=1024, score=0.4921090387374462, total=   1.2s\n",
      "[CV] gamma=0.0078125, C=1024 .........................................\n"
     ]
    },
    {
     "name": "stderr",
     "output_type": "stream",
     "text": [
      "[Parallel(n_jobs=1)]: Done   2 out of   2 | elapsed:    3.8s remaining:    0.0s\n"
     ]
    },
    {
     "name": "stdout",
     "output_type": "stream",
     "text": [
      "[CV]  gamma=0.0078125, C=1024, score=0.5050215208034433, total=   1.3s\n",
      "[CV] gamma=0.0078125, C=1024 .........................................\n"
     ]
    },
    {
     "name": "stderr",
     "output_type": "stream",
     "text": [
      "[Parallel(n_jobs=1)]: Done   3 out of   3 | elapsed:    5.7s remaining:    0.0s\n"
     ]
    },
    {
     "name": "stdout",
     "output_type": "stream",
     "text": [
      "[CV]  gamma=0.0078125, C=1024, score=0.46551724137931033, total=   1.2s\n",
      "[CV] gamma=0.0078125, C=1024 .........................................\n"
     ]
    },
    {
     "name": "stderr",
     "output_type": "stream",
     "text": [
      "[Parallel(n_jobs=1)]: Done   4 out of   4 | elapsed:    7.5s remaining:    0.0s\n"
     ]
    },
    {
     "name": "stdout",
     "output_type": "stream",
     "text": [
      "[CV]  gamma=0.0078125, C=1024, score=0.4848920863309353, total=   1.2s\n",
      "[CV] gamma=0.0078125, C=1024 .........................................\n",
      "[CV]  gamma=0.0078125, C=1024, score=0.5007194244604316, total=   1.2s\n",
      "[CV] gamma=0.0078125, C=1024 .........................................\n",
      "[CV]  gamma=0.0078125, C=1024, score=0.46906474820143884, total=   1.3s\n",
      "[CV] gamma=0.0078125, C=1024 .........................................\n",
      "[CV] . gamma=0.0078125, C=1024, score=0.515850144092219, total=   1.2s\n",
      "[CV] gamma=0.0078125, C=1024 .........................................\n",
      "[CV]  gamma=0.0078125, C=1024, score=0.5144092219020173, total=   1.2s\n",
      "[CV] gamma=0.0078125, C=1024 .........................................\n",
      "[CV] . gamma=0.0078125, C=1024, score=0.484149855907781, total=   1.2s\n",
      "[CV] gamma=0.0009765625, C=16 ........................................\n",
      "[CV]  gamma=0.0009765625, C=16, score=0.6126255380200861, total=   1.0s\n",
      "[CV] gamma=0.0009765625, C=16 ........................................\n",
      "[CV]  gamma=0.0009765625, C=16, score=0.624103299856528, total=   1.0s\n",
      "[CV] gamma=0.0009765625, C=16 ........................................\n",
      "[CV]  gamma=0.0009765625, C=16, score=0.6183644189383071, total=   1.0s\n",
      "[CV] gamma=0.0009765625, C=16 ........................................\n",
      "[CV]  gamma=0.0009765625, C=16, score=0.610632183908046, total=   1.0s\n",
      "[CV] gamma=0.0009765625, C=16 ........................................\n",
      "[CV]  gamma=0.0009765625, C=16, score=0.6086330935251798, total=   1.0s\n",
      "[CV] gamma=0.0009765625, C=16 ........................................\n",
      "[CV]  gamma=0.0009765625, C=16, score=0.6143884892086331, total=   1.0s\n",
      "[CV] gamma=0.0009765625, C=16 ........................................\n",
      "[CV]  gamma=0.0009765625, C=16, score=0.6086330935251798, total=   1.0s\n",
      "[CV] gamma=0.0009765625, C=16 ........................................\n",
      "[CV]  gamma=0.0009765625, C=16, score=0.6167146974063401, total=   1.0s\n",
      "[CV] gamma=0.0009765625, C=16 ........................................\n",
      "[CV]  gamma=0.0009765625, C=16, score=0.6167146974063401, total=   1.0s\n",
      "[CV] gamma=0.0009765625, C=16 ........................................\n",
      "[CV]  gamma=0.0009765625, C=16, score=0.6268011527377522, total=   1.0s\n",
      "[CV] gamma=0.0009765625, C=4096 ......................................\n",
      "[CV]  gamma=0.0009765625, C=4096, score=0.6083213773314203, total=   3.4s\n",
      "[CV] gamma=0.0009765625, C=4096 ......................................\n",
      "[CV]  gamma=0.0009765625, C=4096, score=0.6212338593974175, total=   3.3s\n",
      "[CV] gamma=0.0009765625, C=4096 ......................................\n",
      "[CV]  gamma=0.0009765625, C=4096, score=0.6183644189383071, total=   3.7s\n",
      "[CV] gamma=0.0009765625, C=4096 ......................................\n",
      "[CV]  gamma=0.0009765625, C=4096, score=0.6135057471264368, total=   3.6s\n",
      "[CV] gamma=0.0009765625, C=4096 ......................................\n",
      "[CV]  gamma=0.0009765625, C=4096, score=0.6014388489208633, total=   3.5s\n",
      "[CV] gamma=0.0009765625, C=4096 ......................................\n",
      "[CV]  gamma=0.0009765625, C=4096, score=0.6143884892086331, total=   3.6s\n",
      "[CV] gamma=0.0009765625, C=4096 ......................................\n",
      "[CV]  gamma=0.0009765625, C=4096, score=0.6115107913669064, total=   3.6s\n",
      "[CV] gamma=0.0009765625, C=4096 ......................................\n",
      "[CV]  gamma=0.0009765625, C=4096, score=0.6167146974063401, total=   3.3s\n",
      "[CV] gamma=0.0009765625, C=4096 ......................................\n",
      "[CV]  gamma=0.0009765625, C=4096, score=0.6195965417867435, total=   3.5s\n",
      "[CV] gamma=0.0009765625, C=4096 ......................................\n",
      "[CV]  gamma=0.0009765625, C=4096, score=0.6268011527377522, total=   3.3s\n",
      "[CV] gamma=6.103515625e-05, C=4096 ...................................\n",
      "[CV]  gamma=6.103515625e-05, C=4096, score=0.6097560975609756, total=   1.0s\n",
      "[CV] gamma=6.103515625e-05, C=4096 ...................................\n",
      "[CV]  gamma=6.103515625e-05, C=4096, score=0.6212338593974175, total=   1.0s\n",
      "[CV] gamma=6.103515625e-05, C=4096 ...................................\n",
      "[CV]  gamma=6.103515625e-05, C=4096, score=0.6183644189383071, total=   1.0s\n",
      "[CV] gamma=6.103515625e-05, C=4096 ...................................\n",
      "[CV]  gamma=6.103515625e-05, C=4096, score=0.6135057471264368, total=   1.0s\n",
      "[CV] gamma=6.103515625e-05, C=4096 ...................................\n",
      "[CV]  gamma=6.103515625e-05, C=4096, score=0.60431654676259, total=   1.0s\n",
      "[CV] gamma=6.103515625e-05, C=4096 ...................................\n",
      "[CV]  gamma=6.103515625e-05, C=4096, score=0.6158273381294964, total=   1.0s\n",
      "[CV] gamma=6.103515625e-05, C=4096 ...................................\n",
      "[CV]  gamma=6.103515625e-05, C=4096, score=0.6115107913669064, total=   1.0s\n",
      "[CV] gamma=6.103515625e-05, C=4096 ...................................\n",
      "[CV]  gamma=6.103515625e-05, C=4096, score=0.6167146974063401, total=   1.0s\n",
      "[CV] gamma=6.103515625e-05, C=4096 ...................................\n",
      "[CV]  gamma=6.103515625e-05, C=4096, score=0.6210374639769453, total=   1.0s\n",
      "[CV] gamma=6.103515625e-05, C=4096 ...................................\n",
      "[CV]  gamma=6.103515625e-05, C=4096, score=0.6268011527377522, total=   1.0s\n",
      "[CV] gamma=2, C=2 ....................................................\n",
      "[CV] .......... gamma=2, C=2, score=0.34146341463414637, total=   1.7s\n",
      "[CV] gamma=2, C=2 ....................................................\n",
      "[CV] ........... gamma=2, C=2, score=0.2783357245337159, total=   1.6s\n",
      "[CV] gamma=2, C=2 ....................................................\n",
      "[CV] ........... gamma=2, C=2, score=0.3615494978479197, total=   1.5s\n",
      "[CV] gamma=2, C=2 ....................................................\n",
      "[CV] ........... gamma=2, C=2, score=0.4166666666666667, total=   1.6s\n",
      "[CV] gamma=2, C=2 ....................................................\n",
      "[CV] ............ gamma=2, C=2, score=0.376978417266187, total=   1.8s\n",
      "[CV] gamma=2, C=2 ....................................................\n",
      "[CV] ........... gamma=2, C=2, score=0.3122302158273381, total=   1.4s\n",
      "[CV] gamma=2, C=2 ....................................................\n",
      "[CV] ........... gamma=2, C=2, score=0.3856115107913669, total=   1.6s\n",
      "[CV] gamma=2, C=2 ....................................................\n",
      "[CV] ........... gamma=2, C=2, score=0.3472622478386167, total=   1.5s\n",
      "[CV] gamma=2, C=2 ....................................................\n",
      "[CV] .......... gamma=2, C=2, score=0.35878962536023057, total=   1.6s\n",
      "[CV] gamma=2, C=2 ....................................................\n",
      "[CV] .......... gamma=2, C=2, score=0.28097982708933716, total=   1.7s\n"
     ]
    },
    {
     "name": "stderr",
     "output_type": "stream",
     "text": [
      "[Parallel(n_jobs=1)]: Done  50 out of  50 | elapsed:  2.1min finished\n"
     ]
    },
    {
     "name": "stdout",
     "output_type": "stream",
     "text": [
      "Elapsed time:\n",
      "126.41310143470764\n"
     ]
    }
   ],
   "source": [
    "for clf in param_dist_dict.keys():\n",
    "    start = time()\n",
    "    random_search[clf] = RandomizedSearchCV(classifiers[clf], param_dist_dict[clf], cv=10, n_iter=5, verbose=5, n_jobs=1, scoring='accuracy')\n",
    "    random_search[clf].fit(data_with_features_std, labels)\n",
    "    \n",
    "    experiment.save_models(random_search, name='clf_svm')\n",
    "    experiment.save_pipeline(data_preprocessing)\n",
    "    \n",
    "    print('Elapsed time:')\n",
    "    print(time() - start)"
   ]
  },
  {
   "cell_type": "markdown",
   "metadata": {},
   "source": [
    "## Savel results, models and pipeline to a .pkl file "
   ]
  },
  {
   "cell_type": "code",
   "execution_count": 15,
   "metadata": {},
   "outputs": [],
   "source": [
    "from sklearn.pipeline import Pipeline\n",
    "\n",
    "data_preprocessing = Pipeline([('remove_sensor_15', tf_remove_sensor_15),\n",
    "                               ('remove_info', tf_remove_info),\n",
    "                               ('std_scaler', tf_std_scaller)\n",
    "                              ])"
   ]
  },
  {
   "cell_type": "code",
   "execution_count": 16,
   "metadata": {},
   "outputs": [],
   "source": [
    "experiment.save_models(random_search, name='clf_svm')\n",
    "experiment.save_pipeline(data_preprocessing)"
   ]
  }
 ],
 "metadata": {
  "kernelspec": {
   "display_name": "phm08ds",
   "language": "python",
   "name": "phm08ds"
  },
  "language_info": {
   "codemirror_mode": {
    "name": "ipython",
    "version": 3
   },
   "file_extension": ".py",
   "mimetype": "text/x-python",
   "name": "python",
   "nbconvert_exporter": "python",
   "pygments_lexer": "ipython3",
   "version": "3.6.6"
  }
 },
 "nbformat": 4,
 "nbformat_minor": 2
}
