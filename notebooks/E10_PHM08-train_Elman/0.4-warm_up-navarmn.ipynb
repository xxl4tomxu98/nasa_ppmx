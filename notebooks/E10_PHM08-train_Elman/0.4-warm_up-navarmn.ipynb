{
 "cells": [
  {
   "cell_type": "code",
   "execution_count": 1,
   "metadata": {},
   "outputs": [],
   "source": [
    "import pandas as pd\n",
    "import numpy as np\n",
    "import matplotlib.pyplot as plt\n",
    "from sklearn import preprocessing\n",
    "from sklearn import metrics\n",
    "import os, sys\n",
    "from pathlib import Path\n",
    "BASE_DIR = Path('.').resolve().parent.parent\n",
    "os.chdir(BASE_DIR)\n",
    "from phm08ds.models import experiment"
   ]
  },
  {
   "cell_type": "markdown",
   "metadata": {},
   "source": [
    "## Load Dataset"
   ]
  },
  {
   "cell_type": "code",
   "execution_count": 2,
   "metadata": {},
   "outputs": [
    {
     "data": {
      "text/html": [
       "<div>\n",
       "<style scoped>\n",
       "    .dataframe tbody tr th:only-of-type {\n",
       "        vertical-align: middle;\n",
       "    }\n",
       "\n",
       "    .dataframe tbody tr th {\n",
       "        vertical-align: top;\n",
       "    }\n",
       "\n",
       "    .dataframe thead th {\n",
       "        text-align: right;\n",
       "    }\n",
       "</style>\n",
       "<table border=\"1\" class=\"dataframe\">\n",
       "  <thead>\n",
       "    <tr style=\"text-align: right;\">\n",
       "      <th></th>\n",
       "      <th>unit</th>\n",
       "      <th>time_step</th>\n",
       "      <th>operational_setting_1</th>\n",
       "      <th>operational_setting_2</th>\n",
       "      <th>operational_setting_3</th>\n",
       "      <th>Sensor_0</th>\n",
       "      <th>Sensor_1</th>\n",
       "      <th>Sensor_2</th>\n",
       "      <th>Sensor_3</th>\n",
       "      <th>Sensor_4</th>\n",
       "      <th>...</th>\n",
       "      <th>Sensor_13</th>\n",
       "      <th>Sensor_14</th>\n",
       "      <th>Sensor_15</th>\n",
       "      <th>Sensor_16</th>\n",
       "      <th>Sensor_17</th>\n",
       "      <th>Sensor_18</th>\n",
       "      <th>Sensor_19</th>\n",
       "      <th>Sensor_20</th>\n",
       "      <th>Health_state</th>\n",
       "      <th>Operational_condition</th>\n",
       "    </tr>\n",
       "  </thead>\n",
       "  <tbody>\n",
       "    <tr>\n",
       "      <th>0</th>\n",
       "      <td>1</td>\n",
       "      <td>1</td>\n",
       "      <td>10.0047</td>\n",
       "      <td>0.2501</td>\n",
       "      <td>20.0</td>\n",
       "      <td>489.05</td>\n",
       "      <td>604.13</td>\n",
       "      <td>1499.45</td>\n",
       "      <td>1309.95</td>\n",
       "      <td>10.52</td>\n",
       "      <td>...</td>\n",
       "      <td>8120.83</td>\n",
       "      <td>8.6216</td>\n",
       "      <td>0.03</td>\n",
       "      <td>368</td>\n",
       "      <td>2319</td>\n",
       "      <td>100.0</td>\n",
       "      <td>28.58</td>\n",
       "      <td>17.1735</td>\n",
       "      <td>1</td>\n",
       "      <td>1</td>\n",
       "    </tr>\n",
       "    <tr>\n",
       "      <th>1</th>\n",
       "      <td>1</td>\n",
       "      <td>2</td>\n",
       "      <td>0.0015</td>\n",
       "      <td>0.0003</td>\n",
       "      <td>100.0</td>\n",
       "      <td>518.67</td>\n",
       "      <td>642.13</td>\n",
       "      <td>1584.55</td>\n",
       "      <td>1403.96</td>\n",
       "      <td>14.62</td>\n",
       "      <td>...</td>\n",
       "      <td>8132.87</td>\n",
       "      <td>8.3907</td>\n",
       "      <td>0.03</td>\n",
       "      <td>391</td>\n",
       "      <td>2388</td>\n",
       "      <td>100.0</td>\n",
       "      <td>38.99</td>\n",
       "      <td>23.3619</td>\n",
       "      <td>1</td>\n",
       "      <td>3</td>\n",
       "    </tr>\n",
       "    <tr>\n",
       "      <th>2</th>\n",
       "      <td>1</td>\n",
       "      <td>3</td>\n",
       "      <td>34.9986</td>\n",
       "      <td>0.8401</td>\n",
       "      <td>60.0</td>\n",
       "      <td>449.44</td>\n",
       "      <td>555.42</td>\n",
       "      <td>1368.17</td>\n",
       "      <td>1122.49</td>\n",
       "      <td>5.48</td>\n",
       "      <td>...</td>\n",
       "      <td>8063.84</td>\n",
       "      <td>9.3557</td>\n",
       "      <td>0.02</td>\n",
       "      <td>334</td>\n",
       "      <td>2223</td>\n",
       "      <td>100.0</td>\n",
       "      <td>14.83</td>\n",
       "      <td>8.8555</td>\n",
       "      <td>1</td>\n",
       "      <td>4</td>\n",
       "    </tr>\n",
       "    <tr>\n",
       "      <th>3</th>\n",
       "      <td>1</td>\n",
       "      <td>4</td>\n",
       "      <td>20.0031</td>\n",
       "      <td>0.7005</td>\n",
       "      <td>0.0</td>\n",
       "      <td>491.19</td>\n",
       "      <td>607.03</td>\n",
       "      <td>1488.44</td>\n",
       "      <td>1249.18</td>\n",
       "      <td>9.35</td>\n",
       "      <td>...</td>\n",
       "      <td>8052.30</td>\n",
       "      <td>9.2231</td>\n",
       "      <td>0.02</td>\n",
       "      <td>364</td>\n",
       "      <td>2324</td>\n",
       "      <td>100.0</td>\n",
       "      <td>24.42</td>\n",
       "      <td>14.7832</td>\n",
       "      <td>1</td>\n",
       "      <td>2</td>\n",
       "    </tr>\n",
       "    <tr>\n",
       "      <th>4</th>\n",
       "      <td>1</td>\n",
       "      <td>5</td>\n",
       "      <td>42.0041</td>\n",
       "      <td>0.8405</td>\n",
       "      <td>40.0</td>\n",
       "      <td>445.00</td>\n",
       "      <td>549.52</td>\n",
       "      <td>1354.48</td>\n",
       "      <td>1124.32</td>\n",
       "      <td>3.91</td>\n",
       "      <td>...</td>\n",
       "      <td>8083.67</td>\n",
       "      <td>9.2986</td>\n",
       "      <td>0.02</td>\n",
       "      <td>330</td>\n",
       "      <td>2212</td>\n",
       "      <td>100.0</td>\n",
       "      <td>10.99</td>\n",
       "      <td>6.4025</td>\n",
       "      <td>1</td>\n",
       "      <td>4</td>\n",
       "    </tr>\n",
       "  </tbody>\n",
       "</table>\n",
       "<p>5 rows × 28 columns</p>\n",
       "</div>"
      ],
      "text/plain": [
       "   unit  time_step  operational_setting_1  operational_setting_2  \\\n",
       "0     1          1                10.0047                 0.2501   \n",
       "1     1          2                 0.0015                 0.0003   \n",
       "2     1          3                34.9986                 0.8401   \n",
       "3     1          4                20.0031                 0.7005   \n",
       "4     1          5                42.0041                 0.8405   \n",
       "\n",
       "   operational_setting_3  Sensor_0  Sensor_1  Sensor_2  Sensor_3  Sensor_4  \\\n",
       "0                   20.0    489.05    604.13   1499.45   1309.95     10.52   \n",
       "1                  100.0    518.67    642.13   1584.55   1403.96     14.62   \n",
       "2                   60.0    449.44    555.42   1368.17   1122.49      5.48   \n",
       "3                    0.0    491.19    607.03   1488.44   1249.18      9.35   \n",
       "4                   40.0    445.00    549.52   1354.48   1124.32      3.91   \n",
       "\n",
       "   ...  Sensor_13  Sensor_14  Sensor_15  Sensor_16  Sensor_17  Sensor_18  \\\n",
       "0  ...    8120.83     8.6216       0.03        368       2319      100.0   \n",
       "1  ...    8132.87     8.3907       0.03        391       2388      100.0   \n",
       "2  ...    8063.84     9.3557       0.02        334       2223      100.0   \n",
       "3  ...    8052.30     9.2231       0.02        364       2324      100.0   \n",
       "4  ...    8083.67     9.2986       0.02        330       2212      100.0   \n",
       "\n",
       "   Sensor_19  Sensor_20  Health_state  Operational_condition  \n",
       "0      28.58    17.1735             1                      1  \n",
       "1      38.99    23.3619             1                      3  \n",
       "2      14.83     8.8555             1                      4  \n",
       "3      24.42    14.7832             1                      2  \n",
       "4      10.99     6.4025             1                      4  \n",
       "\n",
       "[5 rows x 28 columns]"
      ]
     },
     "execution_count": 2,
     "metadata": {},
     "output_type": "execute_result"
    }
   ],
   "source": [
    "folderpath = './phm08ds/data/files/'\n",
    "data_completed = pd.read_csv(folderpath + 'data_preprocessed.csv')\n",
    "data_completed.head()"
   ]
  },
  {
   "cell_type": "markdown",
   "metadata": {},
   "source": [
    "## Data preprocessing"
   ]
  },
  {
   "cell_type": "markdown",
   "metadata": {},
   "source": [
    "Use the pipeline and mlp"
   ]
  },
  {
   "cell_type": "code",
   "execution_count": 3,
   "metadata": {},
   "outputs": [],
   "source": [
    "from phm08ds.data.preprocessing import OperationalCondition\n",
    "data_unlabel = data_completed.drop(labels=['Health_state', 'Operational_condition'], axis=1)\n",
    "tf_op_cond = OperationalCondition()\n",
    "op_cond = tf_op_cond.fit_transform(data_unlabel.loc[0])\n",
    "\n",
    "from phm08ds.features.feature_selection import RemoveSensor\n",
    "tf_select_sensor = RemoveSensor(sensors=[4,5,7,9,15,16,17,18])\n",
    "data_important_sensors = tf_select_sensor.fit_transform(data_unlabel).iloc[:,5:]\n",
    "\n",
    "from sklearn.preprocessing import StandardScaler\n",
    "tf_std = StandardScaler()\n",
    "data_elman = tf_std.fit_transform(data_important_sensors)"
   ]
  },
  {
   "cell_type": "code",
   "execution_count": 4,
   "metadata": {},
   "outputs": [
    {
     "data": {
      "text/html": [
       "<div>\n",
       "<style scoped>\n",
       "    .dataframe tbody tr th:only-of-type {\n",
       "        vertical-align: middle;\n",
       "    }\n",
       "\n",
       "    .dataframe tbody tr th {\n",
       "        vertical-align: top;\n",
       "    }\n",
       "\n",
       "    .dataframe thead th {\n",
       "        text-align: right;\n",
       "    }\n",
       "</style>\n",
       "<table border=\"1\" class=\"dataframe\">\n",
       "  <thead>\n",
       "    <tr style=\"text-align: right;\">\n",
       "      <th></th>\n",
       "      <th>Sensor_0</th>\n",
       "      <th>Sensor_1</th>\n",
       "      <th>Sensor_2</th>\n",
       "      <th>Sensor_3</th>\n",
       "      <th>Sensor_6</th>\n",
       "      <th>Sensor_8</th>\n",
       "      <th>Sensor_10</th>\n",
       "      <th>Sensor_11</th>\n",
       "      <th>Sensor_12</th>\n",
       "      <th>Sensor_13</th>\n",
       "      <th>Sensor_14</th>\n",
       "      <th>Sensor_19</th>\n",
       "      <th>Sensor_20</th>\n",
       "    </tr>\n",
       "  </thead>\n",
       "  <tbody>\n",
       "    <tr>\n",
       "      <th>0</th>\n",
       "      <td>489.05</td>\n",
       "      <td>604.13</td>\n",
       "      <td>1499.45</td>\n",
       "      <td>1309.95</td>\n",
       "      <td>394.88</td>\n",
       "      <td>8770.20</td>\n",
       "      <td>45.40</td>\n",
       "      <td>372.15</td>\n",
       "      <td>2388.13</td>\n",
       "      <td>8120.83</td>\n",
       "      <td>8.6216</td>\n",
       "      <td>28.58</td>\n",
       "      <td>17.1735</td>\n",
       "    </tr>\n",
       "    <tr>\n",
       "      <th>1</th>\n",
       "      <td>518.67</td>\n",
       "      <td>642.13</td>\n",
       "      <td>1584.55</td>\n",
       "      <td>1403.96</td>\n",
       "      <td>553.67</td>\n",
       "      <td>9045.76</td>\n",
       "      <td>47.29</td>\n",
       "      <td>521.81</td>\n",
       "      <td>2388.15</td>\n",
       "      <td>8132.87</td>\n",
       "      <td>8.3907</td>\n",
       "      <td>38.99</td>\n",
       "      <td>23.3619</td>\n",
       "    </tr>\n",
       "    <tr>\n",
       "      <th>2</th>\n",
       "      <td>449.44</td>\n",
       "      <td>555.42</td>\n",
       "      <td>1368.17</td>\n",
       "      <td>1122.49</td>\n",
       "      <td>194.93</td>\n",
       "      <td>8343.91</td>\n",
       "      <td>41.92</td>\n",
       "      <td>183.26</td>\n",
       "      <td>2387.95</td>\n",
       "      <td>8063.84</td>\n",
       "      <td>9.3557</td>\n",
       "      <td>14.83</td>\n",
       "      <td>8.8555</td>\n",
       "    </tr>\n",
       "    <tr>\n",
       "      <th>3</th>\n",
       "      <td>491.19</td>\n",
       "      <td>607.03</td>\n",
       "      <td>1488.44</td>\n",
       "      <td>1249.18</td>\n",
       "      <td>334.82</td>\n",
       "      <td>8721.53</td>\n",
       "      <td>44.26</td>\n",
       "      <td>314.84</td>\n",
       "      <td>2388.07</td>\n",
       "      <td>8052.30</td>\n",
       "      <td>9.2231</td>\n",
       "      <td>24.42</td>\n",
       "      <td>14.7832</td>\n",
       "    </tr>\n",
       "    <tr>\n",
       "      <th>4</th>\n",
       "      <td>445.00</td>\n",
       "      <td>549.52</td>\n",
       "      <td>1354.48</td>\n",
       "      <td>1124.32</td>\n",
       "      <td>138.24</td>\n",
       "      <td>8314.56</td>\n",
       "      <td>41.79</td>\n",
       "      <td>130.44</td>\n",
       "      <td>2387.89</td>\n",
       "      <td>8083.67</td>\n",
       "      <td>9.2986</td>\n",
       "      <td>10.99</td>\n",
       "      <td>6.4025</td>\n",
       "    </tr>\n",
       "  </tbody>\n",
       "</table>\n",
       "</div>"
      ],
      "text/plain": [
       "   Sensor_0  Sensor_1  Sensor_2  Sensor_3  Sensor_6  Sensor_8  Sensor_10  \\\n",
       "0    489.05    604.13   1499.45   1309.95    394.88   8770.20      45.40   \n",
       "1    518.67    642.13   1584.55   1403.96    553.67   9045.76      47.29   \n",
       "2    449.44    555.42   1368.17   1122.49    194.93   8343.91      41.92   \n",
       "3    491.19    607.03   1488.44   1249.18    334.82   8721.53      44.26   \n",
       "4    445.00    549.52   1354.48   1124.32    138.24   8314.56      41.79   \n",
       "\n",
       "   Sensor_11  Sensor_12  Sensor_13  Sensor_14  Sensor_19  Sensor_20  \n",
       "0     372.15    2388.13    8120.83     8.6216      28.58    17.1735  \n",
       "1     521.81    2388.15    8132.87     8.3907      38.99    23.3619  \n",
       "2     183.26    2387.95    8063.84     9.3557      14.83     8.8555  \n",
       "3     314.84    2388.07    8052.30     9.2231      24.42    14.7832  \n",
       "4     130.44    2387.89    8083.67     9.2986      10.99     6.4025  "
      ]
     },
     "execution_count": 4,
     "metadata": {},
     "output_type": "execute_result"
    }
   ],
   "source": [
    "data_important_sensors.head()"
   ]
  },
  {
   "cell_type": "code",
   "execution_count": 5,
   "metadata": {},
   "outputs": [
    {
     "data": {
      "text/plain": [
       "array([[ 0.61180613,  0.65613257,  0.7480038 , ..., -0.94547527,\n",
       "         0.78791419,  0.79220892],\n",
       "       [ 1.73123631,  1.67242914,  1.54867518, ..., -1.25259429,\n",
       "         1.83904831,  1.83369583],\n",
       "       [-0.88517663, -0.64659916, -0.48715647, ...,  0.03094771,\n",
       "        -0.60047142, -0.60768251],\n",
       "       ...,\n",
       "       [-1.05297778, -0.79369471, -0.57145747, ...,  0.19986982,\n",
       "        -1.05081322, -1.05496448],\n",
       "       [-0.88517663, -0.61637771, -0.37538237, ...,  0.11806896,\n",
       "        -0.61359797, -0.63787493],\n",
       "       [-0.39008766, -1.12693301, -1.36704821, ...,  2.18450507,\n",
       "        -0.66509446, -0.6654924 ]])"
      ]
     },
     "execution_count": 5,
     "metadata": {},
     "output_type": "execute_result"
    }
   ],
   "source": [
    "data_elman"
   ]
  },
  {
   "cell_type": "code",
   "execution_count": 6,
   "metadata": {},
   "outputs": [],
   "source": [
    "labels = np.array(data_completed['Health_state'])"
   ]
  },
  {
   "cell_type": "code",
   "execution_count": 7,
   "metadata": {},
   "outputs": [],
   "source": [
    "from sklearn.preprocessing import LabelBinarizer\n",
    "\n",
    "tf_label_binarize = LabelBinarizer(neg_label=-1)\n",
    "labels_encoded = tf_label_binarize.fit_transform(labels)"
   ]
  },
  {
   "cell_type": "code",
   "execution_count": 8,
   "metadata": {},
   "outputs": [],
   "source": [
    "data_important_sensors.to_csv('./notebooks/E10_PHM08-train_Elman/data_op_01_cleaned.csv')"
   ]
  },
  {
   "cell_type": "code",
   "execution_count": 9,
   "metadata": {},
   "outputs": [],
   "source": [
    "data_completed['Health_state'].to_csv('./notebooks/E10_PHM08-train_Elman/data_op_01_cleaned_labels.csv')"
   ]
  },
  {
   "cell_type": "markdown",
   "metadata": {},
   "source": [
    "# Classification steps"
   ]
  },
  {
   "cell_type": "markdown",
   "metadata": {},
   "source": [
    "## How to use Elman network of neurolab"
   ]
  },
  {
   "cell_type": "markdown",
   "metadata": {},
   "source": [
    "Folllowing the example at https://pythonhosted.org/neurolab/ex_newelm.html"
   ]
  },
  {
   "cell_type": "code",
   "execution_count": 10,
   "metadata": {},
   "outputs": [],
   "source": [
    "import neurolab as nl"
   ]
  },
  {
   "cell_type": "code",
   "execution_count": 11,
   "metadata": {},
   "outputs": [
    {
     "data": {
      "text/plain": [
       "[[-1.0529777759307313, 1.7312363125165662],\n",
       " [-1.1753408204944527, 1.7339418274655676],\n",
       " [-1.6419673391525405, 1.8319679582054447],\n",
       " [-1.4736907733144127, 1.979853866522363],\n",
       " [-0.994418605370454, 1.8647090189004631],\n",
       " [-1.5880108143073062, 2.058586142420622],\n",
       " [-2.09095267529294, 1.6643198057833244],\n",
       " [-0.9894413393070688, 1.863872647846903],\n",
       " [-2.3863356006116327, 0.4403704606088263],\n",
       " [-2.5182537467342794, 2.4637870778705158],\n",
       " [-1.3395825202119227, 2.327889347726539],\n",
       " [-1.0649495104567193, 1.8733792980137947],\n",
       " [-1.0669472031910918, 1.872168443711449]]"
      ]
     },
     "execution_count": 11,
     "metadata": {},
     "output_type": "execute_result"
    }
   ],
   "source": [
    "min_list = []\n",
    "max_list = []\n",
    "\n",
    "for feature in range(0,data_elman.shape[1]):\n",
    "    min_list.append(data_elman[:,feature].min())\n",
    "    max_list.append(data_elman[:,feature].max())\n",
    "    \n",
    "min_max_list = list(map(list, list(zip(min_list, max_list))))\n",
    "min_max_list"
   ]
  },
  {
   "cell_type": "code",
   "execution_count": 12,
   "metadata": {},
   "outputs": [],
   "source": [
    "elman_clf = nl.net.newelm(min_max_list, [50,4], [nl.trans.TanSig(), nl.trans.PureLin()])"
   ]
  },
  {
   "cell_type": "code",
   "execution_count": 13,
   "metadata": {},
   "outputs": [],
   "source": [
    "# Set initialized functions and init\n",
    "elman_clf.layers[0].initf = nl.init.InitRand([-0.01, 0.01], 'w')\n",
    "elman_clf.layers[1].initf= nl.init.InitRand([-0.01, 0.01], 'w')\n",
    "\n",
    "# elman_clf.layers[0].initf = nl.init.initnw(1)\n",
    "# elman_clf.layers[1].initf= nl.init.initnw([-0.1, 0.1], 'wb')\n",
    "elman_clf.init()"
   ]
  },
  {
   "cell_type": "code",
   "execution_count": 14,
   "metadata": {},
   "outputs": [
    {
     "name": "stdout",
     "output_type": "stream",
     "text": [
      "Epoch: 1; Error: 1.1399822702237228;\n",
      "Epoch: 2; Error: 0.9933037950000556;\n"
     ]
    },
    {
     "name": "stderr",
     "output_type": "stream",
     "text": [
      "/Users/tomxu/miniforge3/envs/ml/lib/python3.9/site-packages/neurolab/tool.py:187: RuntimeWarning: overflow encountered in multiply\n",
      "  dS = np.sum(net.layers[next].np['w'] * delt[next], axis=0)\n",
      "/Users/tomxu/miniforge3/envs/ml/lib/python3.9/site-packages/neurolab/tool.py:188: RuntimeWarning: invalid value encountered in multiply\n",
      "  delt[ln] = dS * layer.transf.deriv(layer.s, layer.out)\n"
     ]
    },
    {
     "name": "stdout",
     "output_type": "stream",
     "text": [
      "Epoch: 3; Error: nan;\n",
      "Epoch: 4; Error: nan;\n",
      "Epoch: 5; Error: nan;\n",
      "Epoch: 6; Error: nan;\n",
      "Epoch: 7; Error: nan;\n",
      "Epoch: 8; Error: nan;\n",
      "Epoch: 9; Error: nan;\n",
      "Epoch: 10; Error: nan;\n",
      "The maximum number of train epochs is reached\n"
     ]
    }
   ],
   "source": [
    "# Train network\n",
    "error = elman_clf.train(data_elman, labels_encoded, epochs=10, goal=0.1, adapt=True, show=1)\n",
    "# Simulate network\n",
    "output = elman_clf.sim(data_elman)"
   ]
  },
  {
   "cell_type": "code",
   "execution_count": 15,
   "metadata": {},
   "outputs": [
    {
     "data": {
      "text/plain": [
       "[1.1399822702237228,\n",
       " 0.9933037950000556,\n",
       " nan,\n",
       " nan,\n",
       " nan,\n",
       " nan,\n",
       " nan,\n",
       " nan,\n",
       " nan,\n",
       " nan]"
      ]
     },
     "execution_count": 15,
     "metadata": {},
     "output_type": "execute_result"
    }
   ],
   "source": [
    "error"
   ]
  },
  {
   "cell_type": "code",
   "execution_count": 16,
   "metadata": {},
   "outputs": [
    {
     "data": {
      "text/plain": [
       "[<matplotlib.lines.Line2D at 0x1249497c0>]"
      ]
     },
     "execution_count": 16,
     "metadata": {},
     "output_type": "execute_result"
    },
    {
     "data": {
      "image/png": "[encoded data removed]",
      "text/plain": [
       "<Figure size 640x480 with 1 Axes>"
      ]
     },
     "metadata": {},
     "output_type": "display_data"
    }
   ],
   "source": [
    "plt.plot(error)"
   ]
  },
  {
   "cell_type": "markdown",
   "metadata": {},
   "source": [
    "### Test the newtwork"
   ]
  },
  {
   "cell_type": "code",
   "execution_count": 17,
   "metadata": {},
   "outputs": [
    {
     "data": {
      "text/plain": [
       "array([1, 1, 1, ..., 4, 4, 4])"
      ]
     },
     "execution_count": 17,
     "metadata": {},
     "output_type": "execute_result"
    }
   ],
   "source": [
    "real_targets = labels.reshape(-1)\n",
    "real_targets"
   ]
  },
  {
   "cell_type": "code",
   "execution_count": 18,
   "metadata": {},
   "outputs": [],
   "source": [
    "predicted_targets = tf_label_binarize.inverse_transform(output)"
   ]
  },
  {
   "cell_type": "code",
   "execution_count": 19,
   "metadata": {},
   "outputs": [
    {
     "data": {
      "text/plain": [
       "[<matplotlib.lines.Line2D at 0x1236c8d90>,\n",
       " <matplotlib.lines.Line2D at 0x1236c8dc0>,\n",
       " <matplotlib.lines.Line2D at 0x1236c8df0>,\n",
       " <matplotlib.lines.Line2D at 0x1236c8ee0>]"
      ]
     },
     "execution_count": 19,
     "metadata": {},
     "output_type": "execute_result"
    },
    {
     "data": {
      "image/png": "[encoded data removed]",
      "text/plain": [
       "<Figure size 640x480 with 1 Axes>"
      ]
     },
     "metadata": {},
     "output_type": "display_data"
    }
   ],
   "source": [
    "until_to = 100\n",
    "\n",
    "plt.figure()\n",
    "plt.plot(real_targets[:until_to])\n",
    "plt.plot(output[:until_to])"
   ]
  },
  {
   "cell_type": "code",
   "execution_count": 20,
   "metadata": {},
   "outputs": [],
   "source": [
    "from sklearn.metrics import confusion_matrix\n",
    "from sklearn.metrics import accuracy_score"
   ]
  },
  {
   "cell_type": "code",
   "execution_count": 21,
   "metadata": {},
   "outputs": [
    {
     "data": {
      "text/plain": [
       "0.1100875473670456"
      ]
     },
     "execution_count": 21,
     "metadata": {},
     "output_type": "execute_result"
    }
   ],
   "source": [
    "accuracy_score(real_targets, predicted_targets)"
   ]
  },
  {
   "cell_type": "code",
   "execution_count": 22,
   "metadata": {},
   "outputs": [
    {
     "data": {
      "text/plain": [
       "array([[ 5055,     0,     0,     0],\n",
       "       [ 8278,     0,     0,     0],\n",
       "       [21467,     0,     0,     0],\n",
       "       [11118,     0,     0,     0]])"
      ]
     },
     "execution_count": 22,
     "metadata": {},
     "output_type": "execute_result"
    }
   ],
   "source": [
    "confusion_matrix(real_targets, predicted_targets)"
   ]
  }
 ],
 "metadata": {
  "kernelspec": {
   "display_name": "ml",
   "language": "python",
   "name": "python3"
  },
  "language_info": {
   "codemirror_mode": {
    "name": "ipython",
    "version": 3
   },
   "file_extension": ".py",
   "mimetype": "text/x-python",
   "name": "python",
   "nbconvert_exporter": "python",
   "pygments_lexer": "ipython3",
   "version": "3.9.15"
  },
  "vscode": {
   "interpreter": {
    "hash": "7d767c165ae2afdc7481fb4ecd3131e34ba8669dbb6910aadbc64316e65095f0"
   }
  }
 },
 "nbformat": 4,
 "nbformat_minor": 2
}
