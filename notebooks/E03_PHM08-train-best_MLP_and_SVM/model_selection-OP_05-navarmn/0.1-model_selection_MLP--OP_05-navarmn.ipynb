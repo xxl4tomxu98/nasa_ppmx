{
 "cells": [
  {
   "cell_type": "code",
   "execution_count": 1,
   "metadata": {},
   "outputs": [],
   "source": [
    "import pandas as pd\n",
    "import numpy as np\n",
    "import matplotlib.pyplot as plt\n",
    "from sklearn import preprocessing\n",
    "from sklearn import metrics\n",
    "\n",
    "import os, sys\n",
    "from time import time\n",
    "\n",
    "from phm08ds.models import experiment"
   ]
  },
  {
   "cell_type": "markdown",
   "metadata": {},
   "source": [
    "## Load Dataset"
   ]
  },
  {
   "cell_type": "code",
   "execution_count": 2,
   "metadata": {},
   "outputs": [
    {
     "data": {
      "text/html": [
       "<div>\n",
       "<style scoped>\n",
       "    .dataframe tbody tr th:only-of-type {\n",
       "        vertical-align: middle;\n",
       "    }\n",
       "\n",
       "    .dataframe tbody tr th {\n",
       "        vertical-align: top;\n",
       "    }\n",
       "\n",
       "    .dataframe thead th {\n",
       "        text-align: right;\n",
       "    }\n",
       "</style>\n",
       "<table border=\"1\" class=\"dataframe\">\n",
       "  <thead>\n",
       "    <tr style=\"text-align: right;\">\n",
       "      <th></th>\n",
       "      <th>unit</th>\n",
       "      <th>time_step</th>\n",
       "      <th>operational_setting_1</th>\n",
       "      <th>operational_setting_2</th>\n",
       "      <th>operational_setting_3</th>\n",
       "      <th>Sensor_2</th>\n",
       "      <th>Sensor_3</th>\n",
       "      <th>Sensor_4</th>\n",
       "      <th>Sensor_7</th>\n",
       "      <th>Sensor_11</th>\n",
       "      <th>Sensor_12</th>\n",
       "      <th>Sensor_15</th>\n",
       "      <th>Operational_condition</th>\n",
       "      <th>Health_state</th>\n",
       "    </tr>\n",
       "  </thead>\n",
       "  <tbody>\n",
       "    <tr>\n",
       "      <th>10</th>\n",
       "      <td>1</td>\n",
       "      <td>11</td>\n",
       "      <td>25.0051</td>\n",
       "      <td>0.6200</td>\n",
       "      <td>80.0</td>\n",
       "      <td>1260.50</td>\n",
       "      <td>1051.56</td>\n",
       "      <td>7.05</td>\n",
       "      <td>1915.28</td>\n",
       "      <td>165.53</td>\n",
       "      <td>2028.24</td>\n",
       "      <td>0.02</td>\n",
       "      <td>5</td>\n",
       "      <td>1</td>\n",
       "    </tr>\n",
       "    <tr>\n",
       "      <th>13</th>\n",
       "      <td>1</td>\n",
       "      <td>14</td>\n",
       "      <td>25.0073</td>\n",
       "      <td>0.6203</td>\n",
       "      <td>80.0</td>\n",
       "      <td>1262.80</td>\n",
       "      <td>1051.01</td>\n",
       "      <td>7.05</td>\n",
       "      <td>1915.24</td>\n",
       "      <td>164.63</td>\n",
       "      <td>2028.14</td>\n",
       "      <td>0.02</td>\n",
       "      <td>5</td>\n",
       "      <td>1</td>\n",
       "    </tr>\n",
       "    <tr>\n",
       "      <th>18</th>\n",
       "      <td>1</td>\n",
       "      <td>19</td>\n",
       "      <td>25.0018</td>\n",
       "      <td>0.6200</td>\n",
       "      <td>80.0</td>\n",
       "      <td>1255.21</td>\n",
       "      <td>1053.69</td>\n",
       "      <td>7.05</td>\n",
       "      <td>1915.22</td>\n",
       "      <td>165.27</td>\n",
       "      <td>2028.13</td>\n",
       "      <td>0.02</td>\n",
       "      <td>5</td>\n",
       "      <td>1</td>\n",
       "    </tr>\n",
       "    <tr>\n",
       "      <th>26</th>\n",
       "      <td>1</td>\n",
       "      <td>27</td>\n",
       "      <td>25.0031</td>\n",
       "      <td>0.6206</td>\n",
       "      <td>80.0</td>\n",
       "      <td>1267.93</td>\n",
       "      <td>1042.92</td>\n",
       "      <td>7.05</td>\n",
       "      <td>1915.28</td>\n",
       "      <td>164.90</td>\n",
       "      <td>2028.16</td>\n",
       "      <td>0.02</td>\n",
       "      <td>5</td>\n",
       "      <td>2</td>\n",
       "    </tr>\n",
       "    <tr>\n",
       "      <th>28</th>\n",
       "      <td>1</td>\n",
       "      <td>29</td>\n",
       "      <td>25.0026</td>\n",
       "      <td>0.6200</td>\n",
       "      <td>80.0</td>\n",
       "      <td>1256.53</td>\n",
       "      <td>1048.20</td>\n",
       "      <td>7.05</td>\n",
       "      <td>1915.25</td>\n",
       "      <td>164.51</td>\n",
       "      <td>2028.14</td>\n",
       "      <td>0.02</td>\n",
       "      <td>5</td>\n",
       "      <td>2</td>\n",
       "    </tr>\n",
       "  </tbody>\n",
       "</table>\n",
       "</div>"
      ],
      "text/plain": [
       "    unit  time_step  operational_setting_1  operational_setting_2  \\\n",
       "10     1         11                25.0051                 0.6200   \n",
       "13     1         14                25.0073                 0.6203   \n",
       "18     1         19                25.0018                 0.6200   \n",
       "26     1         27                25.0031                 0.6206   \n",
       "28     1         29                25.0026                 0.6200   \n",
       "\n",
       "    operational_setting_3  Sensor_2  Sensor_3  Sensor_4  Sensor_7  Sensor_11  \\\n",
       "10                   80.0   1260.50   1051.56      7.05   1915.28     165.53   \n",
       "13                   80.0   1262.80   1051.01      7.05   1915.24     164.63   \n",
       "18                   80.0   1255.21   1053.69      7.05   1915.22     165.27   \n",
       "26                   80.0   1267.93   1042.92      7.05   1915.28     164.90   \n",
       "28                   80.0   1256.53   1048.20      7.05   1915.25     164.51   \n",
       "\n",
       "    Sensor_12  Sensor_15  Operational_condition  Health_state  \n",
       "10    2028.24       0.02                      5             1  \n",
       "13    2028.14       0.02                      5             1  \n",
       "18    2028.13       0.02                      5             1  \n",
       "26    2028.16       0.02                      5             2  \n",
       "28    2028.14       0.02                      5             2  "
      ]
     },
     "execution_count": 2,
     "metadata": {},
     "output_type": "execute_result"
    }
   ],
   "source": [
    "folderpath = '../../../data/interim/'\n",
    "data_op_05 = pd.read_csv(folderpath + 'data_op_05.csv')\n",
    "data_op_05.head()"
   ]
  },
  {
   "cell_type": "markdown",
   "metadata": {},
   "source": [
    "## Data preprocessing"
   ]
  },
  {
   "cell_type": "markdown",
   "metadata": {},
   "source": [
    "### Get rid of informations there are not sensor readings"
   ]
  },
  {
   "cell_type": "markdown",
   "metadata": {},
   "source": [
    "Wang (2008) reports Sensor 15 has importat information. However, there are no relevant informations of this sensor. The data seems to be corrupted like this:"
   ]
  },
  {
   "cell_type": "markdown",
   "metadata": {},
   "source": [
    "Let's remove it from our database creating an object transformer."
   ]
  },
  {
   "cell_type": "code",
   "execution_count": 3,
   "metadata": {},
   "outputs": [
    {
     "data": {
      "text/html": [
       "<div>\n",
       "<style scoped>\n",
       "    .dataframe tbody tr th:only-of-type {\n",
       "        vertical-align: middle;\n",
       "    }\n",
       "\n",
       "    .dataframe tbody tr th {\n",
       "        vertical-align: top;\n",
       "    }\n",
       "\n",
       "    .dataframe thead th {\n",
       "        text-align: right;\n",
       "    }\n",
       "</style>\n",
       "<table border=\"1\" class=\"dataframe\">\n",
       "  <thead>\n",
       "    <tr style=\"text-align: right;\">\n",
       "      <th></th>\n",
       "      <th>unit</th>\n",
       "      <th>time_step</th>\n",
       "      <th>operational_setting_1</th>\n",
       "      <th>operational_setting_2</th>\n",
       "      <th>operational_setting_3</th>\n",
       "      <th>Sensor_2</th>\n",
       "      <th>Sensor_3</th>\n",
       "      <th>Sensor_4</th>\n",
       "      <th>Sensor_7</th>\n",
       "      <th>Sensor_11</th>\n",
       "      <th>Sensor_12</th>\n",
       "      <th>Operational_condition</th>\n",
       "      <th>Health_state</th>\n",
       "    </tr>\n",
       "  </thead>\n",
       "  <tbody>\n",
       "    <tr>\n",
       "      <th>10</th>\n",
       "      <td>1</td>\n",
       "      <td>11</td>\n",
       "      <td>25.0051</td>\n",
       "      <td>0.6200</td>\n",
       "      <td>80.0</td>\n",
       "      <td>1260.50</td>\n",
       "      <td>1051.56</td>\n",
       "      <td>7.05</td>\n",
       "      <td>1915.28</td>\n",
       "      <td>165.53</td>\n",
       "      <td>2028.24</td>\n",
       "      <td>5</td>\n",
       "      <td>1</td>\n",
       "    </tr>\n",
       "    <tr>\n",
       "      <th>13</th>\n",
       "      <td>1</td>\n",
       "      <td>14</td>\n",
       "      <td>25.0073</td>\n",
       "      <td>0.6203</td>\n",
       "      <td>80.0</td>\n",
       "      <td>1262.80</td>\n",
       "      <td>1051.01</td>\n",
       "      <td>7.05</td>\n",
       "      <td>1915.24</td>\n",
       "      <td>164.63</td>\n",
       "      <td>2028.14</td>\n",
       "      <td>5</td>\n",
       "      <td>1</td>\n",
       "    </tr>\n",
       "    <tr>\n",
       "      <th>18</th>\n",
       "      <td>1</td>\n",
       "      <td>19</td>\n",
       "      <td>25.0018</td>\n",
       "      <td>0.6200</td>\n",
       "      <td>80.0</td>\n",
       "      <td>1255.21</td>\n",
       "      <td>1053.69</td>\n",
       "      <td>7.05</td>\n",
       "      <td>1915.22</td>\n",
       "      <td>165.27</td>\n",
       "      <td>2028.13</td>\n",
       "      <td>5</td>\n",
       "      <td>1</td>\n",
       "    </tr>\n",
       "    <tr>\n",
       "      <th>26</th>\n",
       "      <td>1</td>\n",
       "      <td>27</td>\n",
       "      <td>25.0031</td>\n",
       "      <td>0.6206</td>\n",
       "      <td>80.0</td>\n",
       "      <td>1267.93</td>\n",
       "      <td>1042.92</td>\n",
       "      <td>7.05</td>\n",
       "      <td>1915.28</td>\n",
       "      <td>164.90</td>\n",
       "      <td>2028.16</td>\n",
       "      <td>5</td>\n",
       "      <td>2</td>\n",
       "    </tr>\n",
       "    <tr>\n",
       "      <th>28</th>\n",
       "      <td>1</td>\n",
       "      <td>29</td>\n",
       "      <td>25.0026</td>\n",
       "      <td>0.6200</td>\n",
       "      <td>80.0</td>\n",
       "      <td>1256.53</td>\n",
       "      <td>1048.20</td>\n",
       "      <td>7.05</td>\n",
       "      <td>1915.25</td>\n",
       "      <td>164.51</td>\n",
       "      <td>2028.14</td>\n",
       "      <td>5</td>\n",
       "      <td>2</td>\n",
       "    </tr>\n",
       "  </tbody>\n",
       "</table>\n",
       "</div>"
      ],
      "text/plain": [
       "    unit  time_step  operational_setting_1  operational_setting_2  \\\n",
       "10     1         11                25.0051                 0.6200   \n",
       "13     1         14                25.0073                 0.6203   \n",
       "18     1         19                25.0018                 0.6200   \n",
       "26     1         27                25.0031                 0.6206   \n",
       "28     1         29                25.0026                 0.6200   \n",
       "\n",
       "    operational_setting_3  Sensor_2  Sensor_3  Sensor_4  Sensor_7  Sensor_11  \\\n",
       "10                   80.0   1260.50   1051.56      7.05   1915.28     165.53   \n",
       "13                   80.0   1262.80   1051.01      7.05   1915.24     164.63   \n",
       "18                   80.0   1255.21   1053.69      7.05   1915.22     165.27   \n",
       "26                   80.0   1267.93   1042.92      7.05   1915.28     164.90   \n",
       "28                   80.0   1256.53   1048.20      7.05   1915.25     164.51   \n",
       "\n",
       "    Sensor_12  Operational_condition  Health_state  \n",
       "10    2028.24                      5             1  \n",
       "13    2028.14                      5             1  \n",
       "18    2028.13                      5             1  \n",
       "26    2028.16                      5             2  \n",
       "28    2028.14                      5             2  "
      ]
     },
     "execution_count": 3,
     "metadata": {},
     "output_type": "execute_result"
    }
   ],
   "source": [
    "from phm08ds.features.feature_selection import RemoveSensor\n",
    "\n",
    "tf_remove_sensor_15 = RemoveSensor(sensors=[15])\n",
    "data_op_05 = tf_remove_sensor_15.fit_transform(data_op_05)\n",
    "data_op_05.head()"
   ]
  },
  {
   "cell_type": "markdown",
   "metadata": {},
   "source": [
    "Before feeding to the classifier, let's remove unwanted information, such as unit, time_step and operational settings."
   ]
  },
  {
   "cell_type": "code",
   "execution_count": 4,
   "metadata": {},
   "outputs": [
    {
     "data": {
      "text/html": [
       "<div>\n",
       "<style scoped>\n",
       "    .dataframe tbody tr th:only-of-type {\n",
       "        vertical-align: middle;\n",
       "    }\n",
       "\n",
       "    .dataframe tbody tr th {\n",
       "        vertical-align: top;\n",
       "    }\n",
       "\n",
       "    .dataframe thead th {\n",
       "        text-align: right;\n",
       "    }\n",
       "</style>\n",
       "<table border=\"1\" class=\"dataframe\">\n",
       "  <thead>\n",
       "    <tr style=\"text-align: right;\">\n",
       "      <th></th>\n",
       "      <th>Sensor_2</th>\n",
       "      <th>Sensor_3</th>\n",
       "      <th>Sensor_4</th>\n",
       "      <th>Sensor_7</th>\n",
       "      <th>Sensor_11</th>\n",
       "      <th>Sensor_12</th>\n",
       "      <th>Health_state</th>\n",
       "    </tr>\n",
       "  </thead>\n",
       "  <tbody>\n",
       "    <tr>\n",
       "      <th>10</th>\n",
       "      <td>1260.50</td>\n",
       "      <td>1051.56</td>\n",
       "      <td>7.05</td>\n",
       "      <td>1915.28</td>\n",
       "      <td>165.53</td>\n",
       "      <td>2028.24</td>\n",
       "      <td>1</td>\n",
       "    </tr>\n",
       "    <tr>\n",
       "      <th>13</th>\n",
       "      <td>1262.80</td>\n",
       "      <td>1051.01</td>\n",
       "      <td>7.05</td>\n",
       "      <td>1915.24</td>\n",
       "      <td>164.63</td>\n",
       "      <td>2028.14</td>\n",
       "      <td>1</td>\n",
       "    </tr>\n",
       "    <tr>\n",
       "      <th>18</th>\n",
       "      <td>1255.21</td>\n",
       "      <td>1053.69</td>\n",
       "      <td>7.05</td>\n",
       "      <td>1915.22</td>\n",
       "      <td>165.27</td>\n",
       "      <td>2028.13</td>\n",
       "      <td>1</td>\n",
       "    </tr>\n",
       "    <tr>\n",
       "      <th>26</th>\n",
       "      <td>1267.93</td>\n",
       "      <td>1042.92</td>\n",
       "      <td>7.05</td>\n",
       "      <td>1915.28</td>\n",
       "      <td>164.90</td>\n",
       "      <td>2028.16</td>\n",
       "      <td>2</td>\n",
       "    </tr>\n",
       "    <tr>\n",
       "      <th>28</th>\n",
       "      <td>1256.53</td>\n",
       "      <td>1048.20</td>\n",
       "      <td>7.05</td>\n",
       "      <td>1915.25</td>\n",
       "      <td>164.51</td>\n",
       "      <td>2028.14</td>\n",
       "      <td>2</td>\n",
       "    </tr>\n",
       "  </tbody>\n",
       "</table>\n",
       "</div>"
      ],
      "text/plain": [
       "    Sensor_2  Sensor_3  Sensor_4  Sensor_7  Sensor_11  Sensor_12  Health_state\n",
       "10   1260.50   1051.56      7.05   1915.28     165.53    2028.24             1\n",
       "13   1262.80   1051.01      7.05   1915.24     164.63    2028.14             1\n",
       "18   1255.21   1053.69      7.05   1915.22     165.27    2028.13             1\n",
       "26   1267.93   1042.92      7.05   1915.28     164.90    2028.16             2\n",
       "28   1256.53   1048.20      7.05   1915.25     164.51    2028.14             2"
      ]
     },
     "execution_count": 4,
     "metadata": {},
     "output_type": "execute_result"
    }
   ],
   "source": [
    "from phm08ds.features.feature_selection import RemoveInfo\n",
    "\n",
    "tf_remove_info = RemoveInfo()\n",
    "\n",
    "data_with_features = tf_remove_info.fit_transform(data_op_05)\n",
    "data_with_features.head()"
   ]
  },
  {
   "cell_type": "markdown",
   "metadata": {},
   "source": [
    "We need to normalize our data. Let's use Z-score standardization."
   ]
  },
  {
   "cell_type": "code",
   "execution_count": 5,
   "metadata": {},
   "outputs": [
    {
     "data": {
      "text/plain": [
       "array([[-4.39001956e-01,  1.46599696e-01,  1.00000000e+00,\n",
       "        -4.59248267e-01,  2.83733641e+00, -2.09045391e-01],\n",
       "       [-6.08852380e-04,  6.72683790e-02,  1.00000000e+00,\n",
       "        -6.11506778e-01,  2.00798211e-01, -5.69484735e-01],\n",
       "       [-1.44730609e+00,  4.53828253e-01,  1.00000000e+00,\n",
       "        -6.87636034e-01,  2.07566982e+00, -6.05528670e-01],\n",
       "       ...,\n",
       "       [ 1.47086713e+00,  2.48326759e+00,  1.00000000e+00,\n",
       "        -1.86763949e+00, -2.38624822e-01, -1.68684670e+00],\n",
       "       [ 5.94080923e-01,  2.74001258e+00,  1.00000000e+00,\n",
       "        -1.75344561e+00, -1.00029141e+00, -1.83102244e+00],\n",
       "       [ 2.25806866e+00,  2.62894874e+00,  1.00000000e+00,\n",
       "        -2.05796263e+00, -1.11747089e+00, -1.97519818e+00]])"
      ]
     },
     "execution_count": 5,
     "metadata": {},
     "output_type": "execute_result"
    }
   ],
   "source": [
    "from sklearn.preprocessing import StandardScaler\n",
    "\n",
    "tf_std_scaller = preprocessing.StandardScaler()\n",
    "data_with_features_std = tf_std_scaller.fit_transform(data_with_features.drop(labels='Health_state', axis=1))\n",
    "data_with_features_std"
   ]
  },
  {
   "cell_type": "code",
   "execution_count": 6,
   "metadata": {},
   "outputs": [
    {
     "data": {
      "text/plain": [
       "array([1, 1, 1, ..., 4, 4, 4])"
      ]
     },
     "execution_count": 6,
     "metadata": {},
     "output_type": "execute_result"
    }
   ],
   "source": [
    "labels = np.array(data_with_features['Health_state'])\n",
    "labels"
   ]
  },
  {
   "cell_type": "markdown",
   "metadata": {},
   "source": [
    "# Classification steps"
   ]
  },
  {
   "cell_type": "code",
   "execution_count": 7,
   "metadata": {},
   "outputs": [],
   "source": [
    "from phm08ds.models import experiment"
   ]
  },
  {
   "cell_type": "markdown",
   "metadata": {},
   "source": [
    "## Load best mlp from random search"
   ]
  },
  {
   "cell_type": "code",
   "execution_count": 8,
   "metadata": {},
   "outputs": [],
   "source": [
    "from sklearn.externals import joblib\n",
    "\n",
    "random_search_mlp = joblib.load('Results/old_models/clf_mlp.pkl')\n",
    "# random_search_svm = joblib.load('Results/old_models/clf_svm.pkl')"
   ]
  },
  {
   "cell_type": "code",
   "execution_count": 9,
   "metadata": {},
   "outputs": [],
   "source": [
    "clf_mlp = random_search_mlp['MLP'].best_estimator_"
   ]
  },
  {
   "cell_type": "markdown",
   "metadata": {},
   "source": [
    "## Put all clf in a dictionary:"
   ]
  },
  {
   "cell_type": "code",
   "execution_count": 10,
   "metadata": {},
   "outputs": [],
   "source": [
    "classifiers = {'MLP': clf_mlp}"
   ]
  },
  {
   "cell_type": "markdown",
   "metadata": {},
   "source": [
    "Since we are using SVM and MLP we need to extract all power from those methods. Let's perform a Random Search to parameters optimizations."
   ]
  },
  {
   "cell_type": "code",
   "execution_count": 11,
   "metadata": {},
   "outputs": [],
   "source": [
    "kfolds = 10\n",
    "clf_outputs = experiment.run_classifiers(data_with_features_std, labels, classifiers, kfolds)"
   ]
  },
  {
   "cell_type": "markdown",
   "metadata": {},
   "source": [
    "## Performance assessment"
   ]
  },
  {
   "cell_type": "markdown",
   "metadata": {},
   "source": [
    "Saving variables in a dictionary:"
   ]
  },
  {
   "cell_type": "code",
   "execution_count": 12,
   "metadata": {},
   "outputs": [],
   "source": [
    "results = {}\n",
    "results['train'] = experiment.results_clf(4, clf_outputs['train']['true'], clf_outputs['train']['pred'])\n",
    "results['test'] = experiment.results_clf(4, clf_outputs['test']['true'], clf_outputs['test']['pred'])"
   ]
  },
  {
   "cell_type": "markdown",
   "metadata": {},
   "source": [
    "## Savel results, models and pipeline to a .pkl file "
   ]
  },
  {
   "cell_type": "code",
   "execution_count": 13,
   "metadata": {},
   "outputs": [],
   "source": [
    "from sklearn.pipeline import Pipeline\n",
    "\n",
    "data_preprocessing = Pipeline([('remove_sensor_15', tf_remove_sensor_15),\n",
    "                               ('remove_info', tf_remove_info),\n",
    "                               ('std_scaler', tf_std_scaller)\n",
    "                              ])"
   ]
  },
  {
   "cell_type": "code",
   "execution_count": 14,
   "metadata": {},
   "outputs": [],
   "source": [
    "experiment.save_models(classifiers)\n",
    "experiment.save_pipeline(data_preprocessing)"
   ]
  },
  {
   "cell_type": "markdown",
   "metadata": {},
   "source": [
    "## Save results to CSVs and figures"
   ]
  },
  {
   "cell_type": "code",
   "execution_count": 15,
   "metadata": {},
   "outputs": [
    {
     "name": "stdout",
     "output_type": "stream",
     "text": [
      "/mnt/Work/Mestrado/Mestrado/MP-Safety_ITA/Analyses_and_Experiments/PHM08_data_science/notebooks/E03_PHM08-train-best_MLP_and_SVM/model_selection-OP_05-navarmn\n",
      "MLP\n",
      "/mnt/Work/Mestrado/Mestrado/MP-Safety_ITA/Analyses_and_Experiments/PHM08_data_science/notebooks/E03_PHM08-train-best_MLP_and_SVM/model_selection-OP_05-navarmn\n",
      "MLP\n"
     ]
    }
   ],
   "source": [
    "experiment.export_results(results['test'], 'test')\n",
    "experiment.export_results(results['train'], 'train')"
   ]
  },
  {
   "cell_type": "markdown",
   "metadata": {},
   "source": [
    "## Savel results, models and pipeline to a .pkl file "
   ]
  },
  {
   "cell_type": "code",
   "execution_count": 16,
   "metadata": {},
   "outputs": [],
   "source": [
    "from sklearn.pipeline import Pipeline\n",
    "\n",
    "data_preprocessing = Pipeline([('remove_sensor_15', tf_remove_sensor_15),\n",
    "                               ('remove_info', tf_remove_info),\n",
    "                               ('std_scaler', tf_std_scaller)\n",
    "                              ])"
   ]
  },
  {
   "cell_type": "code",
   "execution_count": 17,
   "metadata": {},
   "outputs": [],
   "source": [
    "experiment.save_models(clf_mlp, name='clf_mlp')\n",
    "experiment.save_pipeline(data_preprocessing)"
   ]
  },
  {
   "cell_type": "code",
   "execution_count": null,
   "metadata": {},
   "outputs": [],
   "source": []
  }
 ],
 "metadata": {
  "kernelspec": {
   "display_name": "phm08ds",
   "language": "python",
   "name": "phm08ds"
  },
  "language_info": {
   "codemirror_mode": {
    "name": "ipython",
    "version": 3
   },
   "file_extension": ".py",
   "mimetype": "text/x-python",
   "name": "python",
   "nbconvert_exporter": "python",
   "pygments_lexer": "ipython3",
   "version": "3.6.6"
  }
 },
 "nbformat": 4,
 "nbformat_minor": 2
}
