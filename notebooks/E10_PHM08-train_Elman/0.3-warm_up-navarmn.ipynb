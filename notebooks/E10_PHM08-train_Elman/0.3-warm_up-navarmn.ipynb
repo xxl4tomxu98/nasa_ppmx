{
 "cells": [
  {
   "cell_type": "code",
   "execution_count": 1,
   "metadata": {},
   "outputs": [],
   "source": [
    "import pandas as pd\n",
    "import numpy as np\n",
    "import matplotlib.pyplot as plt\n",
    "from sklearn import preprocessing\n",
    "from sklearn import metrics\n",
    "import os, sys\n",
    "from pathlib import Path\n",
    "BASE_DIR = Path('.').resolve().parent.parent\n",
    "os.chdir(BASE_DIR)\n",
    "from phm08ds.models import experiment"
   ]
  },
  {
   "cell_type": "markdown",
   "metadata": {},
   "source": [
    "## Load Dataset"
   ]
  },
  {
   "cell_type": "code",
   "execution_count": 4,
   "metadata": {},
   "outputs": [
    {
     "name": "stdout",
     "output_type": "stream",
     "text": [
      "(45918, 28)\n"
     ]
    },
    {
     "data": {
      "text/html": [
       "<div>\n",
       "<style scoped>\n",
       "    .dataframe tbody tr th:only-of-type {\n",
       "        vertical-align: middle;\n",
       "    }\n",
       "\n",
       "    .dataframe tbody tr th {\n",
       "        vertical-align: top;\n",
       "    }\n",
       "\n",
       "    .dataframe thead th {\n",
       "        text-align: right;\n",
       "    }\n",
       "</style>\n",
       "<table border=\"1\" class=\"dataframe\">\n",
       "  <thead>\n",
       "    <tr style=\"text-align: right;\">\n",
       "      <th></th>\n",
       "      <th>unit</th>\n",
       "      <th>time_step</th>\n",
       "      <th>operational_setting_1</th>\n",
       "      <th>operational_setting_2</th>\n",
       "      <th>operational_setting_3</th>\n",
       "      <th>Sensor_0</th>\n",
       "      <th>Sensor_1</th>\n",
       "      <th>Sensor_2</th>\n",
       "      <th>Sensor_3</th>\n",
       "      <th>Sensor_4</th>\n",
       "      <th>...</th>\n",
       "      <th>Sensor_13</th>\n",
       "      <th>Sensor_14</th>\n",
       "      <th>Sensor_15</th>\n",
       "      <th>Sensor_16</th>\n",
       "      <th>Sensor_17</th>\n",
       "      <th>Sensor_18</th>\n",
       "      <th>Sensor_19</th>\n",
       "      <th>Sensor_20</th>\n",
       "      <th>Health_state</th>\n",
       "      <th>Operational_condition</th>\n",
       "    </tr>\n",
       "  </thead>\n",
       "  <tbody>\n",
       "    <tr>\n",
       "      <th>0</th>\n",
       "      <td>1</td>\n",
       "      <td>1</td>\n",
       "      <td>10.0047</td>\n",
       "      <td>0.2501</td>\n",
       "      <td>20.0</td>\n",
       "      <td>489.05</td>\n",
       "      <td>604.13</td>\n",
       "      <td>1499.45</td>\n",
       "      <td>1309.95</td>\n",
       "      <td>10.52</td>\n",
       "      <td>...</td>\n",
       "      <td>8120.83</td>\n",
       "      <td>8.6216</td>\n",
       "      <td>0.03</td>\n",
       "      <td>368</td>\n",
       "      <td>2319</td>\n",
       "      <td>100.0</td>\n",
       "      <td>28.58</td>\n",
       "      <td>17.1735</td>\n",
       "      <td>1</td>\n",
       "      <td>1</td>\n",
       "    </tr>\n",
       "    <tr>\n",
       "      <th>1</th>\n",
       "      <td>1</td>\n",
       "      <td>2</td>\n",
       "      <td>0.0015</td>\n",
       "      <td>0.0003</td>\n",
       "      <td>100.0</td>\n",
       "      <td>518.67</td>\n",
       "      <td>642.13</td>\n",
       "      <td>1584.55</td>\n",
       "      <td>1403.96</td>\n",
       "      <td>14.62</td>\n",
       "      <td>...</td>\n",
       "      <td>8132.87</td>\n",
       "      <td>8.3907</td>\n",
       "      <td>0.03</td>\n",
       "      <td>391</td>\n",
       "      <td>2388</td>\n",
       "      <td>100.0</td>\n",
       "      <td>38.99</td>\n",
       "      <td>23.3619</td>\n",
       "      <td>1</td>\n",
       "      <td>3</td>\n",
       "    </tr>\n",
       "    <tr>\n",
       "      <th>2</th>\n",
       "      <td>1</td>\n",
       "      <td>3</td>\n",
       "      <td>34.9986</td>\n",
       "      <td>0.8401</td>\n",
       "      <td>60.0</td>\n",
       "      <td>449.44</td>\n",
       "      <td>555.42</td>\n",
       "      <td>1368.17</td>\n",
       "      <td>1122.49</td>\n",
       "      <td>5.48</td>\n",
       "      <td>...</td>\n",
       "      <td>8063.84</td>\n",
       "      <td>9.3557</td>\n",
       "      <td>0.02</td>\n",
       "      <td>334</td>\n",
       "      <td>2223</td>\n",
       "      <td>100.0</td>\n",
       "      <td>14.83</td>\n",
       "      <td>8.8555</td>\n",
       "      <td>1</td>\n",
       "      <td>4</td>\n",
       "    </tr>\n",
       "    <tr>\n",
       "      <th>3</th>\n",
       "      <td>1</td>\n",
       "      <td>4</td>\n",
       "      <td>20.0031</td>\n",
       "      <td>0.7005</td>\n",
       "      <td>0.0</td>\n",
       "      <td>491.19</td>\n",
       "      <td>607.03</td>\n",
       "      <td>1488.44</td>\n",
       "      <td>1249.18</td>\n",
       "      <td>9.35</td>\n",
       "      <td>...</td>\n",
       "      <td>8052.30</td>\n",
       "      <td>9.2231</td>\n",
       "      <td>0.02</td>\n",
       "      <td>364</td>\n",
       "      <td>2324</td>\n",
       "      <td>100.0</td>\n",
       "      <td>24.42</td>\n",
       "      <td>14.7832</td>\n",
       "      <td>1</td>\n",
       "      <td>2</td>\n",
       "    </tr>\n",
       "    <tr>\n",
       "      <th>4</th>\n",
       "      <td>1</td>\n",
       "      <td>5</td>\n",
       "      <td>42.0041</td>\n",
       "      <td>0.8405</td>\n",
       "      <td>40.0</td>\n",
       "      <td>445.00</td>\n",
       "      <td>549.52</td>\n",
       "      <td>1354.48</td>\n",
       "      <td>1124.32</td>\n",
       "      <td>3.91</td>\n",
       "      <td>...</td>\n",
       "      <td>8083.67</td>\n",
       "      <td>9.2986</td>\n",
       "      <td>0.02</td>\n",
       "      <td>330</td>\n",
       "      <td>2212</td>\n",
       "      <td>100.0</td>\n",
       "      <td>10.99</td>\n",
       "      <td>6.4025</td>\n",
       "      <td>1</td>\n",
       "      <td>4</td>\n",
       "    </tr>\n",
       "  </tbody>\n",
       "</table>\n",
       "<p>5 rows × 28 columns</p>\n",
       "</div>"
      ],
      "text/plain": [
       "   unit  time_step  operational_setting_1  operational_setting_2  \\\n",
       "0     1          1                10.0047                 0.2501   \n",
       "1     1          2                 0.0015                 0.0003   \n",
       "2     1          3                34.9986                 0.8401   \n",
       "3     1          4                20.0031                 0.7005   \n",
       "4     1          5                42.0041                 0.8405   \n",
       "\n",
       "   operational_setting_3  Sensor_0  Sensor_1  Sensor_2  Sensor_3  Sensor_4  \\\n",
       "0                   20.0    489.05    604.13   1499.45   1309.95     10.52   \n",
       "1                  100.0    518.67    642.13   1584.55   1403.96     14.62   \n",
       "2                   60.0    449.44    555.42   1368.17   1122.49      5.48   \n",
       "3                    0.0    491.19    607.03   1488.44   1249.18      9.35   \n",
       "4                   40.0    445.00    549.52   1354.48   1124.32      3.91   \n",
       "\n",
       "   ...  Sensor_13  Sensor_14  Sensor_15  Sensor_16  Sensor_17  Sensor_18  \\\n",
       "0  ...    8120.83     8.6216       0.03        368       2319      100.0   \n",
       "1  ...    8132.87     8.3907       0.03        391       2388      100.0   \n",
       "2  ...    8063.84     9.3557       0.02        334       2223      100.0   \n",
       "3  ...    8052.30     9.2231       0.02        364       2324      100.0   \n",
       "4  ...    8083.67     9.2986       0.02        330       2212      100.0   \n",
       "\n",
       "   Sensor_19  Sensor_20  Health_state  Operational_condition  \n",
       "0      28.58    17.1735             1                      1  \n",
       "1      38.99    23.3619             1                      3  \n",
       "2      14.83     8.8555             1                      4  \n",
       "3      24.42    14.7832             1                      2  \n",
       "4      10.99     6.4025             1                      4  \n",
       "\n",
       "[5 rows x 28 columns]"
      ]
     },
     "execution_count": 4,
     "metadata": {},
     "output_type": "execute_result"
    }
   ],
   "source": [
    "folderpath = './phm08ds/data/files/'\n",
    "data_completed = pd.read_csv(folderpath + 'data_preprocessed.csv')\n",
    "print(data_completed.shape)\n",
    "data_completed.head()"
   ]
  },
  {
   "cell_type": "markdown",
   "metadata": {},
   "source": [
    "## Data preprocessing"
   ]
  },
  {
   "cell_type": "markdown",
   "metadata": {},
   "source": [
    "Use the pipeline and mlp"
   ]
  },
  {
   "cell_type": "code",
   "execution_count": 5,
   "metadata": {},
   "outputs": [],
   "source": [
    "from phm08ds.data.preprocessing import OperationalCondition\n",
    "data_unlabel = data_completed.drop(labels=['Health_state', 'Operational_condition'], axis=1)\n",
    "tf_op_cond = OperationalCondition()\n",
    "op_cond = tf_op_cond.fit_transform(data_unlabel.loc[0])\n",
    "\n",
    "from phm08ds.features.feature_selection import RemoveSensor\n",
    "tf_select_sensor = RemoveSensor(sensors=[1,2,3,6,8,10,11,12,13,14,19,20])\n",
    "data_important_sensors = tf_select_sensor.fit_transform(data_unlabel).iloc[:,5:]\n",
    "\n",
    "from sklearn.preprocessing import StandardScaler\n",
    "tf_std = StandardScaler()\n",
    "data_elman = tf_std.fit_transform(data_important_sensors)"
   ]
  },
  {
   "cell_type": "code",
   "execution_count": 6,
   "metadata": {},
   "outputs": [
    {
     "data": {
      "text/plain": [
       "array([[ 0.61180613,  0.68653509,  0.71411803, ...,  0.7079022 ,\n",
       "         0.62225216,  0.41984362],\n",
       "       [ 1.73123631,  1.81691912,  1.83668347, ...,  1.5341318 ,\n",
       "         1.09585304,  0.41984362],\n",
       "       [-0.88517663, -0.70301017, -0.65974064, ..., -0.51348069,\n",
       "        -0.03667081,  0.41984362],\n",
       "       ...,\n",
       "       [-1.05297778, -1.13586454, -1.0779513 , ..., -0.51348069,\n",
       "        -0.1121724 ,  0.41984362],\n",
       "       [-0.88517663, -0.70301017, -0.65974064, ..., -0.40571161,\n",
       "        -0.03667081,  0.41984362],\n",
       "       [-0.39008766, -0.27015579, -0.47081215, ..., -1.37563332,\n",
       "        -2.15071532, -2.3818392 ]])"
      ]
     },
     "execution_count": 6,
     "metadata": {},
     "output_type": "execute_result"
    }
   ],
   "source": [
    "data_elman"
   ]
  },
  {
   "cell_type": "code",
   "execution_count": 7,
   "metadata": {},
   "outputs": [],
   "source": [
    "labels = np.array(data_completed['Health_state'])"
   ]
  },
  {
   "cell_type": "code",
   "execution_count": 8,
   "metadata": {},
   "outputs": [],
   "source": [
    "from sklearn.preprocessing import LabelEncoder\n",
    "tf_label_encoder = LabelEncoder()"
   ]
  },
  {
   "cell_type": "code",
   "execution_count": 9,
   "metadata": {},
   "outputs": [
    {
     "data": {
      "text/plain": [
       "array([[1],\n",
       "       [1],\n",
       "       [1],\n",
       "       ...,\n",
       "       [4],\n",
       "       [4],\n",
       "       [4]])"
      ]
     },
     "execution_count": 9,
     "metadata": {},
     "output_type": "execute_result"
    }
   ],
   "source": [
    "labels = tf_label_encoder.fit_transform(labels) + 1\n",
    "labels = labels.reshape(labels.shape[0],1)\n",
    "labels "
   ]
  },
  {
   "cell_type": "markdown",
   "metadata": {},
   "source": [
    "# Classification steps"
   ]
  },
  {
   "cell_type": "markdown",
   "metadata": {},
   "source": [
    "## How to use Elman network of neurolab"
   ]
  },
  {
   "cell_type": "markdown",
   "metadata": {},
   "source": [
    "Folllowing the example at https://pythonhosted.org/neurolab/ex_newelm.html"
   ]
  },
  {
   "cell_type": "code",
   "execution_count": 14,
   "metadata": {},
   "outputs": [],
   "source": [
    "import neurolab as nl"
   ]
  },
  {
   "cell_type": "code",
   "execution_count": 10,
   "metadata": {},
   "outputs": [
    {
     "data": {
      "text/plain": [
       "[[-1.0529777759307313, 1.7312363125165662],\n",
       " [-1.1358645396673506, 1.8169191224769112],\n",
       " [-1.0797855524444744, 1.8366834680259683],\n",
       " [-2.1538354187812554, 1.098730161182202],\n",
       " [-1.2905496553802565, 1.6039106409075758],\n",
       " [-0.7104703701161955, 1.407518233077691],\n",
       " [-1.6270945046492944, 1.7855929859754065],\n",
       " [-2.1507153249002773, 1.0958530395659347],\n",
       " [-2.3818391992796486, 0.4198436234916414]]"
      ]
     },
     "execution_count": 10,
     "metadata": {},
     "output_type": "execute_result"
    }
   ],
   "source": [
    "min_list = []\n",
    "max_list = []\n",
    "\n",
    "for feature in range(0,data_elman.shape[1]):\n",
    "    min_list.append(data_elman[:,feature].min())\n",
    "    max_list.append(data_elman[:,feature].max())\n",
    "    \n",
    "min_max_list = list(map(list, list(zip(min_list, max_list))))\n",
    "min_max_list"
   ]
  },
  {
   "cell_type": "code",
   "execution_count": 12,
   "metadata": {},
   "outputs": [],
   "source": [
    "from sklearn.preprocessing import LabelBinarizer\n",
    "target_tf = LabelBinarizer()\n",
    "labels_encoded = target_tf.fit_transform(labels)"
   ]
  },
  {
   "cell_type": "code",
   "execution_count": 15,
   "metadata": {},
   "outputs": [],
   "source": [
    "elman_clf = nl.net.newelm(min_max_list, [50,1], [nl.trans.TanSig(), nl.trans.PureLin()])"
   ]
  },
  {
   "cell_type": "code",
   "execution_count": 16,
   "metadata": {},
   "outputs": [],
   "source": [
    "# Set initialized functions and init\n",
    "elman_clf.layers[0].initf = nl.init.InitRand([-0.1, 0.1], 'wb')\n",
    "elman_clf.layers[1].initf= nl.init.InitRand([-0.1, 0.1], 'wb')\n",
    "elman_clf.init()"
   ]
  },
  {
   "cell_type": "code",
   "execution_count": 17,
   "metadata": {},
   "outputs": [
    {
     "name": "stdout",
     "output_type": "stream",
     "text": [
      "Epoch: 1; Error: 1.4986736271212189;\n",
      "The maximum number of train epochs is reached\n"
     ]
    }
   ],
   "source": [
    "# Train network\n",
    "error = elman_clf.train(data_elman, labels, epochs=1, goal=0.1, adapt=True, show=1)\n",
    "# Simulate network\n",
    "output = elman_clf.sim(data_elman)"
   ]
  },
  {
   "cell_type": "code",
   "execution_count": 18,
   "metadata": {},
   "outputs": [
    {
     "data": {
      "text/plain": [
       "[<matplotlib.lines.Line2D at 0x15606efa0>]"
      ]
     },
     "execution_count": 18,
     "metadata": {},
     "output_type": "execute_result"
    },
    {
     "data": {
      "image/png": "[encoded data removed]",
      "text/plain": [
       "<Figure size 640x480 with 1 Axes>"
      ]
     },
     "metadata": {},
     "output_type": "display_data"
    }
   ],
   "source": [
    "plt.plot(error)"
   ]
  },
  {
   "cell_type": "markdown",
   "metadata": {},
   "source": [
    "### Test the newtwork"
   ]
  },
  {
   "cell_type": "code",
   "execution_count": 19,
   "metadata": {},
   "outputs": [
    {
     "data": {
      "text/plain": [
       "array([1, 1, 1, ..., 4, 4, 4])"
      ]
     },
     "execution_count": 19,
     "metadata": {},
     "output_type": "execute_result"
    }
   ],
   "source": [
    "real_targets = labels.reshape(-1)\n",
    "real_targets"
   ]
  },
  {
   "cell_type": "code",
   "execution_count": 20,
   "metadata": {},
   "outputs": [],
   "source": [
    "new_output = []\n",
    "\n",
    "for k in range(0,len(output)):\n",
    "    new_output.append(int(output[k].round()))"
   ]
  },
  {
   "cell_type": "code",
   "execution_count": 21,
   "metadata": {},
   "outputs": [],
   "source": [
    "predicted_targets = np.array(new_output)"
   ]
  },
  {
   "cell_type": "code",
   "execution_count": 22,
   "metadata": {},
   "outputs": [
    {
     "data": {
      "text/plain": [
       "[<matplotlib.lines.Line2D at 0x15617e160>]"
      ]
     },
     "execution_count": 22,
     "metadata": {},
     "output_type": "execute_result"
    },
    {
     "data": {
      "image/png": "[encoded data removed]",
      "text/plain": [
       "<Figure size 640x480 with 1 Axes>"
      ]
     },
     "metadata": {},
     "output_type": "display_data"
    }
   ],
   "source": [
    "until_to = 1100\n",
    "\n",
    "plt.figure()\n",
    "plt.plot(real_targets[:until_to])\n",
    "plt.plot(output[:until_to])"
   ]
  },
  {
   "cell_type": "code",
   "execution_count": 23,
   "metadata": {},
   "outputs": [],
   "source": [
    "from sklearn.metrics import confusion_matrix\n",
    "from sklearn.metrics import accuracy_score"
   ]
  },
  {
   "cell_type": "code",
   "execution_count": 24,
   "metadata": {},
   "outputs": [
    {
     "data": {
      "text/plain": [
       "0.24212727035149614"
      ]
     },
     "execution_count": 24,
     "metadata": {},
     "output_type": "execute_result"
    }
   ],
   "source": [
    "accuracy_score(real_targets, predicted_targets)"
   ]
  },
  {
   "cell_type": "code",
   "execution_count": 25,
   "metadata": {},
   "outputs": [
    {
     "data": {
      "text/plain": [
       "array([[    0,     0,     0,  5055],\n",
       "       [    0,     0,     0,  8278],\n",
       "       [    0,     0,     0, 21467],\n",
       "       [    0,     0,     0, 11118]])"
      ]
     },
     "execution_count": 25,
     "metadata": {},
     "output_type": "execute_result"
    }
   ],
   "source": [
    "confusion_matrix(real_targets, predicted_targets)"
   ]
  }
 ],
 "metadata": {
  "kernelspec": {
   "display_name": "ml",
   "language": "python",
   "name": "python3"
  },
  "language_info": {
   "codemirror_mode": {
    "name": "ipython",
    "version": 3
   },
   "file_extension": ".py",
   "mimetype": "text/x-python",
   "name": "python",
   "nbconvert_exporter": "python",
   "pygments_lexer": "ipython3",
   "version": "3.9.15"
  },
  "vscode": {
   "interpreter": {
    "hash": "7d767c165ae2afdc7481fb4ecd3131e34ba8669dbb6910aadbc64316e65095f0"
   }
  }
 },
 "nbformat": 4,
 "nbformat_minor": 2
}
